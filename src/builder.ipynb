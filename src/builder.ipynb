{
 "cells": [
  {
   "cell_type": "code",
   "execution_count": 1,
   "id": "b30b0d6b",
   "metadata": {},
   "outputs": [],
   "source": [
    "import os\n",
    "import tensorflow as tf\n",
    "from tensorflow.python.keras import layers, losses\n",
    "import matplotlib.pyplot as plt"
   ]
  },
  {
   "cell_type": "markdown",
   "id": "17a880e3",
   "metadata": {},
   "source": [
    "# Data location:"
   ]
  },
  {
   "cell_type": "code",
   "execution_count": 2,
   "id": "b859b280",
   "metadata": {
    "collapsed": false
   },
   "outputs": [],
   "source": [
    "data_location = \"../data/split\"\n",
    "\n",
    "first_category = \"inorganic\"\n",
    "second_category = \"organic\"\n",
    "\n",
    "data_folder = \"name\" + \"-\" + first_category + \"-\" + second_category"
   ]
  },
  {
   "cell_type": "code",
   "execution_count": 3,
   "id": "357677c6",
   "metadata": {
    "collapsed": false
   },
   "outputs": [
    {
     "name": "stdout",
     "output_type": "stream",
     "text": [
      "In data: ['test', 'train']\n",
      "In train: ['inorganic', 'inorganic-90%.txt', 'organic', 'organic-90%.txt']\n",
      "In test: ['inorganic', 'inorganic-10%.txt', 'organic', 'organic-10%.txt']\n"
     ]
    }
   ],
   "source": [
    "dataset_directory = os.path.join(data_location, data_folder)\n",
    "train_directory = os.path.join(dataset_directory, \"train\")\n",
    "test_directory = os.path.join(dataset_directory, \"test\")\n",
    "\n",
    "print(\"In data:\", os.listdir(dataset_directory))\n",
    "print(\"In train:\", os.listdir(train_directory))\n",
    "print(\"In test:\", os.listdir(test_directory))"
   ]
  },
  {
   "cell_type": "markdown",
   "id": "12ee3cb6",
   "metadata": {},
   "source": [
    "### Sample file:"
   ]
  },
  {
   "cell_type": "code",
   "execution_count": 4,
   "id": "c7a82a9b",
   "metadata": {},
   "outputs": [
    {
     "name": "stdout",
     "output_type": "stream",
     "text": [
      "Sample file: manganito argÃ©ntico\n",
      "\n"
     ]
    }
   ],
   "source": [
    "sample_file = os.path.join(train_directory, first_category, \"ab.txt\")\n",
    "\n",
    "print(\"Sample file:\", open(sample_file).read())"
   ]
  },
  {
   "cell_type": "markdown",
   "id": "f756c0db",
   "metadata": {},
   "source": [
    "# Data collection:"
   ]
  },
  {
   "cell_type": "code",
   "execution_count": 5,
   "id": "4386e04c",
   "metadata": {},
   "outputs": [],
   "source": [
    "seed = 32 # Random seed for data shuffling and transformations\n",
    "validation_split = 0.2 # Proportion of train data used to validate the model"
   ]
  },
  {
   "cell_type": "code",
   "execution_count": 6,
   "id": "ecc4ea5f",
   "metadata": {},
   "outputs": [
    {
     "name": "stdout",
     "output_type": "stream",
     "text": [
      "Found 25888 files belonging to 2 classes.\n",
      "Using 20711 files for training.\n"
     ]
    }
   ],
   "source": [
    "raw_train_data_source = tf.keras.preprocessing.text_dataset_from_directory(\n",
    "    train_directory,\n",
    "    subset = \"training\",\n",
    "    seed = seed,\n",
    "    validation_split = validation_split,\n",
    ")"
   ]
  },
  {
   "cell_type": "code",
   "execution_count": 7,
   "id": "4f060c1a",
   "metadata": {
    "scrolled": true
   },
   "outputs": [
    {
     "name": "stdout",
     "output_type": "stream",
     "text": [
      "Found 25888 files belonging to 2 classes.\n",
      "Using 5177 files for validation.\n"
     ]
    }
   ],
   "source": [
    "raw_validation_data_source = tf.keras.preprocessing.text_dataset_from_directory(\n",
    "    train_directory,\n",
    "    subset = \"validation\",\n",
    "    seed = seed,\n",
    "    validation_split = validation_split,\n",
    ")"
   ]
  },
  {
   "cell_type": "code",
   "execution_count": 8,
   "id": "36268a96",
   "metadata": {
    "collapsed": false
   },
   "outputs": [
    {
     "name": "stdout",
     "output_type": "stream",
     "text": [
      "Found 2876 files belonging to 2 classes.\n"
     ]
    }
   ],
   "source": [
    "raw_test_data_source = tf.keras.preprocessing.text_dataset_from_directory(\n",
    "    test_directory,\n",
    ")"
   ]
  },
  {
   "cell_type": "markdown",
   "id": "a159c081",
   "metadata": {
    "collapsed": false
   },
   "source": [
    "# Data pre-processing:"
   ]
  },
  {
   "cell_type": "code",
   "execution_count": 9,
   "id": "de24885e",
   "metadata": {},
   "outputs": [],
   "source": [
    "# Registers data_standarization\n",
    "\n",
    "# TODO use model class to avoid code repetition\n",
    "\n",
    "@tf.keras.utils.register_keras_serializable()\n",
    "def data_standardization(input_data): # CH3-CH=CH-CH(NO2)Br\n",
    "    input_data = tf.strings.lower(input_data) # ch3-ch=ch-ch(no2)br\n",
    "    input_data = tf.strings.regex_replace(input_data, \"[^a-zà-ú]\", ' ') # ch  ch ch ch no  br\n",
    "    return tf.strings.regex_replace(input_data, \"\\s+\", ' ') # ch ch ch ch no br"
   ]
  },
  {
   "cell_type": "code",
   "execution_count": 10,
   "id": "c743ab07",
   "metadata": {},
   "outputs": [],
   "source": [
    "max_features = 2048 # Sets a boundary for len(vectorize_layer.get_vocabulary())"
   ]
  },
  {
   "cell_type": "code",
   "execution_count": 11,
   "id": "a5ad8c12",
   "metadata": {},
   "outputs": [],
   "source": [
    "sequence_length = 16 # Vectorized string's dimension\n",
    "\n",
    "vectorize_layer = tf.keras.layers.experimental.preprocessing.TextVectorization(\n",
    "    output_mode = \"int\",\n",
    "    max_tokens = max_features,\n",
    "    standardize = data_standardization,\n",
    "    output_sequence_length = sequence_length\n",
    ")"
   ]
  },
  {
   "cell_type": "code",
   "execution_count": 12,
   "id": "960154cf",
   "metadata": {},
   "outputs": [],
   "source": [
    "# Makes a text-only dataset (without labels), then calls adapt\n",
    "train_text = raw_train_data_source.map(lambda x, y: x)\n",
    "vectorize_layer.adapt(train_text)"
   ]
  },
  {
   "cell_type": "code",
   "execution_count": 13,
   "id": "09a9aed6",
   "metadata": {},
   "outputs": [],
   "source": [
    "def vectorize_text(text, label):\n",
    "  text = tf.expand_dims(text, -1)\n",
    "  return vectorize_layer(text), label"
   ]
  },
  {
   "cell_type": "code",
   "execution_count": 14,
   "id": "6073a5e2",
   "metadata": {
    "scrolled": true
   },
   "outputs": [
    {
     "name": "stdout",
     "output_type": "stream",
     "text": [
      "Review: tf.Tensor(b'3-cloro-3-fluoro-1-nitropropano\\r\\n', shape=(), dtype=string)\n",
      "Label: organic\n",
      "Vectorized review: (<tf.Tensor: shape=(1, 16), dtype=int64, numpy=\n",
      "array([[  5,   6, 248,   0,   0,   0,   0,   0,   0,   0,   0,   0,   0,\n",
      "          0,   0,   0]], dtype=int64)>, <tf.Tensor: shape=(), dtype=int32, numpy=1>)\n"
     ]
    }
   ],
   "source": [
    "# Retrieves a batch of 32 reviews and labels from the dataset\n",
    "text_batch, label_batch = next(iter(raw_train_data_source))\n",
    "first_review, first_label = text_batch[0], label_batch[0]\n",
    "\n",
    "print(\"Review:\", first_review)\n",
    "print(\"Label:\", raw_train_data_source.class_names[first_label])\n",
    "print(\"Vectorized review:\", vectorize_text(first_review, first_label))"
   ]
  },
  {
   "cell_type": "code",
   "execution_count": 15,
   "id": "253bb49b",
   "metadata": {},
   "outputs": [
    {
     "name": "stdout",
     "output_type": "stream",
     "text": [
      "Vocabulary size: 2048\n"
     ]
    }
   ],
   "source": [
    "print(\"Vocabulary size:\", len(vectorize_layer.get_vocabulary()))"
   ]
  },
  {
   "cell_type": "code",
   "execution_count": 16,
   "id": "0e400c8e",
   "metadata": {},
   "outputs": [
    {
     "name": "stdout",
     "output_type": "stream",
     "text": [
      "Vocabulary: ['', 'v', 'i', 'n', 'l', 'p', 'o', 'm', 's', 'g', 'de', 'ol', 'en', 'ii', 'iv', 'in', 'vi', 'di', 'iii', 'eno', 'ona', 'bis', 'ino', 'vii', 'but', 'oro', 'hex', 'oxo', 'sec', 'oct', 'éter', 'inil', 'enil', 'etil', 'tris', 'dien', 'diol', 'prop', 'enal', 'cinc', 'buta', 'pent', 'inal', 'diin', 'yodo', 'viii', 'hexa', 'boro', 'hept', 'terc', 'neón', '[UNK]', 'bromo', 'cloro', 'metil', 'amina', 'nitro', 'amino', 'ácido', 'óxido', 'dieno', 'cromo', 'plomo', 'cobre', 'osmio', 'bario', 'sodio', 'talio', 'diino', 'trien', 'galio', 'radio', 'plata', 'litio', 'cesio', 'renio', 'penta', 'rodio', 'indio', 'cerio', 'itrio', 'dioro', 'triol', 'butil', 'tulio', 'curio', 'torio', 'diona', 'fenil', 'erbio', 'hepta', 'etano', 'etilo', 'ciano', 'eteno', 'butan', 'buten', 'hexen', 'etoxi', 'etino', 'xenón', 'vinil', 'radón', 'lejía', 'hexan', 'hasio', 'fenol', 'fluoro', 'etinil', 'propil', 'yoduro', 'etenil', 'níquel', 'hierro', 'estaño', 'dienil', 'yodato', 'uranio', 'borato', 'niobio', 'calcio', 'iridio', 'cadmio', 'trieno', 'enoico', 'yodito', 'boruro', 'diinil', 'auroso', 'gálico', 'inoico', 'sódico', 'áurico', 'bárico', 'rádico', 'lítico', 'césico', 'hafnio', 'índico', 'holmio', 'azufre', 'teluro', 'renato', 'ítrico', 'tálico', 'terbio', 'dienal', 'cérico', 'tórico', 'dietil', 'bórico', 'trioro', 'metilo', 'cúrico', 'buteno', 'amonio', 'oxobut', 'butano', 'ródico', 'rénico', 'hexeno', 'érbico', 'diyodo', 'cetona', 'octeno', 'diboro', 'yódico', 'pentan', 'octano', 'hepten', 'fenilo', 'dicinc', 'butilo', 'yodoso', 'túlico', 'triino', 'propan', 'penten', 'etanol', 'decano', 'xileno', 'vinilo', 'silano', 'ribosa', 'pentil', 'oleico', 'octino', 'nonano', 'naftol', 'metano', 'hexano', 'heptan', 'etenol', 'etanal', 'dubnio', 'diinal', 'yodobut', 'dibromo', 'dicloro', 'hidruro', 'cloruro', 'sulfuro', 'bromuro', 'hidroxi', 'diamina', 'vanadio', 'platino', 'titanio', 'sulfato', 'nitrato', 'cobalto', 'fosfato', 'sulfito', 'bismuto', 'paladio', 'nitruro', 'carburo', 'fosfuro', 'clorato', 'fosfito', 'nitrito', 'bromato', 'dinitro', 'cromato', 'clorito', 'enamida', 'bromito', 'potasio', 'berilio', 'tántalo', 'trienil', 'rutenio', 'rubidio', 'diamino', 'dimetil', 'cíncico', 'crómico', 'férrico', 'cúprico', 'cádmico', 'cuproso', 'francio', 'cromoso', 'cromito', 'ferroso', 'cálcico', 'yodohex', 'samario', 'lantano', 'carbono', 'dióxido', 'selenio', 'inamida', 'silicio', 'fósforo', 'talioso', 'hólmico', 'europio', 'dicobre', 'iterbio', 'lutecio', 'actinio', 'hexakis', 'dilitio', 'etilbut', 'dicromo', 'cerioso', 'ditalio', 'diplata', 'uránico', 'oxoprop', 'digalio', 'tetraen', 'nióbico', 'nitroso', 'irídico', 'disodio', 'diindio', 'tricinc', 'nítrico', 'háfnico', 'renioso', 'benceno', 'tulioso', 'propilo', 'propano', 'ditorio', 'butanol', 'térbico', 'dirodio', 'diosmio', 'diitrio', 'dicesio', 'dicerio', 'cianuro', 'brómico', 'rodioso', 'pentano', 'octakis', 'dicurio', 'alcohol', 'acetato', 'trienal', 'telurio', 'penteno', 'pentaen', 'oxopent', 'metanol', 'heptino', 'hepteno', 'heptano', 'ftálico', 'etilhex', 'enodial', 'ditulio', 'diradio', 'diplomo', 'dibario', 'clórico', 'cloroso', 'butanal', 'acético', 'yodooct', 'trietil', 'tolueno', 'radical', 'propeno', 'polonio', 'pentino', 'ozónido', 'oxígeno', 'oxálico', 'oxoyato', 'oxobuta', 'nobelio', 'metanal', 'maltosa', 'láctico', 'lactosa', 'kriptón', 'inodial', 'hexenal', 'hexanal', 'hexaeno', 'glucosa', 'glioxal', 'fórmico', 'fosfano', 'formato', 'etileno', 'etenona', 'direnio', 'difenil', 'dierbio', 'dibutil', 'yodoprop', 'yodoetil', 'nitrobut', 'difluoro', 'fluoruro', 'selenuro', 'telururo', 'tetrakis', 'yodoetan', 'mercurio', 'peróxido', 'yodopent', 'metilbut', 'clorobut', 'arsenuro', 'yodobuta', 'silicuro', 'telurato', 'selenito', 'aluminio', 'telurito', 'pentakis', 'selenato', 'magnesio', 'bromobut', 'circonio', 'trióxido', 'escandio', 'yodoeten', 'plúmbico', 'berílico', 'astaturo', 'estañoso', 'rubídico', 'potásico', 'plumboso', 'estáñico', 'arsénico', 'monóxido', 'titánico', 'yodohexa', 'paládico', 'etilprop', 'americio', 'nitrohex', 'fráncico', 'tecnecio', 'diyoduro', 'metilhex', 'triamina', 'plutonio', 'neptunio', 'aminobut', 'triplomo', 'tetraeno', 'vanádico', 'dihierro', 'tricobre', 'berkelio', 'tribromo', 'diboruro', 'diníquel', 'etiletil', 'clorohex', 'tribario', 'samárico', 'lutécico', 'silícico', 'európico', 'etilpent', 'trisodio', 'bromohex', 'uranioso', 'trilitio', 'iridioso', 'diuranio', 'dienoico', 'triplata', 'tricromo', 'tricloro', 'heptakis', 'etanoato', 'diniobio', 'actínico', 'triradio', 'tricesio', 'terbioso', 'teluroso', 'selénico', 'triosmio', 'niobioso', 'neodimio', 'germanio', 'etilbuta', 'diholmio', 'trimetil', 'telúrico', 'itérbico', 'hafnioso', 'tritalio', 'trirodio', 'trirenio', 'trinitro', 'propenil', 'propanol', 'promecio', 'pentaeno', 'etilhexa', 'diterbio', 'diiridio', 'dicalcio', 'yodoocta', 'yodohept', 'triamino', 'tetraoro', 'propenal', 'propanal', 'pentinal', 'metiloct', 'isobutil', 'hexanona', 'etilhept', 'diinoico', 'dihafnio', 'diestaño', 'dicadmio', 'benzoico', 'benzoato', 'yodonona', 'vanadoso', 'valérico', 'undecano', 'tritorio', 'tricerio', 'titanato', 'sacarosa', 'prometio', 'piválico', 'pirúvico', 'pentinil', 'pentenal', 'pentanol', 'pentanal', 'oxopenta', 'oganesón', 'nonadien', 'nitrooct', 'moscovio', 'metílico', 'metileno', 'malónico', 'inositol', 'heptanal', 'glicerol', 'fructosa', 'fosfanio', 'flerovio', 'etanoico', 'estánico', 'estibano', 'efedrina', 'dodecano', 'dipropil', 'dioxohex', 'dietinil', 'dietenil', 'diamonio', 'yodometil', 'nitroetil', 'nitroprop', 'hidróxido', 'manganeso', 'cloroprop', 'cloroetil', 'bromoetil', 'carbonato', 'fluorobut', 'bromoprop', 'molibdeno', 'peryodato', 'manganato', 'nitropent', 'nitroetan', 'nitrobuta', 'wolframio', 'yodoetano', 'estroncio', 'metiletil', 'yodopenta', 'metilpent', 'hidrógeno', 'metilprop', 'yodobutan', 'yodoeteno', 'yodobutil', 'isopropil', 'mercúrico', 'cobaltoso', 'argéntico', 'alumínico', 'cobáltico', 'diyodobut', 'niqueloso', 'magnésico', 'platínico', 'platinoso', 'oxoyodato', 'clorobuta', 'cloropent', 'niquélico', 'nitroeten', 'bismutoso', 'manganito', 'bismútico', 'nitrógeno', 'escándico', 'anhídrido', 'titanioso', 'mangánico', 'triyoduro', 'manganoso', 'bromopent', 'aminoprop', 'paladioso', 'nitrohexa', 'cloroetan', 'vanadioso', 'dicloruro', 'bromobuta', 'disulfuro', 'dinitruro', 'triestaño', 'difosfuro', 'dibromuro', 'dibismuto', 'antimonio', 'dihidruro', 'trifluoro', 'metilhexa', 'lantánico', 'divanadio', 'circónico', 'disprosio', 'cloroeten', 'tecnécico', 'fluorohex', 'dipotasio', 'dicobalto', 'tecnecato', 'triníquel', 'gadolinio', 'dirubidio', 'carbónico', 'yodohepta', 'europioso', 'dihidroxi', 'carbonoso', 'triniobio', 'tricalcio', 'tantaloso', 'metilbuta', 'difrancio', 'dienamida', 'bromoeten', 'bromoetan', 'arsenioso', 'aminopent', 'tricadmio', 'tetraenil', 'samarioso', 'perrénico', 'fosfórico', 'etilpenta', 'etilbutil', 'ditántalo', 'difósforo', 'aminobuta', 'trihierro', 'iterbioso', 'hexadieno', 'fosforoso', 'dititanio', 'dilantano', 'dieuropio', 'bromohexa', 'perródico', 'pentanona', 'etilhepta', 'triiridio', 'trihafnio', 'tantálico', 'sulfuroso', 'propanona', 'oxoetanal', 'nitroocta', 'ditantalo', 'dicromato', 'amerícico', 'sulfúrico', 'selenioso', 'peryódico', 'nitrohept', 'metilhept', 'metanoato', 'disamario', 'diplatino', 'diinamida', 'diberilio', 'carbamoil', 'butanoato', 'aminohexa', 'aminoeten', 'trienoico', 'propadien', 'promécico', 'octatrien', 'metanoico', 'hexenoico', 'hexanoato', 'etenamina', 'etanodial', 'etanamida', 'dilutecio', 'clorohexa', 'butinoico', 'butenoico', 'butanoico', 'butadieno', 'bromohept', 'antraceno', 'aminoetan', 'yodohexan', 'triterbio', 'tridecano', 'tricosano', 'tartárico', 'succínico', 'propileno', 'propenilo', 'plutónico', 'pentílico', 'palmítico', 'oxoyódico', 'oxitocina', 'nonenoico', 'nonadieno', 'neptúnico', 'neodímico', 'naproxeno', 'naftaleno', 'molíbdico', 'metilocta', 'metanóico', 'meitnerio', 'laurencio', 'histidina', 'hidrazina', 'heptanona', 'heptadien', 'glicólico', 'fulminato', 'etinamina', 'etilbutan', 'etilamina', 'etanodiol', 'etanamina', 'einstenio', 'diyodohex', 'dirutenio', 'dipaladio', 'dioxígeno', 'diiterbio', 'dicarburo', 'bromometil', 'nitrometil', 'clorometil', 'yodopropil', 'fluoroetil', 'yodoetenil', 'fluoroprop', 'perclorato', 'perbromato', 'antimonuro', 'yodopropan', 'hipoyodito', 'diyodoprop', 'fluorobuta', 'yodoetinil', 'diyodoetil', 'oxoclorato', 'yodobutano', 'nitropenta', 'nitroetano', 'enonitrilo', 'fluoroetan', 'etilpropil', 'nitrobutil', 'fluoropent', 'oxobromato', 'nitrobutan', 'etiletenil', 'trihidruro', 'oxonitrato', 'estróncico', 'trisulfuro', 'metilbutan', 'mercurioso', 'inonitrilo', 'nitroeteno', 'diyodoetan', 'wolframato', 'metilbutil', 'tricloruro', 'dinitrobut', 'metilpenta', 'pernióbico', 'hidroxibut', 'fluoroeten', 'cloropenta', 'tribromuro', 'peruránico', 'difluoruro', 'clorobutan', 'bromopenta', 'fluorohexa', 'diarsenuro', 'cloroetano', 'yodoetanal', 'triplatino', 'dialuminio', 'monoboruro', 'diyodopent', 'diselenuro', 'dimercurio', 'californio', 'trivanadio', 'tricarburo', 'percrómico', 'pentaóxido', 'diclorobut', 'clorobutil', 'tripotasio', 'monoyoduro', 'diyodoeten', 'diyodobuta', 'ditelururo', 'disprósico', 'dibromobut', 'triberilio', 'propadieno', 'bromobutil', 'bromobutan', 'tripaladio', 'perirídico', 'hexayoduro', 'diescandio', 'antimónico', 'yodopentan', 'yodohexano', 'tricobalto', 'tribismuto', 'nitrohepta', 'dimetilbut', 'diastaturo', 'cloroeteno', 'bromoetano', 'trititanio', 'dinitrohex', 'diarsénico', 'circonioso', 'trirubidio', 'tricarbono', 'metilhexan', 'metilhepta', 'gadolínico', 'yodopentil', 'tritántalo', 'trifrancio', 'propanoico', 'heptaóxido', 'diyodohexa', 'bromoeteno', 'americioso', 'wolfrámico', 'trisilicio', 'trienamida', 'tetratalio', 'tetralitio', 'tetracesio', 'plutonioso', 'perbrómico', 'pentenoico', 'nonatrieno', 'neptunioso', 'fluorohept', 'ditecnecio', 'dimetilhex', 'dicirconio', 'clorohepta', 'ciclohexil', 'aminoetano', 'yodoheptan', 'triiterbio', 'trieuropio', 'tetrasodio', 'tetraplata', 'tetragalio', 'tetracromo', 'tecnecioso', 'perclórico', 'octatrieno', 'isopropilo', 'inodiamida', 'hipoyodoso', 'etilpropan', 'etilpentan', 'etilhexano', 'estroncico', 'dineptunio', 'diclorohex', 'diaminobut', 'aminopenta', 'aminohepta', 'aminobutan', 'yodometano', 'yodoetinol', 'yodhídrico', 'triyodobut', 'trisamario', 'trirutenio', 'triptófano', 'trioxígeno', 'trilantano', 'trifósforo', 'tetratorio', 'tetracobre', 'tetrabromo', 'salicílico', 'salbutamol', 'roentgenio', 'propiónico', 'propenoico', 'pentenoato', 'pentanoico', 'pentanoato', 'pentametil', 'pentadieno', 'penicilina', 'oxoclórico', 'oxobutanal', 'oxobrómico', 'octadecano', 'nitroetino', 'ninhidrina', 'neodimioso', 'metilamina', 'metanodiol', 'metanamina', 'metanamida', 'mendelevio', 'livermorio', 'ibuprofeno', 'hexatriino', 'hexatrieno', 'hexanodial', 'heptenoico', 'heptadiino', 'fenantreno', 'etoxietano', 'etilnonano', 'etilbutano', 'diyodoocta', 'diyodohept', 'disilícico', 'dipromecio', 'diplutonio', 'dineodimio', 'dimagnesio', 'dibromohex', 'fluorometil', 'metilpropil', 'nitropropil', 'nitroetenil', 'cloroetenil', 'cloropropil', 'bromopropil', 'hipoclorito', 'bromoetenil', 'diyodometil', 'hipobromito', 'hiposulfito', 'bromoetinil', 'yodopropano', 'cloroetinil', 'hiponitrito', 'dinitroetil', 'nitroetinil', 'nitropropan', 'propadienil', 'dinitroprop', 'hidroxiprop', 'fluoropenta', 'dioxoyodato', 'nitrobutano', 'metiletenil', 'monosulfuro', 'monocarburo', 'fluoroetano', 'praseodimio', 'dicloroprop', 'diyodoetano', 'dihidróxido', 'pervanádico', 'triselenuro', 'mononitruro', 'dicloroetil', 'tritelururo', 'monofosfuro', 'metilbutano', 'dinitroetan', 'difluorobut', 'trifluoruro', 'metilpropan', 'fluorobutan', 'fluoroeteno', 'cloropropan', 'dibromoetil', 'protactinio', 'yodopentano', 'trimercurio', 'fluorobutil', 'dicloroetan', 'dimanganeso', 'dibromoprop', 'tetrayoduro', 'dimolibdeno', 'monocloruro', 'nitroetanal', 'monobromuro', 'diyodoeteno', 'dinitrobuta', 'trisilicuro', 'trimagnesio', 'diyodopenta', 'dinitropent', 'bromopropan', 'antimonioso', 'triastaturo', 'metilpentan', 'hiporodioso', 'hidroxipent', 'hexabromuro', 'diyodobutil', 'dibromobuta', 'clorobutano', 'nitropentan', 'monohidruro', 'hiporenioso', 'hiponitroso', 'hexacloruro', 'fluorohepta', 'diclorobuta', 'dibromoetan', 'metilhexano', 'hidroxietan', 'hexahidruro', 'diwolframio', 'dinitrógeno', 'dimetilpent', 'diaminoprop', 'triyodoetan', 'oxopropanal', 'nitrohexano', 'metilpentil', 'dibromopent', 'bromobutano', 'aminopropan', 'triyodoetil', 'tricirconio', 'oxoetanoico', 'hipobromoso', 'hidroxibuta', 'diyodobutan', 'dinitroeten', 'dicloroeten', 'dibromoeten', 'cloropentan', 'califórnico', 'bromopentan', 'triyodoprop', 'tetraboruro', 'hidroxieten', 'etilpentano', 'dinitrohexa', 'dimetiletil', 'dihidrógeno', 'dicloropent', 'diantimonio', 'diaminoeten', 'cloroetanal', 'bromoetanal', 'bencenodiol', 'yodobutanal', 'yodobenceno', 'wolframioso', 'trineptunio', 'triclorobut', 'tetraholmio', 'propanodiol', 'propanodial', 'propanamida', 'pentayoduro', 'pentanodiol', 'nitropentil', 'naftilamina', 'molibdenoso', 'metoxietano', 'hipocloroso', 'hidroxihexa', 'digadolinio', 'didisprosio', 'clorometano', 'clorohexano', 'ciclopentil', 'ciclooctano', 'cianhídrico', 'aminopentan', 'yodometanol', 'yodometanal', 'triyodoeten', 'triyodobuta', 'trinitrobut', 'tribromobut', 'trialuminio', 'tetrauranio', 'tetraterbio', 'tetraníquel', 'tetraniobio', 'tetrairidio', 'tetraidruro', 'tetrahierro', 'tetradecano', 'tetracosano', 'tetrabórico', 'sulfhídrico', 'pentatrieno', 'pentanamida', 'pentadienal', 'pentadecano', 'pentacordio', 'paracetamol', 'oxopentanal', 'oxoheptanal', 'octatrienal', 'octanitruro', 'octahidruro', 'octacloruro', 'nitrometano', 'metilnonano', 'metilheptan', 'metilbutilo', 'metanotriol', 'isobutírico', 'hialurónico', 'heptayoduro', 'heptatriino', 'heptatrieno', 'heptadecano', 'heneicosano', 'fluorohexan', 'fluoroetino', 'fenilpropan', 'etoxibutano', 'etilpropano', 'etilbenceno', 'etanolamina', 'etanodióico', 'etanodioico', 'diyodohexan', 'diyodohepta', 'diyodoetino', 'dioxoyódico', 'dioxobórico', 'dioxoborato', 'dinitrohept', 'dimetiléter', 'dimetilocta', 'dimetilhexa', 'dimetilhept', 'difosforoso', 'difluorooct', 'diestroncio', 'dieinstenio', 'diclorohexa', 'diclorohept', 'diclofenaco', 'fluoroetenil', 'fluoropropil', 'dibromometil', 'diclorometil', 'dinitrometil', 'metasilicato', 'metaarsenito', 'fluoroetinil', 'metaarsenato', 'hipotelurito', 'trioxoyodato', 'nitropropano', 'dioxoclorato', 'hiposelenito', 'trioxoborato', 'dioxonitrato', 'dioxosulfato', 'difluoroetil', 'monosilicuro', 'fluoropropan', 'trihidróxido', 'dioxobromato', 'difluoroprop', 'diyodoetenil', 'yodopropanal', 'monotelururo', 'metilpropano', 'diyodopropil', 'dioxocromato', 'monoselenuro', 'dinitroetano', 'pertantálico', 'monoarsenuro', 'difluoroetan', 'nitropentano', 'diantimonuro', 'tetracloruro', 'metilpentano', 'tetrahidruro', 'fluorobutano', 'dienonitrilo', 'monofluoruro', 'metavanadato', 'yodoetanoico', 'pentacloruro', 'diyodopropan', 'tetrabromuro', 'pentabromuro', 'hiponiobioso', 'cloropropano', 'praseodímico', 'hipouranioso', 'trimanganeso', 'triestroncio', 'isopropilbut', 'difluoropent', 'triyodoetano', 'trinitroprop', 'tetrafosfuro', 'pentasulfuro', 'pentahidruro', 'hipoiridioso', 'hexafluoruro', 'dicloroetano', 'tricloroetil', 'tetranitruro', 'metilbutanal', 'dinitroeteno', 'cloropentano', 'trinitroetil', 'trimolibdeno', 'tribromoprop', 'hipoteluroso', 'hidroxipenta', 'diyodobutano', 'dinitrobutan', 'diinonitrilo', 'bromopropano', 'perplutónico', 'nitrobutanal', 'metilbenceno', 'hidroxibutan', 'fluoroetanal', 'dimetilbutil', 'difluorobuta', 'dicloroeteno', 'tricloroprop', 'tetravanadio', 'tetratitanio', 'tetrarubidio', 'tetracobalto', 'praseodimico', 'permanganato', 'pentanitruro', 'pentafosfuro', 'oxobutanoico', 'monoastaturo', 'fluoropentan', 'diyodoetanal', 'dinitropenta', 'dinitrobutil', 'difluorohexa', 'difluoroeten', 'diclorobutil', 'dicalifornio', 'dibromoetano', 'dibromobutil', 'diaminobutan', 'clorobutanal', 'bromopentano', 'yodopentanal', 'triyodometil', 'triyodoeteno', 'tricloroetan', 'tribromoeten', 'tetraeuropio', 'tetrabismuto', 'propildecano', 'permangánico', 'peramerícico', 'pentanodiona', 'pentacarburo', 'oxoetanamida', 'isopropilhex', 'hipohafnioso', 'hidroxihepta', 'heptanitruro', 'heptahidruro', 'heptacloruro', 'heptabromuro', 'fluorometano', 'fluorohexano', 'etanonitrilo', 'dimetilbutan', 'dihidroxibut', 'dibromoeteno', 'dibromobutan', 'triwolframio', 'trioxobórico', 'trinitroetan', 'trifosfórico', 'trietilamina', 'triclorobuta', 'tribromoetil', 'triantimonio', 'triaminoprop', 'tetratántalo', 'tetrapotasio', 'tetrafrancio', 'tetraciclina', 'telurhídrico', 'selenhídrico', 'protactínico', 'propilnonano', 'propanotriol', 'pertecnécico', 'pentanotriol', 'ortotelúrico', 'octafluoruro', 'octaarsenuro', 'nitrotrideca', 'nitrometanal', 'nitrobenceno', 'metronidazol', 'metoxioctano', 'metoximetano', 'metilheptano', 'metavanádico', 'metaarsénico', 'hipovanadoso', 'hipofluoroso', 'hidroxihexan', 'hexenodioico', 'hexaastaturo', 'heptasulfuro', 'heptaoxígeno', 'heptafosfuro', 'heptacarburo', 'formaldehído', 'fluoropentil', 'fluorhídrico', 'fenilbenceno', 'fenilacetato', 'etinodiamina', 'etilpropanal', 'enodinitrilo', 'diyodopentan', 'diyodometano', 'diyodohexano', 'dioxonítrico', 'dioxocrómico', 'dioxobrómico', 'dinitrohepta', 'dimetilpenta', 'dimetilhexan', 'dimetilhepta', 'dimetilamina', 'difluorohept', 'difenilamina', 'dicloropenta', 'dicloroetino', 'diclorobutan', 'dibutilamina', 'dibromopenta', 'difluorometil', 'trioxonitrato', 'trioxobromato', 'trioxosulfato', 'trioxofosfato', 'trioxoclotato', 'dioxotelurato', 'dioxoarsenato', 'dimetilpropil', 'dioxoselenato', 'dinitropropil', 'fluoropropano', 'dinitroetenil', 'dicloroetenil', 'nitropropanal', 'yodopropadien', 'diyodopropano', 'tetrafluoruro', 'hipovanadioso', 'dinitropropan', 'yodoetanamida', 'difluoroetano', 'dicloropropil', 'triclorometil', 'hipotitanioso', 'isopropilprop', 'hidroxietanal', 'dinitrobutano', 'yodobutanoico', 'dibromoetenil', 'pentafluoruro', 'oxopropanoico', 'hexahidróxido', 'trinitrometil', 'fluoropentano', 'difluoropenta', 'dicloropropan', 'tribromometil', 'pentaselenuro', 'nitroetanoico', 'metilpropanal', 'cloropropanal', 'tetraarsenuro', 'pentatelururo', 'isopropiletil', 'hidroxipropan', 'dimetilpentan', 'difluoroeteno', 'dibromopropil', 'trifluoroetil', 'hipotantaloso', 'hiposulfuroso', 'hiposelenioso', 'fluorobutanal', 'dimetilbutano', 'tricloroetano', 'propilbenceno', 'praseodimioso', 'pentasilicuro', 'heptafluoruro', 'dinitroetanal', 'diclorobutano', 'cloroetanoico', 'bromoetanoico', 'trifluoroprop', 'tribromoetano', 'tetratecnecio', 'tetramercurio', 'tetraaluminio', 'protactinioso', 'pentaarsenuro', 'isopropilpent', 'isopropilbuta', 'dinitropentan', 'dimetiloctano', 'dihidroxietan', 'difluorobutan', 'dicloroetanal', 'dibromopropan', 'dibromobutano', 'bromopropanal', 'yodometanoico', 'yodoetinamina', 'triyodopropil', 'triyodopropan', 'triyodometano', 'trioxonítrico', 'trinitropenta', 'trinitroeteno', 'trinitroetano', 'trinitrobutil', 'trimetilamina', 'trifluoropent', 'trifluoroeten', 'tricloroeteno', 'tribromopenta', 'tribromoeteno', 'tribromobutil', 'tetraselenuro', 'tetraescandio', 'tetraastaturo', 'tetraamericio', 'propoxibutano', 'propanodioico', 'polipropileno', 'pirofosfórico', 'perwolfrámico', 'pentaastaturo', 'oxopentanoico', 'ortoperyódico', 'octahidróxido', 'octadecenoico', 'noradrenalina', 'nitropentanal', 'metoxiheptano', 'metoxibenceno', 'metilpentanal', 'metilbenzoico', 'metanotetraol', 'metanonitrilo', 'metanodiamina', 'metafosfórico', 'metafosforoso', 'isopropilhexa', 'hipofosforoso', 'hidroxipentan', 'hexenonitrilo', 'hexaoxoyódico', 'hexaoxoyodato', 'heptasilicuro', 'heptaselenuro', 'heptaarsenuro', 'fluorometanol', 'fluorometanal', 'fluorobenceno', 'fenoxibenceno', 'etilmetileter', 'etenilbenceno', 'diyodopentano', 'diyodometanol', 'diprotactinio', 'dipropanamida', 'dipraseodimio', 'dioxotelúrico', 'dioxoarsénico', 'dinitrometano', 'dimetilpropan', 'dimetilhexano', 'dihidroxiprop', 'dihidroxipent', 'difluoroetino', 'dietilanilina', 'didiyodometil', 'diclorometano', 'dibromometano', 'dibromohexano', 'dibromoetanal', 'nitroyodometil', 'cloroyodometil', 'bromoyodometil', 'metaantimonato', 'tetraoxoyodato', 'metaantimonito', 'trioxosilicato', 'trioxotelurato', 'trioxoselenato', 'trioxoarsenato', 'tetrahidróxido', 'monoantimonuro', 'difluoropropil', 'difluoroetenil', 'yodopropadieno', 'nitropropadien', 'trioxovanadato', 'nitroetanamida', 'hipocirconioso', 'tetraoxorenato', 'fluoropropanal', 'dinitropropano', 'trifluorometil', 'pentahidróxido', 'yodopropanoico', 'difluoropropan', 'bromopropadien', 'yodobutanamida', 'fluoroetanoico', 'dimetilpentano', 'nitrobutanoico', 'metilbutanoico', 'difluorobutano', 'dicloropropano', 'diyodoetanoico', 'cloropropadien', 'triyodopropano', 'tetramanganeso', 'oxopropanamida', 'hipoamericioso', 'hidroxibutanal', 'dimetilbenceno', 'dibromopropano', 'cloroetanamida', 'ciclohexadieno', 'bromoetanamida', 'tripraseodimio', 'trifluoroeteno', 'tricloropropan', 'triclorometano', 'pentenonitrilo', 'pentanodiamina', 'metilhexanoico', 'heptahidróxido', 'dinitropentano', 'dimetilheptano', 'difluoroetanal', 'dicloropentano', 'diclorobutanal', 'dibromopentano', 'clorobutanoico', 'bromobutanoico', 'aminopropadien', 'aminobutanoico', 'yodometanodiol', 'yodometanamina', 'yodometanamida', 'triyodopentano', 'triyodometanol', 'trioxotelúrico', 'trioxosilícico', 'trioxoselénico', 'trioxoarsénico', 'trinitrometano', 'trimetiloctano', 'trimetilbutilo', 'trifluoroetano', 'triclorobutano', 'tribromopropil', 'tribromopropan', 'tetrayodoetano', 'tetraoxoyódico', 'tetraoxorénico', 'tetramolibdeno', 'tetragadolinio', 'sulfametoxazol', 'propoxibenceno', 'propildodecano', 'propenonitrilo', 'propanonitrilo', 'nitroetinamina', 'metiloctanoico', 'metilhexanoato', 'metiletanamida', 'metanotriamina', 'metaantimónico', 'isopropilhexan', 'isopropilamina', 'hipowolframoso', 'hipotecnecioso', 'hipoplutonioso', 'hiponeptunioso', 'hidroxibenceno', 'etilpentanoico', 'etilbutanamida', 'etanodinitrilo', 'diyodopropanal', 'diyodometanona', 'dioxosulfúrico', 'dioxofosfórico', 'dinitrometanol', 'dimetilpropano', 'dimetilbutanal', 'difluoropentil', 'difluoropentan', 'difluorometano', 'didinitrometil', 'didiclorometil', 'diclorometanol', 'diclorobenceno', 'dibromometanol', 'diaminopropano', 'cloronitrometil', 'bromonitrometil', 'bromoclorometil', 'fluoroyodometil', 'trioxocarbonato', 'tetraoxosulfato', 'tetraoxofosfato', 'tetraoxoclorato', 'tetraoxobromato', 'tetraoxocromato', 'yodopropadienil', 'dioxoantimonato', 'trioxomanganato', 'nitropropadieno', 'fluoropropadien', 'yodopropanamida', 'isopropiletenil', 'difluoropropano', 'hidroxipropanal', 'hidroxietanoico', 'nitropropanoico', 'metilbutanamida', 'fluoroetanamida', 'cloropropanoico', 'tetraantimonuro', 'oxoetanonitrilo', 'etilpropadienil', 'cloropropadieno', 'diyodoetanamida', 'bromopropanoico', 'metilpropanoico', 'trioxofosfórico', 'trifluorometano', 'tribromopropano', 'nitrobutanamida', 'diyodopropadien', 'dinitroetanoico', 'dimetoxibenceno', 'dicloroetanoico', 'clorobutanamida', 'ciclopentadieno', 'bromopropadieno', 'yodometanotriol', 'yodociclohexano', 'trioxosulfúrico', 'trioxomangánico', 'trioxocarbónico', 'trioxidonitrato', 'trinitropropano', 'trinitrometanol', 'trifluoropropan', 'tricloropropano', 'triclorometanol', 'tribromometanol', 'tribromobenceno', 'triaminometanol', 'tetraoxocrómico', 'tetraoxobrómico', 'tetrafluoroetil', 'tetracloroeteno', 'tetrabromoeteno', 'pentaoxofosfato', 'pentaantimonuro', 'nitrometanodiol', 'nitrometanamina', 'nitrometanamida', 'nitrobutanodial', 'metilpentanoico', 'metilhexanamida', 'metilheptanoato', 'metilfenilamina', 'metaantimonioso', 'isopropilpropil', 'isopropiloctano', 'hipomolibdenoso', 'hiperwolfrámico', 'hexaoxotelúrico', 'heptaantimonuro', 'fluoroyodoetino', 'fluorometanoico', 'fluoroetinamina', 'fenilpropanoato', 'etilpropinamida', 'etilpropilamina', 'dioxopropanoico', 'dioxoantimónico', 'dinitropropanal', 'dinitrometanona', 'dimetilpentanal', 'diisopropilprop', 'dihidroxietanal', 'difluorobutanal', 'dicloropropanal', 'diclorometanona', 'dibromopropanal', 'dibromoetanoico', 'clorofluorometil', 'fluoronitrometil', 'bromofluorometil', 'nitropropadienil', 'tetraoxotelurato', 'tetraoxoselenato', 'trioxoantimonato', 'cloropropadienil', 'nitrodiyodometil', 'bromodiyodometil', 'dinitroyodometil', 'clorodiyodometil', 'dibromoyodometil', 'dicloroyodometil', 'bromopropadienil', 'metilpropadienil', 'fluoropropadieno', 'hidrogenosulfato', 'yodoetanonitrilo', 'hidroxietanamida', 'nitropropanamida', 'fluoropropanoico', 'metilpropanamida', 'diyodopropadieno', 'hidrogenofosfato', 'hidrogenosulfuro', 'cloropropanamida', 'bromopropanamida', 'trioxoantimónico', 'trifluoropropano', 'metilpropilamina', 'metilpentanamida', 'metilciclohexano', 'hidroxipropadien', 'hidroxibutanoico', 'hidrogenosulfito', 'hidrogenocromato', 'dinitropropadien', 'difluoropropanal', 'dicloroetanamida', 'dibromopropadien', 'aminopropanamida', 'triyodoetanamida', 'trinitroetanoico', 'trimetildodecano', 'trifluorometanol', 'tribromoetanoico', 'tetrapraseodimio', 'tetraoxovanadato', 'tetraoxotelúrico', 'tetraoxosilícico', 'tetraoxosilicato', 'tetraoxoselénico', 'tetraoxoarsénico', 'tetraoxoarsenato', 'tetranitrometano', 'tetracloropentil', 'tetraclorometano', 'tetrabromometano', 'oxohexanonitrilo', 'oxobutanonitrilo', 'nitroyodometanol', 'nitropropanodial', 'metoxitriptamina', 'metoxifenilamina', 'metilpropanodial', 'metilpentanodial', 'metildietanamida', 'isopropoxibutano', 'isopropilbutanal', 'hidroximetanoico', 'hidroxihexanoico', 'hexaclorobenceno', 'fluoronitroetino', 'fluorometanodiol', 'fluorometanamina', 'fluorometanamida', 'etildimetanamida', 'etenilmetilamina', 'diyodometanamina', 'dinitroetanamida', 'dimetilnaftaleno', 'diisopropilhexil', 'dihidroxibutanal', 'dihidroxibenceno', 'difluorometanona', 'dietilfenilamina', 'dicloropropadien', 'tetraoxomanganato', 'fluoropropadienil', 'dibromoclorometil', 'dibromonitrometil', 'fluorodiyodometil', 'dicloronitrometil', 'clorodinitrometil', 'difluoroyodometil', 'bromodiclorometil', 'oxopropanonitrilo', 'nitroetanonitrilo', 'bromodinitrometil', 'hidroxipropanoico', 'tetraoxotecnecato', 'diyodopropadienil', 'fluoropropanamida', 'cloroetanonitrilo', 'hidroxibutanamida', 'dinitropropadieno', 'yodobutanonitrilo', 'diyodopropanamida', 'difluoropropadien', 'tetraoxotecnécico', 'hidrogenoselenito', 'hidrogenoselenato', 'dihidroxietanoico', 'dicloropropadieno', 'dibromopropadieno', 'carbamoiletanoico', 'bromoetanonitrilo', 'yodometanonitrilo', 'triyodopropadieno', 'triyodometanamina', 'trimetilbutanoico', 'tribromoetanamida', 'tetraoxosulfúrico', 'tetraoxomolíbdico', 'tetraoxomolibdato', 'tetraoxomangánico', 'tetraoxofosfórico', 'pentaoxofosfórico', 'nitroyodometanona', 'metilvinilbenceno', 'metilbutenodioico', 'metilbenzladehído', 'isopropoxipropano', 'hidroxipentanoico', 'hidrogenoselenuro', 'heptaoxodifosfato', 'heptaoxodicrómico', 'heptaoxodicromato', 'fluoroyodometanol', 'fluoropropanodial', 'dinitroyodometano', 'dinitropropanoico', 'dinitrometanamina', 'dimetilpropanoico', 'dimetilbutanamida', 'dihidroxipropanal', 'dietilmetoxiamina', 'diclorometanodiol', 'diclorometanamina', 'diclorobutanamida', 'dibromometanodiol', 'dibromometanamina', 'dibromofluorometil', 'bromodifluorometil', 'difluoronitrometil', 'fluorodinitrometil', 'diclorofluorometil', 'clorodifluorometil', 'tetraoxowolframato', 'yodopropanonitrilo', 'hidroxipropanamida', 'metilbutanonitrilo', 'hidrogenocarbonato', 'fluoroetanonitrilo', 'dicloropropadienil', 'dihidrogenofosfato', 'diyodoetanonitrilo', 'dinitropropadienil', 'dimetilciclohexano', 'difluoropropadieno', 'clorobutanonitrilo', 'aminobutanonitrilo', 'trinitroyodometano', 'tribromoyodometano', 'tetraoxoantimónico', 'tetraoxoantimonato', 'propilciclopentano', 'nitrometanodiamina', 'nitrobutanonitrilo', 'nitrobutanodiamida', 'metilhexanonitrilo', 'hidroxipropanodial', 'hexafluorosilícico', 'heptaoxodisilícico', 'heptaoxodisilicato', 'heptaoxodiarsénico', 'heptaoxodiarsenato', 'fluoroyodometanona', 'fluoronitrometanol', 'fluorodiyodometano', 'dimetilpropanamida', 'dimetilpentanamida', 'dihidroxietanamida', 'dihidroxibutanoico', 'difluoroyodometano', 'difluoropropanoico', 'difluorometanodiol', 'dicloroyodometanol', 'diclorociclobutano', 'dibromoclorometano', 'diaminoyodometanol', 'bromonitroyodometil', 'cloronitroyodometil', 'bromocloroyodometil', 'nitropropanonitrilo', 'hidroxietanonitrilo', 'nitropentanonitrilo', 'dihidrogenoarsenato', 'dibromoetanonitrilo', 'trimetilciclohexano', 'trifluoroyodometano', 'trifluoropropadieno', 'trifluorometanamina', 'tricloropropadienil', 'tricloronitrometano', 'tribromonitrometano', 'pentahidroxihexanal', 'nitroyodometanodiol', 'nitroyodometanamina', 'nitrometanotriamina', 'metilpropanonitrilo', 'heptaoxotetrabórico', 'heptaoxotetraborato', 'heptaoxodisulfúrico', 'fluorotriyodometano', 'fluoronitrometanona', 'fluorometanonitrilo', 'fluorodiyodometanol', 'fluorodinitrometano', 'dinitroetanonitrilo', 'dimetilciclopenteno', 'dihidroxipropanoico', 'dihidroxibutanamida', 'difluoronitrometano', 'dicloronitrometanol', 'diclorofluorometano', 'dicloroetanonitrilo', 'diclorodiyodometano', 'diciclohexilbenceno', 'dibromonitrometanol', 'dibromofluorometano', 'dibromodiyodometano', 'bromocloronitrometil', 'fluoronitroyodometil', 'bromofluoroyodometil', 'clorofluoroyodometil', 'fluoropropanonitrilo', 'bencenodicarboxílico', 'diyodopropanonitrilo', 'difluoroetanonitrilo', 'trifluoronitrometano', 'triclorofluorometano', 'tribromofluorometano', 'tetrahidrocannabinol', 'propilpentanonitrilo', 'polimetilmetacrilato', 'isopropilpropadienil', 'hidroximetanonitrilo', 'fluoroyodometanamina', 'fluorotrinitrometano', 'fluoropentanonitrilo', 'fluorodinitrometanol', 'dinitrometanodiamina', 'dinitrobutanonitrilo', 'dimetilheptanodioico', 'dimetilciclohexanona', 'dimetilbutanonitrilo', 'dihidroxipropanamida', 'difluoronitrometanol', 'diclorometanodiamina', 'dibromometanodiamina', 'dibromodinitrometano', 'bromoclorofluorometil', 'clorofluoronitrometil', 'bromofluoronitrometil', 'hidroxipropanonitrilo', 'isopropoxiciclohexano', 'hidroxipentanonitrilo', 'fluoronitrometanodiol', 'fluoronitrometanamina', 'dinitropropanonitrilo', 'dihidroxietanonitrilo', 'difluorodiclorometano', 'dicloroyodometanamina', 'dicloropropanonitrilo', 'diclorodifluorometano', 'dibromoyodometanamina', 'dibromopropanonitrilo', 'dibromodifluorometano', 'nitroyodometanodiamina', 'fluoronitroyodometanol', 'difluoroyodometanamina', 'difluoropropanonitrilo', 'dicloronitroyodometano', 'dicloronitrometanamina', 'dibromonitroyodometano', 'dibromonitrometanamina', 'dibromocloroyodometano', 'dibromoclorometanamina', 'metilbencenocarboxamida', 'fluoroyodometanodiamina', 'fluoronitrodiyodometano', 'difluoronitroyodometano', 'difluoronitrometanamina', 'diclorofluoroyodometano', 'dibromofluoroyodometano', 'dibromofluorometanamina', 'metilbencenocarbonitrilo', 'metilbencenocarbaldehído', 'fluoronitrometanodiamina', 'diclorofluoronitrometano', 'dibromofluoronitrometano', 'dibromoclorofluorometano', 'hidroxibencenocarboxílico', 'fluoronitroyodometanamina', 'dimetilbencenocarboxamida', 'metilciclohexanocarboxamida']\n"
     ]
    }
   ],
   "source": [
    "print(\"Vocabulary:\", sorted(vectorize_layer.get_vocabulary(), key = len))"
   ]
  },
  {
   "cell_type": "code",
   "execution_count": 17,
   "id": "d020092d",
   "metadata": {},
   "outputs": [],
   "source": [
    "train_data_source = raw_train_data_source.map(vectorize_text)\n",
    "validation_data_source = raw_validation_data_source.map(vectorize_text)\n",
    "test_data_source = raw_test_data_source.map(vectorize_text)"
   ]
  },
  {
   "cell_type": "code",
   "execution_count": 18,
   "id": "1d5efbc3",
   "metadata": {},
   "outputs": [],
   "source": [
    "AUTOTUNE = tf.data.experimental.AUTOTUNE # ??\n",
    "\n",
    "train_data_source = train_data_source.cache().prefetch(buffer_size = AUTOTUNE)\n",
    "validation_data_source = validation_data_source.cache().prefetch(buffer_size = AUTOTUNE)\n",
    "test_data_source = test_data_source.cache().prefetch(buffer_size = AUTOTUNE)"
   ]
  },
  {
   "cell_type": "markdown",
   "id": "87ef8355",
   "metadata": {},
   "source": [
    "# Model creation:"
   ]
  },
  {
   "cell_type": "code",
   "execution_count": 19,
   "id": "7d817ed8",
   "metadata": {},
   "outputs": [],
   "source": [
    "embedding_dim = 2 ** 10  # 2 ** 10 seems to be optimal, 2 ** 4 was default"
   ]
  },
  {
   "cell_type": "code",
   "execution_count": 20,
   "id": "4761ffba",
   "metadata": {},
   "outputs": [],
   "source": [
    "def create_model ():\n",
    "  model = tf.keras.Sequential([\n",
    "    layers.Embedding(max_features + 1, embedding_dim),\n",
    "    layers.Dropout(0.2),\n",
    "    layers.Dense(256, activation = \"relu\"),\n",
    "    layers.GlobalAveragePooling1D(),\n",
    "    layers.Dropout(0.2),\n",
    "    layers.Dense(1),\n",
    "  ])\n",
    "  \n",
    "  model.compile(\n",
    "    optimizer = \"adam\",\n",
    "    metrics = tf.metrics.BinaryAccuracy(threshold = 0.0),\n",
    "    loss = losses.BinaryCrossentropy(from_logits = True),\n",
    "  )\n",
    "  \n",
    "  return model\n",
    "\n",
    "model = create_model()\n",
    "  "
   ]
  },
  {
   "cell_type": "markdown",
   "id": "1c305297",
   "metadata": {},
   "source": [
    "### Training:"
   ]
  },
  {
   "cell_type": "code",
   "execution_count": null,
   "id": "29d28708",
   "metadata": {
    "scrolled": false,
    "pycharm": {
     "is_executing": true
    }
   },
   "outputs": [
    {
     "name": "stdout",
     "output_type": "stream",
     "text": [
      "Epoch 1/5\n",
      "497/648 [======================>.......] - ETA: 6s - loss: 0.0867 - binary_accuracy: 0.9665"
     ]
    }
   ],
   "source": [
    "epochs = 5\n",
    "\n",
    "history = model.fit(\n",
    "    epochs = epochs,\n",
    "    x = train_data_source,\n",
    "    validation_data = validation_data_source,\n",
    ")"
   ]
  },
  {
   "cell_type": "markdown",
   "id": "892bb372",
   "metadata": {},
   "source": [
    "### Compiling:"
   ]
  },
  {
   "cell_type": "code",
   "execution_count": null,
   "id": "b70a0ca3",
   "metadata": {
    "pycharm": {
     "is_executing": true
    }
   },
   "outputs": [],
   "source": [
    "export_model = tf.keras.Sequential([\n",
    "  vectorize_layer,\n",
    "  model,\n",
    "  layers.Activation(\"sigmoid\")\n",
    "])\n",
    "\n",
    "export_model.compile(\n",
    "    optimizer = \"adam\", \n",
    "    metrics = [\"accuracy\"],\n",
    "    loss = losses.BinaryCrossentropy(from_logits = False), \n",
    ")"
   ]
  },
  {
   "cell_type": "markdown",
   "id": "9305bb10",
   "metadata": {},
   "source": [
    "# Model evaluation:"
   ]
  },
  {
   "cell_type": "markdown",
   "id": "214e11c5",
   "metadata": {},
   "source": [
    "### Using test data:"
   ]
  },
  {
   "cell_type": "code",
   "execution_count": null,
   "id": "c9f31b1d",
   "metadata": {
    "pycharm": {
     "is_executing": true
    }
   },
   "outputs": [],
   "source": [
    "loss, accuracy = model.evaluate(test_data_source)\n",
    "\n",
    "print(\"Test loss:\", loss)\n",
    "print(\"Test accuracy:\", accuracy)"
   ]
  },
  {
   "cell_type": "markdown",
   "id": "d7f52fc7",
   "metadata": {},
   "source": [
    "### Using raw test data:"
   ]
  },
  {
   "cell_type": "code",
   "execution_count": null,
   "id": "415c6dd5",
   "metadata": {
    "pycharm": {
     "is_executing": true
    }
   },
   "outputs": [],
   "source": [
    "loss, accuracy = export_model.evaluate(raw_test_data_source)\n",
    "\n",
    "print(\"Raw test loss:\", loss)\n",
    "print(\"Raw test accuracy:\", accuracy)"
   ]
  },
  {
   "cell_type": "markdown",
   "id": "a6abe3d6",
   "metadata": {},
   "source": [
    "### Accuracy graph:"
   ]
  },
  {
   "cell_type": "code",
   "execution_count": null,
   "id": "5dae66db",
   "metadata": {
    "pycharm": {
     "is_executing": true
    }
   },
   "outputs": [],
   "source": [
    "history_dict = history.history\n",
    "history_dict.keys()\n",
    "\n",
    "accuracy = history_dict[\"binary_accuracy\"]\n",
    "validation_accuracy = history_dict[\"val_binary_accuracy\"]\n",
    "loss = history_dict[\"loss\"]\n",
    "validation_loss = history_dict[\"val_loss\"]\n",
    "\n",
    "epochs = range(1, len(accuracy) + 1)\n",
    "\n",
    "plt.plot(epochs, accuracy, \"bo\", label = \"Training accuracy\") # Blue dots\n",
    "plt.plot(epochs, validation_accuracy, \"b\", label = \"Validation accuracy\") # Blue line\n",
    "plt.title(\"Training and validation accuracy\")\n",
    "plt.xlabel(\"Epochs\")\n",
    "plt.ylabel(\"Accuracy\")\n",
    "plt.legend(loc = \"lower right\")\n",
    "\n",
    "plt.show()"
   ]
  },
  {
   "cell_type": "markdown",
   "id": "2bbe64ce",
   "metadata": {},
   "source": [
    "### Loss graph:"
   ]
  },
  {
   "cell_type": "code",
   "execution_count": null,
   "id": "30e53795",
   "metadata": {
    "collapsed": false,
    "pycharm": {
     "is_executing": true
    }
   },
   "outputs": [],
   "source": [
    "plt.plot(epochs, loss, \"ro\", label = \"Training loss\") # Red dots\n",
    "plt.plot(epochs, validation_loss, \"r\", label = \"Validation loss\") # Red line\n",
    "plt.title(\"Training and validation loss\")\n",
    "plt.xlabel(\"Epochs\")\n",
    "plt.ylabel(\"Loss\")\n",
    "plt.legend()\n",
    "\n",
    "plt.show()"
   ]
  },
  {
   "attachments": {},
   "cell_type": "markdown",
   "id": "a01b8dcd",
   "metadata": {},
   "source": [
    "# Export model to a file"
   ]
  },
  {
   "cell_type": "code",
   "execution_count": null,
   "id": "2a695597",
   "metadata": {
    "pycharm": {
     "is_executing": true
    }
   },
   "outputs": [],
   "source": [
    "export_model.save(\"models/\" + data_folder + \"-model\", save_format='tf')"
   ]
  },
  {
   "cell_type": "markdown",
   "id": "3752da47",
   "metadata": {
    "collapsed": false
   },
   "source": [
    "# Model predictions:"
   ]
  },
  {
   "cell_type": "code",
   "execution_count": null,
   "id": "ae77d313",
   "metadata": {
    "collapsed": false,
    "pycharm": {
     "is_executing": true
    }
   },
   "outputs": [],
   "source": [
    "def predict_categories(examples):\n",
    "    for example in examples:\n",
    "        prediction = export_model.predict([example])[0][0] * 100\n",
    "        category = first_category if prediction < 50 else second_category\n",
    "        print(category, \"(\" + \"%.2f\" % prediction + \"%):\", example)"
   ]
  },
  {
   "cell_type": "markdown",
   "id": "fcccb052",
   "metadata": {
    "collapsed": false
   },
   "source": [
    "### Inorganic formulas:"
   ]
  },
  {
   "cell_type": "code",
   "execution_count": null,
   "id": "1bfb3576",
   "metadata": {
    "collapsed": false,
    "pycharm": {
     "is_executing": true
    }
   },
   "outputs": [],
   "source": [
    "inorganic_formulas = [\n",
    "    \"mn2(Hpo3)3\",\n",
    "    \"NaCl\",\n",
    "    \"H2SO4\",\n",
    "    \"CL203\",\n",
    "    \"znCO2\",\n",
    "    \"H2O\",\n",
    "    \"FeNA2\",\n",
    "    \"G2S2O5\",\n",
    "    \"Cl2O⁺H2O\",\n",
    "]\n",
    "\n",
    "predict_categories(inorganic_formulas)"
   ]
  },
  {
   "cell_type": "markdown",
   "id": "6df4f90a",
   "metadata": {
    "collapsed": false
   },
   "source": [
    "### Inorganic names:"
   ]
  },
  {
   "cell_type": "code",
   "execution_count": null,
   "id": "241d0320",
   "metadata": {
    "collapsed": false,
    "pycharm": {
     "is_executing": true
    }
   },
   "outputs": [],
   "source": [
    "inorganic_names = [\n",
    "    \"arsenito diacido de sodio\",\n",
    "    \"hipoclorito de sodio\",\n",
    "    \"potasiuro de boro\",\n",
    "    \"cloruro de sodio\",\n",
    "    \"acido disulfuroso\",\n",
    "    \"sulfurico\"\n",
    "]\n",
    "\n",
    "predict_categories(inorganic_names) # 98.21%"
   ]
  },
  {
   "cell_type": "markdown",
   "id": "d785a7a0",
   "metadata": {
    "collapsed": false
   },
   "source": [
    "### Organic formulas:"
   ]
  },
  {
   "cell_type": "code",
   "execution_count": null,
   "id": "9012cf99",
   "metadata": {
    "collapsed": false,
    "pycharm": {
     "is_executing": true
    }
   },
   "outputs": [],
   "source": [
    "organic_formulas = [\n",
    "    \"Ch3ChCh(Ch3ChCh3)ChCh\",\n",
    "    \"H3C-CH2\",\n",
    "    \"H3C-CH2-CH2\",\n",
    "    \"h c c h\",\n",
    "    \"h c c h h c c h\",\n",
    "    \"CH3-CO-O-CH2-CH3\",\n",
    "    \"CH3-CH2-O-CH2-CH3\",\n",
    "    \"CH3-CH2-CH=CH-COOH\",\n",
    "    \"ch3chch2ch(ch2ch2ch3)cooh\",\n",
    "    \"ch3(Ch3)Chch2Ch(Ch3)Ch2Ch(Ch2Ch2Ch3)Ch3\",\n",
    "]\n",
    "\n",
    "predict_categories(organic_formulas)"
   ]
  },
  {
   "cell_type": "markdown",
   "id": "c289c79f",
   "metadata": {
    "collapsed": false
   },
   "source": [
    "### Organic names:"
   ]
  },
  {
   "cell_type": "code",
   "execution_count": null,
   "id": "f514a6d5",
   "metadata": {
    "pycharm": {
     "is_executing": true
    }
   },
   "outputs": [],
   "source": [
    "organic_names = [\n",
    "    \"arsano\",\n",
    "    \"benceno\",\n",
    "    \"naftaleno\",\n",
    "    \"2-cloropentanato\",\n",
    "    \"cloruro de propilo\",\n",
    "    \"di 2-cloropentanil éter\",\n",
    "    \"2-bromo-2-cloropropano\",\n",
    "    \"metanoato de isopropilo\",\n",
    "    \"orto-difenilciclohexano\",\n",
    "    \"2-bromo-2-cloropropil yododecil éter\",\n",
    "    \"3-cloro-2-fluoro-hexa-1,3-dien-5-in-1-ona\",\n",
    "    \"4-amino-2,6,6-tricloro-7,7-difluoro-89-metil-3-nitro-1,1-diyodononaconta-1,3-dien-5-ona\",\n",
    "]\n",
    "\n",
    "predict_categories(organic_names)"
   ]
  }
 ],
 "metadata": {
  "kernelspec": {
   "display_name": "Python 3 (ipykernel)",
   "language": "python",
   "name": "python3"
  },
  "language_info": {
   "codemirror_mode": {
    "name": "ipython",
    "version": 3
   },
   "file_extension": ".py",
   "mimetype": "text/x-python",
   "name": "python",
   "nbconvert_exporter": "python",
   "pygments_lexer": "ipython3",
   "version": "3.11.0"
  }
 },
 "nbformat": 4,
 "nbformat_minor": 5
}
