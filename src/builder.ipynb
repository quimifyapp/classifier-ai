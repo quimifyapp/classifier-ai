{
 "cells": [
  {
   "cell_type": "code",
   "execution_count": 1,
   "id": "b30b0d6b",
   "metadata": {},
   "outputs": [],
   "source": [
    "import os\n",
    "import tensorflow as tf\n",
    "from model import Model\n",
    "from tensorflow.python.keras import layers, losses\n",
    "import matplotlib.pyplot as plt"
   ]
  },
  {
   "cell_type": "markdown",
   "id": "17a880e3",
   "metadata": {},
   "source": [
    "# Data location:"
   ]
  },
  {
   "cell_type": "code",
   "execution_count": 2,
   "id": "b859b280",
   "metadata": {
    "collapsed": false
   },
   "outputs": [],
   "source": [
    "data_location = \"../data/split\"\n",
    "export_location = \"../models/\"\n",
    "\n",
    "model_prefix = [\"\", \"formula-\", \"name-\"][1]\n",
    "first_category = [\"formula\", \"inorganic\"][1]\n",
    "second_category = [\"name\", \"organic\"][1]\n",
    "\n",
    "model_name = model_prefix + first_category + \"-\" + second_category"
   ]
  },
  {
   "cell_type": "code",
   "execution_count": 3,
   "id": "357677c6",
   "metadata": {
    "collapsed": false
   },
   "outputs": [
    {
     "name": "stdout",
     "output_type": "stream",
     "text": [
      "In data: ['test', 'train']\n",
      "In train: ['inorganic', 'inorganic-90%.txt', 'organic', 'organic-90%.txt']\n",
      "In test: ['inorganic', 'inorganic-10%.txt', 'organic', 'organic-10%.txt']\n"
     ]
    }
   ],
   "source": [
    "dataset_directory = os.path.join(data_location, model_name)\n",
    "train_directory = os.path.join(dataset_directory, \"train\")\n",
    "test_directory = os.path.join(dataset_directory, \"test\")\n",
    "\n",
    "print(\"In data:\", os.listdir(dataset_directory))\n",
    "print(\"In train:\", os.listdir(train_directory))\n",
    "print(\"In test:\", os.listdir(test_directory))"
   ]
  },
  {
   "cell_type": "markdown",
   "id": "12ee3cb6",
   "metadata": {},
   "source": [
    "### Sample file:"
   ]
  },
  {
   "cell_type": "code",
   "execution_count": 4,
   "id": "c7a82a9b",
   "metadata": {},
   "outputs": [
    {
     "name": "stdout",
     "output_type": "stream",
     "text": [
      "Sample file: DyCl3\n",
      "\n"
     ]
    }
   ],
   "source": [
    "sample_file = os.path.join(train_directory, first_category, \"ab.txt\")\n",
    "\n",
    "print(\"Sample file:\", open(sample_file).read())"
   ]
  },
  {
   "cell_type": "markdown",
   "id": "f756c0db",
   "metadata": {},
   "source": [
    "# Data collection:"
   ]
  },
  {
   "cell_type": "code",
   "execution_count": 5,
   "id": "4386e04c",
   "metadata": {},
   "outputs": [],
   "source": [
    "seed = 32  # Random seed for data shuffling and transformations\n",
    "validation_split = 0.2  # Proportion of train data used to validate the model"
   ]
  },
  {
   "cell_type": "code",
   "execution_count": 6,
   "id": "ecc4ea5f",
   "metadata": {},
   "outputs": [
    {
     "name": "stdout",
     "output_type": "stream",
     "text": [
      "Found 18710 files belonging to 2 classes.\n",
      "Using 14968 files for training.\n"
     ]
    }
   ],
   "source": [
    "raw_train_data_source = tf.keras.preprocessing.text_dataset_from_directory(\n",
    "    train_directory,\n",
    "    subset=\"training\",\n",
    "    seed=seed,\n",
    "    validation_split=validation_split,\n",
    ")"
   ]
  },
  {
   "cell_type": "code",
   "execution_count": 7,
   "id": "4f060c1a",
   "metadata": {
    "scrolled": true
   },
   "outputs": [
    {
     "name": "stdout",
     "output_type": "stream",
     "text": [
      "Found 18710 files belonging to 2 classes.\n",
      "Using 3742 files for validation.\n"
     ]
    }
   ],
   "source": [
    "raw_validation_data_source = tf.keras.preprocessing.text_dataset_from_directory(\n",
    "    train_directory,\n",
    "    subset=\"validation\",\n",
    "    seed=seed,\n",
    "    validation_split=validation_split,\n",
    ")"
   ]
  },
  {
   "cell_type": "code",
   "execution_count": 8,
   "id": "36268a96",
   "metadata": {
    "collapsed": false
   },
   "outputs": [
    {
     "name": "stdout",
     "output_type": "stream",
     "text": [
      "Found 2078 files belonging to 2 classes.\n"
     ]
    }
   ],
   "source": [
    "raw_test_data_source = tf.keras.preprocessing.text_dataset_from_directory(\n",
    "    test_directory,\n",
    ")"
   ]
  },
  {
   "cell_type": "markdown",
   "id": "a159c081",
   "metadata": {
    "collapsed": false
   },
   "source": [
    "# Data pre-processing:"
   ]
  },
  {
   "cell_type": "code",
   "execution_count": 9,
   "id": "c743ab07",
   "metadata": {},
   "outputs": [],
   "source": [
    "max_features = 2048  # Sets a boundary for len(vectorize_layer.get_vocabulary())"
   ]
  },
  {
   "cell_type": "code",
   "execution_count": 10,
   "id": "a5ad8c12",
   "metadata": {},
   "outputs": [],
   "source": [
    "sequence_length = 16  # Vectorized string's dimension\n",
    "\n",
    "vectorize_layer = tf.keras.layers.experimental.preprocessing.TextVectorization(\n",
    "    output_mode=\"int\",\n",
    "    max_tokens=max_features,\n",
    "    standardize=Model.data_standardization,\n",
    "    output_sequence_length=sequence_length\n",
    ")"
   ]
  },
  {
   "cell_type": "code",
   "execution_count": 11,
   "id": "960154cf",
   "metadata": {},
   "outputs": [],
   "source": [
    "# Makes a text-only dataset (without labels), then calls adapt\n",
    "train_text = raw_train_data_source.map(lambda x, y: x)\n",
    "vectorize_layer.adapt(train_text)"
   ]
  },
  {
   "cell_type": "code",
   "execution_count": 12,
   "id": "09a9aed6",
   "metadata": {},
   "outputs": [],
   "source": [
    "def vectorize_text(text, label):\n",
    "    text = tf.expand_dims(text, -1)\n",
    "    return vectorize_layer(text), label"
   ]
  },
  {
   "cell_type": "code",
   "execution_count": 13,
   "id": "6073a5e2",
   "metadata": {
    "scrolled": true
   },
   "outputs": [
    {
     "name": "stdout",
     "output_type": "stream",
     "text": [
      "Review: tf.Tensor(b'CH3-O-CH(CH3)-CHF-CH2(NO2)\\r\\n', shape=(), dtype=string)\n",
      "Label: organic\n",
      "Vectorized review: (<tf.Tensor: shape=(1, 16), dtype=int64, numpy=array([[2, 3, 9, 4, 8, 4, 2, 3, 6, 2, 3, 9, 5, 4, 2, 3]], dtype=int64)>, <tf.Tensor: shape=(), dtype=int32, numpy=1>)\n"
     ]
    }
   ],
   "source": [
    "# Retrieves a batch of 32 reviews and labels from the dataset\n",
    "text_batch, label_batch = next(iter(raw_train_data_source))\n",
    "first_review, first_label = text_batch[0], label_batch[0]\n",
    "\n",
    "print(\"Review:\", first_review)\n",
    "print(\"Label:\", raw_train_data_source.class_names[first_label])\n",
    "print(\"Vectorized review:\", vectorize_text(first_review, first_label))"
   ]
  },
  {
   "cell_type": "code",
   "execution_count": 14,
   "id": "253bb49b",
   "metadata": {},
   "outputs": [
    {
     "name": "stdout",
     "output_type": "stream",
     "text": [
      "Vocabulary size: 42\n"
     ]
    }
   ],
   "source": [
    "print(\"Vocabulary size:\", len(vectorize_layer.get_vocabulary()))"
   ]
  },
  {
   "cell_type": "code",
   "execution_count": 15,
   "id": "0e400c8e",
   "metadata": {},
   "outputs": [
    {
     "name": "stdout",
     "output_type": "stream",
     "text": [
      "Vocabulary: ['', 'c', 'h', '-', ')', '(', '2', 'o', '3', 'n', '=', 'b', 'r', 'i', 'l', 'f', '≡', 's', '4', 'a', 'e', 't', 'p', 'm', 'u', 'g', '5', '1', '6', 'd', 'v', 'z', '7', '8', 'k', 'w', '0', 'y', '9', '+', 'x', '[UNK]']\n"
     ]
    }
   ],
   "source": [
    "print(\"Vocabulary:\", sorted(vectorize_layer.get_vocabulary(), key=len))"
   ]
  },
  {
   "cell_type": "code",
   "execution_count": 16,
   "id": "d020092d",
   "metadata": {},
   "outputs": [],
   "source": [
    "train_data_source = raw_train_data_source.map(vectorize_text)\n",
    "validation_data_source = raw_validation_data_source.map(vectorize_text)\n",
    "test_data_source = raw_test_data_source.map(vectorize_text)"
   ]
  },
  {
   "cell_type": "code",
   "execution_count": 17,
   "id": "1d5efbc3",
   "metadata": {},
   "outputs": [],
   "source": [
    "AUTOTUNE = tf.data.experimental.AUTOTUNE  # ??\n",
    "\n",
    "train_data_source = train_data_source.cache().prefetch(buffer_size=AUTOTUNE)\n",
    "validation_data_source = validation_data_source.cache().prefetch(buffer_size=AUTOTUNE)\n",
    "test_data_source = test_data_source.cache().prefetch(buffer_size=AUTOTUNE)"
   ]
  },
  {
   "cell_type": "markdown",
   "id": "87ef8355",
   "metadata": {},
   "source": [
    "# Model creation:"
   ]
  },
  {
   "cell_type": "code",
   "execution_count": 18,
   "id": "4761ffba",
   "metadata": {},
   "outputs": [],
   "source": [
    "model = Model(\n",
    "    max_features=max_features,\n",
    "    embedding_dim=1024,  # 1024 seems to be optimal, 16 was default\n",
    ")"
   ]
  },
  {
   "cell_type": "markdown",
   "id": "1c305297",
   "metadata": {},
   "source": [
    "### Training:"
   ]
  },
  {
   "cell_type": "code",
   "execution_count": 19,
   "id": "29d28708",
   "metadata": {
    "scrolled": false
   },
   "outputs": [
    {
     "name": "stdout",
     "output_type": "stream",
     "text": [
      "Epoch 1/5\n",
      "468/468 [==============================] - 26s 54ms/step - loss: 0.0385 - binary_accuracy: 0.9890 - val_loss: 0.0109 - val_binary_accuracy: 0.9955\n",
      "Epoch 2/5\n",
      "468/468 [==============================] - 17s 37ms/step - loss: 0.0098 - binary_accuracy: 0.9962 - val_loss: 0.0077 - val_binary_accuracy: 0.9968\n",
      "Epoch 3/5\n",
      "468/468 [==============================] - 16s 35ms/step - loss: 0.0088 - binary_accuracy: 0.9961 - val_loss: 0.0057 - val_binary_accuracy: 0.9976\n",
      "Epoch 4/5\n",
      "468/468 [==============================] - 18s 38ms/step - loss: 0.0078 - binary_accuracy: 0.9968 - val_loss: 0.0064 - val_binary_accuracy: 0.9968\n",
      "Epoch 5/5\n",
      "468/468 [==============================] - 17s 36ms/step - loss: 0.0077 - binary_accuracy: 0.9971 - val_loss: 0.0056 - val_binary_accuracy: 0.9979\n"
     ]
    }
   ],
   "source": [
    "history = model.get().fit(\n",
    "    epochs=5,\n",
    "    x=train_data_source,\n",
    "    validation_data=validation_data_source,\n",
    ")"
   ]
  },
  {
   "cell_type": "markdown",
   "id": "892bb372",
   "metadata": {},
   "source": [
    "### Compiling:"
   ]
  },
  {
   "cell_type": "code",
   "execution_count": 20,
   "id": "b70a0ca3",
   "metadata": {},
   "outputs": [],
   "source": [
    "export_model = tf.keras.Sequential([\n",
    "    vectorize_layer,\n",
    "    model.get(),\n",
    "    layers.Activation(\"sigmoid\")\n",
    "])\n",
    "\n",
    "export_model.compile(\n",
    "    optimizer=\"adam\",\n",
    "    metrics=[\"accuracy\"],\n",
    "    loss=losses.BinaryCrossentropy(from_logits=False),\n",
    ")"
   ]
  },
  {
   "cell_type": "markdown",
   "id": "9305bb10",
   "metadata": {},
   "source": [
    "# Model evaluation:"
   ]
  },
  {
   "cell_type": "markdown",
   "id": "214e11c5",
   "metadata": {},
   "source": [
    "### Using test data:"
   ]
  },
  {
   "cell_type": "code",
   "execution_count": 21,
   "id": "c9f31b1d",
   "metadata": {},
   "outputs": [
    {
     "name": "stdout",
     "output_type": "stream",
     "text": [
      "65/65 [==============================] - 1s 12ms/step - loss: 0.0057 - binary_accuracy: 0.9986\n",
      "Test loss: 0.005684389732778072\n",
      "Test accuracy: 0.9985563158988953\n"
     ]
    }
   ],
   "source": [
    "loss, accuracy = model.get().evaluate(test_data_source)\n",
    "\n",
    "print(\"Test loss:\", loss)\n",
    "print(\"Test accuracy:\", accuracy)"
   ]
  },
  {
   "cell_type": "markdown",
   "id": "d7f52fc7",
   "metadata": {},
   "source": [
    "### Using raw test data:"
   ]
  },
  {
   "cell_type": "code",
   "execution_count": 22,
   "id": "415c6dd5",
   "metadata": {},
   "outputs": [
    {
     "name": "stdout",
     "output_type": "stream",
     "text": [
      "65/65 [==============================] - 1s 12ms/step - loss: 0.0057 - accuracy: 0.9986\n",
      "Raw test loss: 0.005684391129761934\n",
      "Raw test accuracy: 0.9985563158988953\n"
     ]
    }
   ],
   "source": [
    "loss, accuracy = export_model.evaluate(raw_test_data_source)\n",
    "\n",
    "print(\"Raw test loss:\", loss)\n",
    "print(\"Raw test accuracy:\", accuracy)"
   ]
  },
  {
   "cell_type": "markdown",
   "id": "a6abe3d6",
   "metadata": {},
   "source": [
    "### Accuracy graph:"
   ]
  },
  {
   "cell_type": "code",
   "execution_count": 23,
   "id": "5dae66db",
   "metadata": {},
   "outputs": [
    {
     "data": {
      "text/plain": "<Figure size 640x480 with 1 Axes>",
      "image/png": "[encoded data removed]"
     },
     "metadata": {},
     "output_type": "display_data"
    }
   ],
   "source": [
    "history_dict = history.history\n",
    "history_dict.keys()\n",
    "\n",
    "accuracy = history_dict[\"binary_accuracy\"]\n",
    "validation_accuracy = history_dict[\"val_binary_accuracy\"]\n",
    "loss = history_dict[\"loss\"]\n",
    "validation_loss = history_dict[\"val_loss\"]\n",
    "\n",
    "epochs = range(1, len(accuracy) + 1)\n",
    "\n",
    "plt.plot(epochs, accuracy, \"bo\", label=\"Training accuracy\")  # Blue dots\n",
    "plt.plot(epochs, validation_accuracy, \"b\", label=\"Validation accuracy\")  # Blue line\n",
    "plt.title(\"Training and validation accuracy\")\n",
    "plt.xlabel(\"Epochs\")\n",
    "plt.ylabel(\"Accuracy\")\n",
    "plt.legend(loc=\"lower right\")\n",
    "\n",
    "plt.show()"
   ]
  },
  {
   "cell_type": "markdown",
   "id": "2bbe64ce",
   "metadata": {},
   "source": [
    "### Loss graph:"
   ]
  },
  {
   "cell_type": "code",
   "execution_count": 24,
   "id": "30e53795",
   "metadata": {
    "collapsed": false
   },
   "outputs": [
    {
     "data": {
      "text/plain": "<Figure size 640x480 with 1 Axes>",
      "image/png": "[encoded data removed]"
     },
     "metadata": {},
     "output_type": "display_data"
    }
   ],
   "source": [
    "plt.plot(epochs, loss, \"ro\", label=\"Training loss\")  # Red dots\n",
    "plt.plot(epochs, validation_loss, \"r\", label=\"Validation loss\")  # Red line\n",
    "plt.title(\"Training and validation loss\")\n",
    "plt.xlabel(\"Epochs\")\n",
    "plt.ylabel(\"Loss\")\n",
    "plt.legend()\n",
    "\n",
    "plt.show()"
   ]
  },
  {
   "attachments": {},
   "cell_type": "markdown",
   "id": "a01b8dcd",
   "metadata": {},
   "source": [
    "# Model exportation:"
   ]
  },
  {
   "cell_type": "code",
   "execution_count": 25,
   "id": "2a695597",
   "metadata": {},
   "outputs": [
    {
     "name": "stderr",
     "output_type": "stream",
     "text": [
      "WARNING:absl:Found untraced functions such as _update_step_xla, _update_step_xla, activation_layer_call_fn, activation_layer_call_and_return_conditional_losses, embedding_layer_call_fn while saving (showing 5 of 14). These functions will not be directly callable after loading.\n"
     ]
    },
    {
     "name": "stdout",
     "output_type": "stream",
     "text": [
      "INFO:tensorflow:Assets written to: ../models/formula-inorganic-organic-model\\assets\n"
     ]
    },
    {
     "name": "stderr",
     "output_type": "stream",
     "text": [
      "INFO:tensorflow:Assets written to: ../models/formula-inorganic-organic-model\\assets\n"
     ]
    }
   ],
   "source": [
    "export_model.save(export_location + model_name + \"-model\", save_format='tf')"
   ]
  },
  {
   "cell_type": "markdown",
   "id": "3752da47",
   "metadata": {
    "collapsed": false
   },
   "source": [
    "# Model predictions:"
   ]
  },
  {
   "cell_type": "code",
   "execution_count": 26,
   "id": "ae77d313",
   "metadata": {
    "collapsed": false
   },
   "outputs": [],
   "source": [
    "def predict(examples):\n",
    "    for example in examples:\n",
    "        prediction = export_model.predict([example])[0][0] * 100\n",
    "        category = first_category if prediction < 50 else second_category\n",
    "        print(category, \"(\" + \"%.2f\" % prediction + \"%):\", example)"
   ]
  },
  {
   "cell_type": "markdown",
   "id": "fcccb052",
   "metadata": {
    "collapsed": false
   },
   "source": [
    "### Inorganic formulas:"
   ]
  },
  {
   "cell_type": "code",
   "execution_count": 27,
   "id": "1bfb3576",
   "metadata": {
    "collapsed": false
   },
   "outputs": [
    {
     "name": "stdout",
     "output_type": "stream",
     "text": [
      "1/1 [==============================] - 0s 118ms/step\n",
      "inorganic (0.00%): mn2(Hpo3)3\n",
      "1/1 [==============================] - 0s 37ms/step\n",
      "inorganic (0.00%): NaCl\n",
      "1/1 [==============================] - 0s 34ms/step\n",
      "inorganic (0.00%): H2SO4\n",
      "1/1 [==============================] - 0s 33ms/step\n",
      "inorganic (1.12%): CL203\n",
      "1/1 [==============================] - 0s 38ms/step\n",
      "inorganic (0.04%): znCO2\n",
      "1/1 [==============================] - 0s 37ms/step\n",
      "inorganic (0.32%): H2O\n",
      "1/1 [==============================] - 0s 41ms/step\n",
      "inorganic (0.00%): FeNA2\n",
      "1/1 [==============================] - 0s 36ms/step\n",
      "inorganic (0.00%): G2S2O5\n",
      "1/1 [==============================] - 0s 41ms/step\n",
      "inorganic (0.27%): Cl2O⁺H2O\n"
     ]
    }
   ],
   "source": [
    "inorganic_formulas = [\n",
    "    \"mn2(Hpo3)3\",\n",
    "    \"NaCl\",\n",
    "    \"H2SO4\",\n",
    "    \"CL203\",\n",
    "    \"znCO2\",\n",
    "    \"H2O\",\n",
    "    \"FeNA2\",\n",
    "    \"G2S2O5\",\n",
    "    \"Cl2O⁺H2O\",\n",
    "]\n",
    "\n",
    "predict(inorganic_formulas)"
   ]
  },
  {
   "cell_type": "markdown",
   "id": "6df4f90a",
   "metadata": {
    "collapsed": false
   },
   "source": [
    "### Inorganic names:"
   ]
  },
  {
   "cell_type": "code",
   "execution_count": 28,
   "id": "241d0320",
   "metadata": {
    "collapsed": false
   },
   "outputs": [
    {
     "name": "stdout",
     "output_type": "stream",
     "text": [
      "1/1 [==============================] - 0s 41ms/step\n",
      "inorganic (0.00%): arsenito diacido de sodio\n",
      "1/1 [==============================] - 0s 38ms/step\n",
      "inorganic (0.00%): hipoclorito de sodio\n",
      "1/1 [==============================] - 0s 39ms/step\n",
      "inorganic (0.00%): potasiuro de boro\n",
      "1/1 [==============================] - 0s 38ms/step\n",
      "inorganic (0.00%): cloruro de sodio\n",
      "1/1 [==============================] - 0s 38ms/step\n",
      "inorganic (0.00%): acido disulfuroso\n",
      "1/1 [==============================] - 0s 40ms/step\n",
      "inorganic (0.00%): sulfurico\n"
     ]
    }
   ],
   "source": [
    "inorganic_names = [\n",
    "    \"arsenito diacido de sodio\",\n",
    "    \"hipoclorito de sodio\",\n",
    "    \"potasiuro de boro\",\n",
    "    \"cloruro de sodio\",\n",
    "    \"acido disulfuroso\",\n",
    "    \"sulfurico\",\n",
    "]\n",
    "\n",
    "predict(inorganic_names)"
   ]
  },
  {
   "cell_type": "markdown",
   "id": "d785a7a0",
   "metadata": {
    "collapsed": false
   },
   "source": [
    "### Organic formulas:"
   ]
  },
  {
   "cell_type": "code",
   "execution_count": 29,
   "id": "9012cf99",
   "metadata": {
    "collapsed": false
   },
   "outputs": [
    {
     "name": "stdout",
     "output_type": "stream",
     "text": [
      "1/1 [==============================] - 0s 34ms/step\n",
      "organic (100.00%): Ch3ChCh(Ch3ChCh3)ChCh\n",
      "1/1 [==============================] - 0s 40ms/step\n",
      "organic (100.00%): H3C-CH2\n",
      "1/1 [==============================] - 0s 36ms/step\n",
      "organic (100.00%): H3C-CH2-CH2\n",
      "1/1 [==============================] - 0s 34ms/step\n",
      "organic (100.00%): h c c h\n",
      "1/1 [==============================] - 0s 37ms/step\n",
      "organic (100.00%): h c c h h c c h\n",
      "1/1 [==============================] - 0s 35ms/step\n",
      "organic (100.00%): CH3-CO-O-CH2-CH3\n",
      "1/1 [==============================] - 0s 71ms/step\n",
      "organic (100.00%): CH3-CH2-O-CH2-CH3\n",
      "1/1 [==============================] - 0s 54ms/step\n",
      "organic (100.00%): CH3-CH2-CH=CH-COOH\n",
      "1/1 [==============================] - 0s 56ms/step\n",
      "organic (100.00%): ch3chch2ch(ch2ch2ch3)cooh\n",
      "1/1 [==============================] - 0s 44ms/step\n",
      "organic (100.00%): ch3(Ch3)Chch2Ch(Ch3)Ch2Ch(Ch2Ch2Ch3)Ch3\n"
     ]
    }
   ],
   "source": [
    "organic_formulas = [\n",
    "    \"Ch3ChCh(Ch3ChCh3)ChCh\",\n",
    "    \"H3C-CH2\",\n",
    "    \"H3C-CH2-CH2\",\n",
    "    \"h c c h\",\n",
    "    \"h c c h h c c h\",\n",
    "    \"CH3-CO-O-CH2-CH3\",\n",
    "    \"CH3-CH2-O-CH2-CH3\",\n",
    "    \"CH3-CH2-CH=CH-COOH\",\n",
    "    \"ch3chch2ch(ch2ch2ch3)cooh\",\n",
    "    \"ch3(Ch3)Chch2Ch(Ch3)Ch2Ch(Ch2Ch2Ch3)Ch3\",\n",
    "]\n",
    "\n",
    "predict(organic_formulas)"
   ]
  },
  {
   "cell_type": "markdown",
   "id": "c289c79f",
   "metadata": {
    "collapsed": false
   },
   "source": [
    "### Organic names:"
   ]
  },
  {
   "cell_type": "code",
   "execution_count": 30,
   "id": "f514a6d5",
   "metadata": {},
   "outputs": [
    {
     "name": "stdout",
     "output_type": "stream",
     "text": [
      "1/1 [==============================] - 0s 39ms/step\n",
      "inorganic (0.00%): arsano\n",
      "1/1 [==============================] - 0s 54ms/step\n",
      "inorganic (0.00%): benceno\n",
      "1/1 [==============================] - 0s 44ms/step\n",
      "inorganic (0.00%): naftaleno\n",
      "1/1 [==============================] - 0s 52ms/step\n",
      "inorganic (0.00%): 2-cloropentanato\n",
      "1/1 [==============================] - 0s 47ms/step\n",
      "inorganic (0.00%): cloruro de propilo\n",
      "1/1 [==============================] - 0s 45ms/step\n",
      "inorganic (0.00%): di 2-cloropentanil éter\n",
      "1/1 [==============================] - 0s 48ms/step\n",
      "inorganic (0.00%): 2-bromo-2-cloropropano\n",
      "1/1 [==============================] - 0s 44ms/step\n",
      "inorganic (0.00%): metanoato de isopropilo\n",
      "1/1 [==============================] - 0s 41ms/step\n",
      "inorganic (0.00%): orto-difenilciclohexano\n",
      "1/1 [==============================] - 0s 41ms/step\n",
      "inorganic (0.00%): 2-bromo-2-cloropropil yododecil éter\n",
      "1/1 [==============================] - 0s 40ms/step\n",
      "inorganic (0.00%): 3-cloro-2-fluoro-hexa-1,3-dien-5-in-1-ona\n",
      "1/1 [==============================] - 0s 45ms/step\n",
      "inorganic (0.00%): 4-amino-2,6,6-tricloro-7,7-difluoro-89-metil-3-nitro-1,1-diyodononaconta-1,3-dien-5-ona\n"
     ]
    }
   ],
   "source": [
    "organic_names = [\n",
    "    \"arsano\",\n",
    "    \"benceno\",\n",
    "    \"naftaleno\",\n",
    "    \"2-cloropentanato\",\n",
    "    \"cloruro de propilo\",\n",
    "    \"di 2-cloropentanil éter\",\n",
    "    \"2-bromo-2-cloropropano\",\n",
    "    \"metanoato de isopropilo\",\n",
    "    \"orto-difenilciclohexano\",\n",
    "    \"2-bromo-2-cloropropil yododecil éter\",\n",
    "    \"3-cloro-2-fluoro-hexa-1,3-dien-5-in-1-ona\",\n",
    "    \"4-amino-2,6,6-tricloro-7,7-difluoro-89-metil-3-nitro-1,1-diyodononaconta-1,3-dien-5-ona\",\n",
    "]\n",
    "\n",
    "predict(organic_names)"
   ]
  }
 ],
 "metadata": {
  "kernelspec": {
   "display_name": "Python 3 (ipykernel)",
   "language": "python",
   "name": "python3"
  },
  "language_info": {
   "codemirror_mode": {
    "name": "ipython",
    "version": 3
   },
   "file_extension": ".py",
   "mimetype": "text/x-python",
   "name": "python",
   "nbconvert_exporter": "python",
   "pygments_lexer": "ipython3",
   "version": "3.11.0"
  }
 },
 "nbformat": 4,
 "nbformat_minor": 5
}
