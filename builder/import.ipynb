{
 "cells": [
  {
   "cell_type": "code",
   "execution_count": 1,
   "metadata": {},
   "outputs": [],
   "source": [
    "import tensorflow as tf\n",
    "from tensorflow.python.keras import layers, losses\n",
    "import os\n",
    "import json\n",
    "from tensorflow.keras.layers.experimental.preprocessing import TextVectorization"
   ]
  },
  {
   "attachments": {},
   "cell_type": "markdown",
   "metadata": {},
   "source": [
    "### Model settings"
   ]
  },
  {
   "cell_type": "code",
   "execution_count": 2,
   "metadata": {},
   "outputs": [],
   "source": [
    "first_category = \"formula\"\n",
    "second_category = \"name\"\n",
    "data_folder = \"formula-name\""
   ]
  },
  {
   "attachments": {},
   "cell_type": "markdown",
   "metadata": {},
   "source": [
    "### Data Standarization"
   ]
  },
  {
   "cell_type": "code",
   "execution_count": 3,
   "metadata": {},
   "outputs": [],
   "source": [
    "@tf.keras.utils.register_keras_serializable()\n",
    "def data_standardization(input_data): # CH3-CH=CH-CH(NO2)Br\n",
    "    input_data = tf.strings.lower(input_data) # ch3-ch=ch-ch(no2)br\n",
    "    input_data = tf.strings.regex_replace(input_data, \"[^a-zà-ú]\", ' ') # ch  ch ch ch no  br\n",
    "    return tf.strings.regex_replace(input_data, \"\\s+\", ' ') # ch ch ch ch no br"
   ]
  },
  {
   "cell_type": "code",
   "execution_count": 4,
   "metadata": {},
   "outputs": [],
   "source": [
    "loaded_model = tf.keras.models.load_model(\"models/\" + data_folder + \"-model\")"
   ]
  },
  {
   "cell_type": "code",
   "execution_count": 10,
   "metadata": {},
   "outputs": [],
   "source": [
    "def predict_categories(examples):\n",
    "    for example in examples:\n",
    "        prediction = loaded_model.predict([example])[0][0] * 100\n",
    "        category = first_category if prediction < 50 else second_category\n",
    "        print(category, \"(\" + \"%.2f\" % prediction + \"%):\", example)"
   ]
  },
  {
   "cell_type": "code",
   "execution_count": 15,
   "metadata": {},
   "outputs": [
    {
     "name": "stdout",
     "output_type": "stream",
     "text": [
      "1/1 [==============================] - 0s 33ms/step\n",
      "name (100.00%): arsenito diacido de sodio\n",
      "1/1 [==============================] - 0s 36ms/step\n",
      "name (100.00%): hipoclorito de sodio\n",
      "1/1 [==============================] - 0s 36ms/step\n",
      "name (100.00%): potasiuro de boro\n",
      "1/1 [==============================] - 0s 34ms/step\n",
      "name (100.00%): cloruro de sodio\n",
      "1/1 [==============================] - 0s 37ms/step\n",
      "name (51.57%): acido disulfuroso\n",
      "1/1 [==============================] - 0s 33ms/step\n",
      "name (51.57%): sulfurico\n"
     ]
    }
   ],
   "source": [
    "inorganic_names = [\n",
    "    \"arsenito diacido de sodio\",\n",
    "    \"hipoclorito de sodio\",\n",
    "    \"potasiuro de boro\",\n",
    "    \"cloruro de sodio\",\n",
    "    \"acido disulfuroso\",\n",
    "    \"sulfurico\"\n",
    "]\n",
    "\n",
    "predict_categories(inorganic_names) # 98.21%"
   ]
  },
  {
   "cell_type": "code",
   "execution_count": 11,
   "metadata": {},
   "outputs": [
    {
     "name": "stdout",
     "output_type": "stream",
     "text": [
      "1/1 [==============================] - 0s 42ms/step\n",
      "name (51.57%): arsano\n",
      "1/1 [==============================] - 0s 42ms/step\n",
      "name (99.98%): benceno\n",
      "1/1 [==============================] - 0s 35ms/step\n",
      "name (51.57%): naftaleno\n",
      "1/1 [==============================] - 0s 36ms/step\n",
      "name (51.57%): 2-cloropentanato\n",
      "1/1 [==============================] - 0s 34ms/step\n",
      "name (100.00%): cloruro de propilo\n",
      "1/1 [==============================] - 0s 38ms/step\n",
      "name (100.00%): di 2-cloropentanil éter\n",
      "1/1 [==============================] - 0s 45ms/step\n",
      "name (100.00%): 2-bromo-2-cloropropano\n",
      "1/1 [==============================] - 0s 48ms/step\n",
      "name (100.00%): metanoato de isopropilo\n",
      "1/1 [==============================] - 0s 48ms/step\n",
      "name (51.57%): orto-difenilciclohexano\n",
      "1/1 [==============================] - 0s 37ms/step\n",
      "name (100.00%): 2-bromo-2-cloropropil yododecil éter\n",
      "1/1 [==============================] - 0s 38ms/step\n",
      "name (100.00%): 3-cloro-2-fluoro-hexa-1,3-dien-5-in-1-ona\n",
      "1/1 [==============================] - 0s 36ms/step\n",
      "name (100.00%): 4-amino-2,6,6-tricloro-7,7-difluoro-89-metil-3-nitro-1,1-diyodononaconta-1,3-dien-5-ona\n"
     ]
    }
   ],
   "source": [
    "organic_names = [\n",
    "    \"arsano\",\n",
    "    \"benceno\",\n",
    "    \"naftaleno\",\n",
    "    \"2-cloropentanato\",\n",
    "    \"cloruro de propilo\",\n",
    "    \"di 2-cloropentanil éter\",\n",
    "    \"2-bromo-2-cloropropano\",\n",
    "    \"metanoato de isopropilo\",\n",
    "    \"orto-difenilciclohexano\",\n",
    "    \"2-bromo-2-cloropropil yododecil éter\",\n",
    "    \"3-cloro-2-fluoro-hexa-1,3-dien-5-in-1-ona\",\n",
    "    \"4-amino-2,6,6-tricloro-7,7-difluoro-89-metil-3-nitro-1,1-diyodononaconta-1,3-dien-5-ona\",\n",
    "]\n",
    "\n",
    "predict_categories(organic_names)"
   ]
  },
  {
   "cell_type": "code",
   "execution_count": 12,
   "metadata": {},
   "outputs": [
    {
     "name": "stdout",
     "output_type": "stream",
     "text": [
      "1/1 [==============================] - 0s 35ms/step\n",
      "formula (0.00%): Ch3ChCh(Ch3ChCh3)ChCh\n",
      "1/1 [==============================] - 0s 37ms/step\n",
      "formula (0.00%): H3C-CH2\n",
      "1/1 [==============================] - 0s 36ms/step\n",
      "formula (0.00%): H3C-CH2-CH2\n",
      "1/1 [==============================] - 0s 38ms/step\n",
      "formula (0.00%): h c c h\n",
      "1/1 [==============================] - 0s 36ms/step\n",
      "formula (0.00%): h c c h h c c h\n",
      "1/1 [==============================] - 0s 32ms/step\n",
      "formula (0.00%): CH3-CO-O-CH2-CH3\n",
      "1/1 [==============================] - 0s 34ms/step\n",
      "formula (0.00%): CH3-CH2-O-CH2-CH3\n",
      "1/1 [==============================] - 0s 35ms/step\n",
      "formula (0.00%): CH3-CH2-CH=CH-COOH\n",
      "1/1 [==============================] - 0s 43ms/step\n",
      "formula (0.00%): ch3chch2ch(ch2ch2ch3)cooh\n",
      "1/1 [==============================] - 0s 65ms/step\n",
      "formula (0.00%): ch3(Ch3)Chch2Ch(Ch3)Ch2Ch(Ch2Ch2Ch3)Ch3\n"
     ]
    }
   ],
   "source": [
    "organic_formulas = [\n",
    "    \"Ch3ChCh(Ch3ChCh3)ChCh\",\n",
    "    \"H3C-CH2\",\n",
    "    \"H3C-CH2-CH2\",\n",
    "    \"h c c h\",\n",
    "    \"h c c h h c c h\",\n",
    "    \"CH3-CO-O-CH2-CH3\",\n",
    "    \"CH3-CH2-O-CH2-CH3\",\n",
    "    \"CH3-CH2-CH=CH-COOH\",\n",
    "    \"ch3chch2ch(ch2ch2ch3)cooh\",\n",
    "    \"ch3(Ch3)Chch2Ch(Ch3)Ch2Ch(Ch2Ch2Ch3)Ch3\",\n",
    "]\n",
    "\n",
    "predict_categories(organic_formulas)"
   ]
  },
  {
   "cell_type": "code",
   "execution_count": 13,
   "metadata": {},
   "outputs": [
    {
     "name": "stdout",
     "output_type": "stream",
     "text": [
      "1/1 [==============================] - 0s 35ms/step\n",
      "name (51.57%): arsano\n",
      "1/1 [==============================] - 0s 37ms/step\n",
      "name (99.98%): benceno\n",
      "1/1 [==============================] - 0s 34ms/step\n",
      "name (51.57%): naftaleno\n",
      "1/1 [==============================] - 0s 36ms/step\n",
      "name (51.57%): 2-cloropentanato\n",
      "1/1 [==============================] - 0s 34ms/step\n",
      "name (100.00%): cloruro de propilo\n",
      "1/1 [==============================] - 0s 34ms/step\n",
      "name (100.00%): di 2-cloropentanil éter\n",
      "1/1 [==============================] - 0s 37ms/step\n",
      "name (100.00%): 2-bromo-2-cloropropano\n",
      "1/1 [==============================] - 0s 32ms/step\n",
      "name (100.00%): metanoato de isopropilo\n",
      "1/1 [==============================] - 0s 41ms/step\n",
      "name (51.57%): orto-difenilciclohexano\n",
      "1/1 [==============================] - 0s 31ms/step\n",
      "name (100.00%): 2-bromo-2-cloropropil yododecil éter\n",
      "1/1 [==============================] - 0s 34ms/step\n",
      "name (100.00%): 3-cloro-2-fluoro-hexa-1,3-dien-5-in-1-ona\n",
      "1/1 [==============================] - 0s 41ms/step\n",
      "name (100.00%): 4-amino-2,6,6-tricloro-7,7-difluoro-89-metil-3-nitro-1,1-diyodononaconta-1,3-dien-5-ona\n"
     ]
    }
   ],
   "source": [
    "organic_names = [\n",
    "    \"arsano\",\n",
    "    \"benceno\",\n",
    "    \"naftaleno\",\n",
    "    \"2-cloropentanato\",\n",
    "    \"cloruro de propilo\",\n",
    "    \"di 2-cloropentanil éter\",\n",
    "    \"2-bromo-2-cloropropano\",\n",
    "    \"metanoato de isopropilo\",\n",
    "    \"orto-difenilciclohexano\",\n",
    "    \"2-bromo-2-cloropropil yododecil éter\",\n",
    "    \"3-cloro-2-fluoro-hexa-1,3-dien-5-in-1-ona\",\n",
    "    \"4-amino-2,6,6-tricloro-7,7-difluoro-89-metil-3-nitro-1,1-diyodononaconta-1,3-dien-5-ona\",\n",
    "]\n",
    "\n",
    "predict_categories(organic_names)"
   ]
  },
  {
   "cell_type": "code",
   "execution_count": 22,
   "metadata": {},
   "outputs": [
    {
     "name": "stdout",
     "output_type": "stream",
     "text": [
      "1/1 [==============================] - 0s 47ms/step\n",
      "formula (0.00%): mn2(Hpo3)3\n",
      "1/1 [==============================] - 0s 32ms/step\n",
      "name (51.57%): NaCl\n",
      "1/1 [==============================] - 0s 41ms/step\n",
      "formula (0.00%): H2SO4\n",
      "1/1 [==============================] - 0s 34ms/step\n",
      "formula (0.01%): CL203\n",
      "1/1 [==============================] - 0s 32ms/step\n",
      "name (51.57%): znCO2\n",
      "1/1 [==============================] - 0s 36ms/step\n",
      "formula (0.00%): H2O\n",
      "1/1 [==============================] - 0s 32ms/step\n",
      "name (51.57%): FeNA2\n",
      "1/1 [==============================] - 0s 33ms/step\n",
      "formula (3.05%): G2S2O5\n",
      "1/1 [==============================] - 0s 32ms/step\n",
      "formula (0.00%): Cl2O⁺H2O\n"
     ]
    }
   ],
   "source": [
    "inorganic_formulas = [\n",
    "    \"mn2(Hpo3)3\",\n",
    "    \"NaCl\",\n",
    "    \"H2SO4\",\n",
    "    \"CL203\",\n",
    "    \"znCO2\",\n",
    "    \"H2O\",\n",
    "    \"FeNA2\",\n",
    "    \"G2S2O5\",\n",
    "    \"Cl2O⁺H2O\",\n",
    "]\n",
    "\n",
    "predict_categories(inorganic_formulas)"
   ]
  }
 ],
 "metadata": {
  "kernelspec": {
   "display_name": "Python 3",
   "language": "python",
   "name": "python3"
  },
  "language_info": {
   "codemirror_mode": {
    "name": "ipython",
    "version": 3
   },
   "file_extension": ".py",
   "mimetype": "text/x-python",
   "name": "python",
   "nbconvert_exporter": "python",
   "pygments_lexer": "ipython3",
   "version": "3.11.0"
  },
  "orig_nbformat": 4
 },
 "nbformat": 4,
 "nbformat_minor": 2
}
