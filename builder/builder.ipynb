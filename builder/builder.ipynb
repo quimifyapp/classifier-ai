{
 "cells": [
  {
   "cell_type": "code",
   "execution_count": 1,
   "id": "b30b0d6b",
   "metadata": {},
   "outputs": [],
   "source": [
    "import tensorflow as tf\n",
    "from tensorflow.python.keras import layers, losses\n",
    "import matplotlib.pyplot as plt\n",
    "import os"
   ]
  },
  {
   "cell_type": "markdown",
   "id": "17a880e3",
   "metadata": {},
   "source": [
    "# Data location:"
   ]
  },
  {
   "cell_type": "code",
   "execution_count": 2,
   "id": "592d0ac5",
   "metadata": {},
   "outputs": [
    {
     "name": "stdout",
     "output_type": "stream",
     "text": [
      "In data: ['inorganic-formulas.txt', 'inorganic-names.txt', 'organic-formulas.txt', 'organic-names.txt', 'test', 'train']\n",
      "In train: ['inorganic-formula', 'inorganic-formulas-90%.txt', 'inorganic-name', 'inorganic-names-90%.txt', 'organic-formula', 'organic-formulas-90%.txt', 'organic-name', 'organic-names-90%.txt']\n",
      "In test: ['inorganic-formula', 'inorganic-formulas-10%.txt', 'inorganic-name', 'inorganic-names-10%.txt', 'organic-formula', 'organic-formulas-10%.txt', 'organic-name', 'organic-names-10%.txt']\n"
     ]
    }
   ],
   "source": [
    "data_folder = \"formula-name\"\n",
    "\n",
    "dataset_directory = os.path.join(os.path.dirname(\"data\"), \"data\", data_folder)\n",
    "train_directory = os.path.join(dataset_directory, \"train\")\n",
    "test_directory = os.path.join(dataset_directory, \"test\")\n",
    "\n",
    "print(\"In data:\", os.listdir(dataset_directory))\n",
    "print(\"In train:\", os.listdir(train_directory))\n",
    "print(\"In test:\", os.listdir(test_directory))"
   ]
  },
  {
   "cell_type": "markdown",
   "id": "12ee3cb6",
   "metadata": {},
   "source": [
    "### Sample file:"
   ]
  },
  {
   "cell_type": "code",
   "execution_count": 35,
   "id": "c7a82a9b",
   "metadata": {},
   "outputs": [
    {
     "name": "stdout",
     "output_type": "stream",
     "text": [
      "Sample file: \n",
      "\n"
     ]
    }
   ],
   "source": [
    "sample_file = os.path.join(train_directory, \"inorganic-formula\", \"aa.txt\")\n",
    "\n",
    "print(\"Sample file:\", open(sample_file).read())"
   ]
  },
  {
   "cell_type": "markdown",
   "id": "f756c0db",
   "metadata": {},
   "source": [
    "# Data collection:"
   ]
  },
  {
   "cell_type": "code",
   "execution_count": 4,
   "id": "4386e04c",
   "metadata": {},
   "outputs": [],
   "source": [
    "seed = 32 # Random seed for data shuffling and transformations\n",
    "validation_split = 0.2 # Proportion of train data used to validate the model"
   ]
  },
  {
   "cell_type": "code",
   "execution_count": 5,
   "id": "ecc4ea5f",
   "metadata": {},
   "outputs": [
    {
     "name": "stdout",
     "output_type": "stream",
     "text": [
      "Found 18229 files belonging to 4 classes.\n",
      "Using 14584 files for training.\n"
     ]
    }
   ],
   "source": [
    "raw_train_data_source = tf.keras.utils.text_dataset_from_directory(\n",
    "    train_directory,\n",
    "    subset = \"training\",\n",
    "    seed = seed,\n",
    "    validation_split = validation_split,\n",
    ")"
   ]
  },
  {
   "cell_type": "code",
   "execution_count": 6,
   "id": "4f060c1a",
   "metadata": {
    "scrolled": true
   },
   "outputs": [
    {
     "name": "stdout",
     "output_type": "stream",
     "text": [
      "Found 18229 files belonging to 4 classes.\n",
      "Using 3645 files for validation.\n"
     ]
    }
   ],
   "source": [
    "raw_validation_data_source = tf.keras.utils.text_dataset_from_directory(\n",
    "    train_directory,\n",
    "    subset = \"validation\",\n",
    "    seed = seed,\n",
    "    validation_split = validation_split,\n",
    ")"
   ]
  },
  {
   "cell_type": "code",
   "execution_count": 7,
   "outputs": [
    {
     "name": "stdout",
     "output_type": "stream",
     "text": [
      "Found 3012 files belonging to 4 classes.\n"
     ]
    }
   ],
   "source": [
    "raw_test_data_source = tf.keras.utils.text_dataset_from_directory(\n",
    "    test_directory,\n",
    ")"
   ],
   "metadata": {
    "collapsed": false
   }
  },
  {
   "cell_type": "markdown",
   "source": [
    "# Data pre-processing:"
   ],
   "metadata": {
    "collapsed": false
   }
  },
  {
   "cell_type": "code",
   "execution_count": 8,
   "id": "de24885e",
   "metadata": {},
   "outputs": [],
   "source": [
    "def data_standardization(input_data): # CH3-CH=CH-CH(NO2)Br\n",
    "    input_data = tf.strings.lower(input_data) # ch3-ch=ch-ch(no2)br\n",
    "    input_data = tf.strings.regex_replace(input_data, \"[^a-zà-ú]\", ' ') # ch  ch ch ch no  br\n",
    "    return tf.strings.regex_replace(input_data, \"\\s+\", ' ') # ch ch ch ch no br"
   ]
  },
  {
   "cell_type": "code",
   "execution_count": 9,
   "id": "c743ab07",
   "metadata": {},
   "outputs": [],
   "source": [
    "max_features = 2048 # Sets a boundary for len(vectorize_layer.get_vocabulary())"
   ]
  },
  {
   "cell_type": "code",
   "execution_count": 10,
   "id": "a5ad8c12",
   "metadata": {},
   "outputs": [],
   "source": [
    "sequence_length = 16 # Vectorized string's dimension\n",
    "\n",
    "vectorize_layer = tf.keras.layers.TextVectorization(\n",
    "    output_mode = \"int\",\n",
    "    max_tokens = max_features,\n",
    "    standardize = data_standardization,\n",
    "    output_sequence_length = sequence_length\n",
    ")"
   ]
  },
  {
   "cell_type": "code",
   "execution_count": 11,
   "id": "960154cf",
   "metadata": {},
   "outputs": [
    {
     "name": "stdout",
     "output_type": "stream",
     "text": [
      "WARNING:tensorflow:From C:\\Users\\pablo\\PycharmProjects\\quimify-classifier\\venv\\lib\\site-packages\\tensorflow\\python\\autograph\\pyct\\static_analysis\\liveness.py:83: Analyzer.lamba_check (from tensorflow.python.autograph.pyct.static_analysis.liveness) is deprecated and will be removed after 2023-09-23.\n",
      "Instructions for updating:\n",
      "Lambda fuctions will be no more assumed to be used in the statement where they are used, or at least in the same block. https://github.com/tensorflow/tensorflow/issues/56089\n"
     ]
    }
   ],
   "source": [
    "# Makes a text-only dataset (without labels), then calls adapt\n",
    "train_text = raw_train_data_source.map(lambda x, y: x)\n",
    "vectorize_layer.adapt(train_text)"
   ]
  },
  {
   "cell_type": "code",
   "execution_count": 12,
   "id": "09a9aed6",
   "metadata": {},
   "outputs": [],
   "source": [
    "def vectorize_text(text, label):\n",
    "  text = tf.expand_dims(text, -1)\n",
    "  return vectorize_layer(text), label"
   ]
  },
  {
   "cell_type": "code",
   "execution_count": 13,
   "id": "6073a5e2",
   "metadata": {
    "scrolled": true
   },
   "outputs": [
    {
     "name": "stdout",
     "output_type": "stream",
     "text": [
      "Review: tf.Tensor(b'CH2Cl-CH2-CH2-CH=CH2\\r\\n', shape=(), dtype=string)\n",
      "Label: organic-formula\n",
      "Vectorized review: (<tf.Tensor: shape=(1, 16), dtype=int64, numpy=\n",
      "array([[ 2, 17,  2,  2,  2,  2,  0,  0,  0,  0,  0,  0,  0,  0,  0,  0]],\n",
      "      dtype=int64)>, <tf.Tensor: shape=(), dtype=int32, numpy=2>)\n"
     ]
    }
   ],
   "source": [
    "# Retrieves a batch of 32 reviews and labels from the dataset\n",
    "text_batch, label_batch = next(iter(raw_train_data_source))\n",
    "first_review, first_label = text_batch[0], label_batch[0]\n",
    "\n",
    "print(\"Review:\", first_review)\n",
    "print(\"Label:\", raw_train_data_source.class_names[first_label])\n",
    "print(\"Vectorized review:\", vectorize_text(first_review, first_label))"
   ]
  },
  {
   "cell_type": "code",
   "execution_count": 14,
   "id": "253bb49b",
   "metadata": {},
   "outputs": [
    {
     "name": "stdout",
     "output_type": "stream",
     "text": [
      "Vocabulary size: 2048\n"
     ]
    }
   ],
   "source": [
    "print(\"Vocabulary size:\", len(vectorize_layer.get_vocabulary()))"
   ]
  },
  {
   "cell_type": "code",
   "execution_count": 15,
   "id": "0e400c8e",
   "metadata": {},
   "outputs": [
    {
     "name": "stdout",
     "output_type": "stream",
     "text": [
      "Vocabulary: ['', 'c', 'o', 'i', 'f', 'v', 's', 'h', 'p', 'n', 'u', 'k', 'b', 'w', 'y', 'ch', 'no', 'en', 'ol', 'oh', 'in', 'cl', 'nh', 'br', 'de', 'cf', 'ci', 'co', 'io', 'so', 'cn', 'po', 'ii', 'iv', 'ni', 'cr', 'pb', 'fe', 'bi', 'au', 'cu', 'pt', 'sn', 'mn', 'ti', 'vi', 'hg', 'si', 'se', 'te', 'sb', 'mo', 'as', 'bo', 'os', 'al', 'ta', 'nb', 'pd', 'ag', 'li', 'ga', 'tl', 'ca', 'na', 'zr', 'zn', 'mg', 'cs', 'cd', 'ba', 'sr', 'rb', 'sc', 'ra', 'ir', 'ru', 're', 'eu', 'la', 'be', 'sm', 'rh', 'fr', 'ce', 'wo', 'tc', 'pr', 'am', 'th', 'ho', 'hf', 'tm', 'pu', 'lu', 'ac', 'np', 'yb', 'vo', 'dy', 'cm', 'bk', 'tb', 'uf', 'pa', 'gd', 'pm', 'nd', 'if', 'vh', 'vf', 'us', 'sf', 'ph', 'nf', 'kh', 'hs', 'ge', 'es', 'yn', 'yi', 'yh', 'yf', 'ws', 'wp', 'wn', 'wh', 'wf', 'wc', 'vs', 'vp', 'vn', 'vc', 'ui', 'uh', 'ts', 'rn', 'rf', 'pn', 'pi', 'pf', 'og', 'ne', 'mt', 'md', 'kr', 'ki', 'kf', 'hi', 'ino', 'ona', 'ccl', 'cbr', 'chf', 'chi', 'eno', 'clo', 'cho', 'bro', 'teo', 'iii', 'seo', 'aso', 'but', 'cro', 'hex', 'bis', 'sbo', 'mno', 'sio', 'oct', 'oxo', 'vii', 'oro', 'non', 'dec', 'tco', 'hso', 'reo', 'hpo', 'ruh', 'osf', 'nbh', 'icl', 'hco', 'clf', 'tii', 'tes', 'ses', 'ruo', 'rho', 'reh', 'oso', 'osh', 'nbr', 'moo', 'mof', 'mni', 'mnh', 'mnf', 'irh', 'ibr', 'hno', 'hio', 'wcl', 'wbr', 'vso', 'vse', 'vcl', 'vbr', 'uat', 'tli', 'tlh', 'tlf', 'tio', 'tif', 'tao', 'tai', 'tah', 'sns', 'sni', 'snh', 'smh', 'sif', 'sei', 'sef', 'sbr', 'sbi', 'ruf', 'rhs', 'pts', 'pto', 'pti', 'pth', 'ptf', 'pri', 'pds', 'pdi', 'pdf', 'pbs', 'pbr', 'osi', 'npo', 'ncl', 'nbs', 'mos', 'mns', 'mnp', 'irs', 'iro', 'hgf', 'fei', 'cuf', 'cse', 'crs', 'cri', 'crb', 'coi', 'coh', 'cof', 'brf', 'bih', 'aui', 'auh', 'asi', 'amo', 'amh', 'zrs', 'zro', 'zrh', 'zns', 'zni', 'znf', 'ycl', 'ybr', 'ybo', 'ybh', 'yas', 'wso', 'wsb', 'vte', 'vpo', 'vat', 'vas', 'ute', 'use', 'ucl', 'ubr', 'uas', 'tmp', 'tmo', 'tmi', 'tmh', 'tmf', 'tln', 'tis', 'tip', 'tin', 'tih', 'thf', 'tei', 'tef', 'tbo', 'tbh', 'tab', 'srs', 'sro', 'sri', 'sno', 'snc', 'smo', 'smn', 'sis', 'sii', 'sic', 'scp', 'scl', 'sch', 'scf', 'sbn', 'sbh', 'sbf', 'rus', 'rui', 'rhh', 'res', 'ren', 'rei', 'rbi', 'rbf', 'rao', 'rai', 'rah', 'raf', 'pus', 'pun', 'ptc', 'pro', 'prh', 'pmh', 'pdo', 'pdh', 'pdc', 'pcl', 'pbo', 'pbi', 'pbh', 'pbf', 'pbc', 'pao', 'pah', 'pac', 'oss', 'osp', 'osc', 'osb', 'npi', 'npf', 'nio', 'nin', 'nii', 'nih', 'nif', 'nib', 'nbo', 'nbi', 'nbf', 'nbc', 'nao', 'nai', 'nah', 'mon', 'moi', 'moh', 'moc', 'mnn', 'mnc', 'mnb', 'mgs', 'mgo', 'mgi', 'mgh', 'mgf', 'lun', 'lui', 'luh', 'lai', 'laf', 'koh', 'kno', 'kio', 'khs', 'kcl', 'kbr', 'kat', 'iri', 'inn', 'ini', 'inh', 'inf', 'inb', 'hvo', 'hop', 'hon', 'hoi', 'hoh', 'hgs', 'hgo', 'hgi', 'hgh', 'hfs', 'hfo', 'hfh', 'hff', 'hfc', 'éter', 'inil', 'dien', 'enil', 'chbr', 'chcl', 'diin', 'etil', 'diol', 'inal', 'cooh', 'conh', 'prop', 'enal', 'buta', 'hexa', 'tris', 'nona', 'pent', 'hept', 'octa', 'deca', 'kclo', 'ticl', 'tibr', 'snso', 'pdso', 'pbso', 'naio', 'mocl', 'mnso', 'mnse', 'liio', 'hgno', 'hclo', 'hbro', 'feso', 'csno', 'crcl', 'crbr', 'cinc', 'baso', 'agno', 'agio', 'znso', 'yodo', 'tlno', 'tlcl', 'tite', 'tebr', 'srso', 'snse', 'snbr', 'smcl', 'secl', 'sebr', 'sbcl', 'sbbr', 'rhcl', 'rbio', 'raso', 'ptse', 'ptcl', 'ptbr', 'pdte', 'pdcl', 'pdbr', 'pbbr', 'osse', 'oscl', 'osbr', 'nicl', 'nano', 'mobr', 'mnte', 'mnpo', 'mncl', 'mnbr', 'mgso', 'lino', 'kbro', 'irte', 'irpo', 'ircl', 'hseo', 'hgso', 'hgio', 'gapo', 'frno', 'fepo', 'fecl', 'cuso', 'cucl', 'cubr', 'crte', 'crse', 'coso', 'cobr', 'cdso', 'boro', 'bipo', 'bicl', 'bibr', 'auno', 'auio', 'aucl', 'ascl', 'asbr', 'alpo', 'zrte', 'zrso', 'zrcl', 'zrat', 'znte', 'znco', 'zncl', 'znbr', 'ybco', 'ybcl', 'vteo', 'viii', 'usio', 'tlpo', 'tloh', 'tiso', 'tisi', 'tise', 'tipo', 'tias', 'thas', 'tese', 'tecl', 'tbcl', 'tbat', 'tacl', 'tabr', 'srse', 'srcl', 'snte', 'sncl', 'smso', 'site', 'sise', 'sicl', 'sibr', 'sccl', 'scbr', 'scat', 'sbas', 'rucl', 'rubr', 'rhso', 'rhpo', 'rhbr', 'resb', 'reat', 'rboh', 'rbno', 'rbcl', 'rbbr', 'rbat', 'raco', 'racl', 'rabr', 'pubr', 'ptso', 'ptco', 'prte', 'pdse', 'pdco', 'pbwo', 'pbsi', 'pbse', 'pbco', 'pbcl', 'osso', 'ospo', 'npcl', 'niwo', 'nite', 'niso', 'nipo', 'nico', 'nias', 'nbsi', 'nbcl', 'nbbr', 'nbat', 'naoh', 'nabr', 'mote', 'mopo', 'mnat', 'mnas', 'mgte', 'mgse', 'mgco', 'mgbr', 'mgat', 'lioh', 'libr', 'liat', 'lacl', 'labr', 'kmno', 'khco', 'kcno', 'kalo', 'irse', 'irsb', 'irco', 'insb', 'inpo', 'inbr', 'htco', 'hopo', 'hocl', 'hmno', 'hgte', 'hgse', 'hgoh', 'hgco', 'hgcl', 'hgbr', 'hgat', 'hfte', 'hfso', 'hfsb', 'hfcl', '[UNK]', 'bromo', 'cloro', 'nitro', 'amina', 'metil', 'amino', 'trien', 'ácido', 'diino', 'butil', 'dieno', 'triin', 'penta', 'hexil', 'hepta', 'óxido', 'cromo', 'diona', 'ciano', 'triol', 'cobre', 'plomo', 'sodio', 'bario', 'rodio', 'osmio', 'galio', 'cerio', 'undec', 'renio', 'talio', 'radio', 'plata', 'litio', 'cesio', 'znseo', 'torio', 'rbclo', 'rbbro', 'niseo', 'nabro', 'mgseo', 'indio', 'hgteo', 'hgseo', 'hgclo', 'feseo', 'cuclo', 'csclo', 'beteo', 'aubro', 'agclo', 'znteo', 'znmno', 'tulio', 'snteo', 'rateo', 'pdseo', 'pbcro', 'niteo', 'nahso', 'naclo', 'mnseo', 'mgteo', 'liclo', 'libro', 'hgbro', 'frclo', 'flúor', 'feteo', 'fesbo', 'femno', 'dodec', 'cuteo', 'cuseo', 'cucro', 'cubro', 'crseo', 'craso', 'coteo', 'cosbo', 'coaso', 'cdseo', 'cdmno', 'cateo', 'caseo', 'camno', 'cacro', 'bateo', 'baseo', 'bacro', 'auclo', 'auaso', 'alaso', 'agbro', 'zrsio', 'zrseo', 'xenón', 'tlsbo', 'tlclo', 'timno', 'srseo', 'srmno', 'srcro', 'snsio', 'snmno', 'sncro', 'rbhso', 'raseo', 'ramno', 'ptteo', 'ptseo', 'ptmno', 'ptcro', 'pdteo', 'pdsio', 'pdmno', 'pdcro', 'pbteo', 'pbsio', 'pbseo', 'pbmno', 'osteo', 'ossio', 'osseo', 'ossbo', 'nonan', 'nisbo', 'nireo', 'nimno', 'niaso', 'nbsio', 'namno', 'mnteo', 'mnmno', 'mncro', 'mnaso', 'mghpo', 'mgcro', 'lihso', 'lihco', 'licoo', 'hgmno', 'hghso', 'hgcro', 'fluoro', 'diinil', 'dienil', 'etinil', 'trieno', 'pentil', 'propil', 'inoico', 'etenil', 'triino', 'enoico', 'dienal', 'hexaen', 'diinal', 'hierro', 'yoduro', 'undeca', 'estaño', 'níquel', 'oxobut', 'yodato', 'octaen', 'niobio', 'cadmio', 'calcio', 'borato', 'yodito', 'uranio', 'iridio', 'bárico', 'boruro', 'lítico', 'hafnio', 'teluro', 'sódico', 'rádico', 'oxohex', 'dodeca', 'oxooct', 'nonaen', 'heptil', 'césico', 'índico', 'áurico', 'tórico', 'tálico', 'renato', 'holmio', 'gálico', 'dietil', 'cérico', 'auroso', 'yódico', 'terbio', 'rénico', 'octano', 'lifepo', 'hexain', 'yodobut', 'dibromo', 'dicloro', 'tetraen', 'trienil', 'hidroxi', 'diamina', 'yodohex', 'pentaen', 'dinitro', 'triinil', 'diamino', 'inamida', 'enamida', 'yodooct', 'yodonon', 'trienal', 'hexaeno', 'cloruro', 'yododec', 'bromuro', 'platino', 'sulfuro', 'fosfuro', 'sulfito', 'hidruro', 'cobalto', 'fosfato', 'titanio', 'fosfito', 'tetrain', 'oxopent', 'heptaen', 'etilbut', 'paladio', 'nitrato', 'vanadio', 'tántalo', 'trideca', 'sulfato', 'potasio', 'oxohexa', 'ferroso', 'dimetil', 'clorato', 'bromato', 'rubidio', 'cromoso', 'triinal', 'clorito', 'bromito', 'berilio', 'nitruro', 'francio', 'cálcico', 'cromito', 'cromato', 'bismuto', 'nitrito', 'lantano', 'europio', 'etilnon', 'cuproso', 'selenio', 'rutenio', 'férrico', 'etilhex', 'crómico', 'oxoprop', 'oxoocta', 'oxohept', 'oxobuta', 'dibutil', 'cúprico', 'cíncico', 'cádmico', 'carburo', 'talioso', 'samario', 'oxonona', 'octaeno', 'nítrico', 'lutecio', 'irídico', 'etildec', 'dióxido', 'disodio', 'digalio', 'dicromo', 'dicesio', 'decaeno', 'carbono', 'térbico', 'tricinc', 'tetraol', 'rodioso', 'propano', 'pentano', 'pentain', 'nonaeno', 'nitroso', 'iterbio', 'hólmico', 'háfnico', 'hexakis', 'yodoprop', 'difluoro', 'yodohexa', 'nitrobut', 'yodopent', 'yodobuta', 'yodoetil', 'yodoocta', 'nitrohex', 'clorobut', 'yodohept', 'yodonona', 'tetraeno', 'yododeca', 'pentaeno', 'nitrooct', 'clorohex', 'bromobut', 'dienoico', 'metilhex', 'isobutil', 'diinoico', 'metilbut', 'fluoruro', 'nitronon', 'bromohex', 'yodoetan', 'tricloro', 'tribromo', 'selenuro', 'metilnon', 'mercurio', 'metiloct', 'telururo', 'triamina', 'telurato', 'hexaenil', 'clorooct', 'silicuro', 'aluminio', 'tetrakis', 'pentakis', 'nitrodec', 'tetraino', 'telurito', 'magnesio', 'heptaeno', 'butilbut', 'bromooct', 'oxopenta', 'monóxido', 'etilprop', 'circonio', 'selenito', 'potásico', 'peróxido', 'etilpent', 'etilhexa', 'etilhept', 'etilbuta', 'clorodec', 'aminohex', 'aminobut', 'yodoeten', 'oxohepta', 'escandio', 'aminonon', 'trinitro', 'selenato', 'rubídico', 'plumboso', 'octaenil', 'metildec', 'estañoso', 'cloronon', 'butiloct', 'trióxido', 'tricromo', 'tricobre', 'triamino', 'tecnecio', 'paládico', 'etildeca', 'bromodec', 'berílico', 'astaturo', 'arsenuro', 'uranioso', 'triplomo', 'titánico', 'telúrico', 'promecio', 'plúmbico', 'niobioso', 'fráncico', 'etilocta', 'etilnona', 'diyoduro', 'diniobio', 'dihierro', 'diboruro', 'butilnon', 'butilhex', 'bromonon', 'aminooct', 'americio', 'undecaen', 'triradio', 'triplata', 'trilitio', 'teluroso', 'silicato', 'samárico', 'itérbico', 'iridioso', 'hexainil', 'hexainal', 'yodopenta', 'nitroprop', 'yodometil', 'yodohepta', 'nitropent', 'nitrohexa', 'nitrobuta', 'tetraenil', 'fluorobut', 'nitroetil', 'nitroocta', 'cloroprop', 'nitrohept', 'fluorohex', 'bromoprop', 'cloroetil', 'nitronona', 'pentaenil', 'clorohexa', 'yodobutil', 'cloropent', 'yodohexil', 'diyodobut', 'nitrodeca', 'cloroocta', 'metilhept', 'dienamida', 'clorobuta', 'bromoetil', 'hidróxido', 'diinamida', 'bromohexa', 'bromobuta', 'isopropil', 'trienoico', 'propilbut', 'fluorooct', 'manganeso', 'cloronona', 'clorohept', 'metilhexa', 'isopentil', 'dihidroxi', 'bromopent', 'tetraenal', 'metilprop', 'metilpent', 'metilocta', 'bromohept', 'bromodeca', 'metilnona', 'bromoocta', 'pentilbut', 'carbonato', 'manganato', 'etilpenta', 'propilhex', 'fluorodec', 'clorodeca', 'bromonona', 'trifluoro', 'tetrainil', 'metildeca', 'etilhepta', 'diyodohex', 'molibdeno', 'metiletil', 'fluoronon', 'propiloct', 'peryodato', 'heptaenil', 'wolframio', 'pentilhex', 'nitroetan', 'butilprop', 'bismutoso', 'aminohexa', 'yodoetano', 'yodobutan', 'pentiloct', 'niquélico', 'magnésico', 'aminoocta', 'platinoso', 'niqueloso', 'manganoso', 'manganito', 'hidrógeno', 'cobaltoso', 'carbamoil', 'yodoundec', 'yodohexan', 'yodoeteno', 'triyoduro', 'tetradeca', 'platínico', 'pentilnon', 'paladioso', 'oxoyodato', 'metilbuta', 'inodioico', 'etilhexil', 'escándico', 'butilpent', 'aminonona', 'alumínico', 'triinoico', 'tetrainal', 'propildec', 'nitroeten', 'lantánico', 'etilbutil', 'estroncio', 'diyodooct', 'diyodonon', 'divanadio', 'difosfuro', 'dibromuro', 'circónico', 'butilocta', 'butilhexa', 'aminopent', 'aminohept', 'aminobuta', 'yodononan', 'yodododec', 'vanadioso', 'trihierro', 'tricalcio', 'titanioso', 'pentainil', 'pentaenal', 'nitrógeno', 'mercúrico', 'heptaenal', 'diyododec', 'disamario', 'dinitruro', 'dilutecio', 'dihidruro', 'dicobalto', 'dicloruro', 'dibismuto', 'cobáltico', 'cianohexa', 'butildeca', 'berkélico', 'argéntico', 'antimonio', 'anhídrido', 'yodooctan', 'yododecan', 'triniobio', 'triestaño', 'tricadmio', 'tetraboro', 'tecnecato', 'tantálico', 'tantaloso', 'peryódico', 'perrénico', 'pentadeca', 'neodímico', 'mangánico', 'bromometil', 'nitropenta', 'nitrometil', 'fluoroprop', 'clorometil', 'nitrohepta', 'yodoetenil', 'inonitrilo', 'fluorohexa', 'fluoropent', 'yodopropil', 'fluorobuta', 'cloropenta', 'fluoroetil', 'fluoroocta', 'clorohepta', 'yodoetinil', 'diyodoprop', 'enonitrilo', 'metilbutil', 'nitrohexil', 'fluorohept', 'yodoundeca', 'nitrobutil', 'diyodohexa', 'bromopenta', 'yodopentil', 'fluorodeca', 'pentilprop', 'metilhepta', 'fluoronona', 'propilprop', 'diyodopent', 'dinitrobut', 'yodopropan', 'trienamida', 'pentilhexa', 'diyodoetil', 'dinitrohex', 'bromohepta', 'perclorato', 'metilpenta', 'aminohepta', 'hidroxihex', 'diyodobuta', 'diclorobut', 'antimonuro', 'yodododeca', 'propilocta', 'propilhexa', 'pentilocta', 'hidroxibut', 'yodoheptil', 'propilpent', 'diyodoocta', 'bromohexil', 'propilnona', 'perbromato', 'yodobutano', 'pentilpent', 'pentilhept', 'diyodonona', 'clorohexil', 'bromobutil', 'pentilnona', 'diyodohept', 'dibromobut', 'clorobutil', 'yodopentan', 'triinamida', 'propildeca', 'propilbuta', 'nitroetano', 'mercurioso', 'pentilbuta', 'nitroundec', 'nitrohexan', 'metilhexil', 'metilhexan', 'hidroxinon', 'etilpentil', 'diyododeca', 'dinitronon', 'diclorohex', 'yodotridec', 'yodohexano', 'yodoheptan', 'triyodobut', 'nitrobutan', 'metilbutan', 'hidroxioct', 'hexaenoico', 'estróncico', 'dinitrooct', 'difluoruro', 'butilpenta', 'wolframato', 'triplatino', 'propilhept', 'oxonitrato', 'nitrononan', 'nitrododec', 'metilundec', 'metildodec', 'hipoyodito', 'diyodoetan', 'dicloronon', 'dibromohex', 'butilhepta', 'aminopenta', 'yodooctano', 'yodoetanal', 'triyodohex', 'tritántalo', 'trirubidio', 'trihidroxi', 'tricloruro', 'tricarburo', 'tetrabromo', 'propiletil', 'oxotrideca', 'nitroeteno', 'monoboruro', 'heptaóxido', 'gadolínico', 'etiletenil', 'dibromooct', 'diarsenuro', 'cloroeteno', 'butilhexil', 'bromoundec', 'aminododec', 'yodononano', 'yododecano', 'triyodooct', 'trisulfuro', 'trisilicio', 'trisamario', 'trirutenio', 'tripaladio', 'trihidruro', 'tricobalto', 'tricarbono', 'tribromuro', 'tetracobre', 'propadieno', 'plutonioso', 'peruránico', 'perirídico', 'perclórico', 'perbrómico', 'pentiletil', 'pentildeca', 'oxoclorato', 'oxobromato', 'nitrooctan', 'monoyoduro', 'metilnonan', 'metabórico', 'hipoyodoso', 'fluorometil', 'fluoropenta', 'nitroetenil', 'fluorohepta', 'nitropropil', 'cloroetenil', 'bromoetinil', 'nitropentil', 'dinitroprop', 'diyodopenta', 'propadienil', 'nitroetinil', 'bromoetenil', 'metilpentil', 'metilpropil', 'diyodometil', 'dinitrohexa', 'cloroetinil', 'diyodohepta', 'fluorohexil', 'difluorobut', 'cloropropil', 'cloropentil', 'hidroxipent', 'dinitropent', 'dinitroocta', 'yodopropano', 'pentilpenta', 'hidroxihexa', 'nitroundeca', 'nitropropan', 'fluorobutil', 'dinitrobuta', 'propilhepta', 'hiposulfito', 'hipoclorito', 'propilpenta', 'dinitrohept', 'dinitroetil', 'bromopentil', 'dicloroprop', 'dibromoprop', 'nitrododeca', 'hidroxinona', 'dicloronona', 'bromopropil', 'yodotrideca', 'propilbutil', 'metiletenil', 'hipobromito', 'difluorooct', 'diclorohexa', 'diclorohept', 'dibromopent', 'dibromoetil', 'pentilhepta', 'metilheptan', 'diyodoetano', 'diyodobutil', 'dicloroocta', 'dicloroetil', 'diclorobuta', 'dibromohexa', 'pentilhexil', 'metilpentan', 'metildodeca', 'isobutilbut', 'hiponitrito', 'hidroxiprop', 'hidroxideca', 'hidroxibuta', 'fluorododec', 'dinitronona', 'dicloropent', 'clorododeca', 'bromoundeca', 'yodoheptano', 'trimercurio', 'tetraenoico', 'pentaenoico', 'nitropentan', 'nitroheptil', 'monosulfuro', 'metilundeca', 'fluoroundec', 'diclorodeca', 'dibromobuta', 'yodopentano', 'yodobutanal', 'triyododeca', 'trisilicuro', 'propilhexil', 'oxopropanal', 'nitrononano', 'nitrobutano', 'monocarburo', 'hidroxiocta', 'hidroxihept', 'diyodobutan', 'dimetilhept', 'dimanganeso', 'difluorohex', 'dibromoocta', 'dibromodeca', 'cloroundeca', 'bromoheptil', 'bromododeca', 'triyodopent', 'triyodohexa', 'triyodoetan', 'trimagnesio', 'trifluoruro', 'propilundec', 'pervanádico', 'pentayoduro', 'nitrohexano', 'nitroheptan', 'mononitruro', 'monohidruro', 'monofosfuro', 'metilhexano', 'metilheptil', 'metildecano', 'isobutilhex', 'diyodoundec', 'diyodoeteno', 'dioxoyodato', 'dinitrógeno', 'dinitroeten', 'dinitroetan', 'difluoronon', 'difluorodec', 'dibromonona', 'dibromohept', 'diaminobuta', 'clorotridec', 'cloropentan', 'cloroheptil', 'cloroheptan', 'bromopentan', 'wolframioso', 'triyodoprop', 'triyodoocta', 'triyodonona', 'triyodobuta', 'tritelururo', 'triselenuro', 'trinitrohex', 'triclorobut', 'tribromohex', 'tribromobut', 'triarsénico', 'tetraníquel', 'tetrahierro', 'praseodimio', 'pentildodec', 'pentilbutan', 'oxopentanal', 'nitrotridec', 'nitrooctano', 'nitroetanal', 'monocloruro', 'molibdénico', 'metiltridec', 'metiloctano', 'metilnonano', 'metilbutano', 'metanotriol', 'isobutiloct', 'hiporodioso', 'fluoroetenil', 'fluoroetinil', 'dinitrometil', 'dibromometil', 'dienonitrilo', 'diclorometil', 'difluoroprop', 'dinitropenta', 'fluoropropil', 'fluoropentil', 'hidroxipenta', 'metasilicato', 'dinitrohepta', 'diinonitrilo', 'dicloropenta', 'pentiletenil', 'difluorohexa', 'difluorobuta', 'hidroxihepta', 'difluoroetil', 'fluoroundeca', 'dioxobromato', 'difluoronona', 'metaarsenato', 'diyodoetenil', 'diclorohepta', 'propilpentil', 'dioxosulfato', 'difluoropent', 'tetraenamida', 'propiletenil', 'monoselenuro', 'hipotelurito', 'dibromopenta', 'yodopropanal', 'trinitrohexa', 'trihidróxido', 'isopropilhex', 'fluoropropan', 'fluorododeca', 'trioxoyodato', 'trioxoborato', 'trimanganeso', 'trifluorobut', 'isobutilpent', 'isobutilocta', 'diyodoundeca', 'diyodopropil', 'diyodopropan', 'dioxoclorato', 'dihidroxibut', 'difluorohept', 'dibromohepta', 'yodotetradec', 'triyodoetano', 'trinitroetil', 'pertantálico', 'pentaenamida', 'nitrotrideca', 'nitropropano', 'nitroheptano', 'monotelururo', 'monoarsenuro', 'metavanadato', 'isopropilbut', 'isopentilbut', 'isobutilhexa', 'fluoroheptil', 'fluoroheptan', 'fluorobutano', 'diyodododeca', 'dinitroundec', 'dinitrohexil', 'difluoroocta', 'difluoroetan', 'cloropropano', 'yodopentanal', 'triyodohepta', 'tribromoprop', 'tribromohexa', 'tetranitruro', 'propilheptil', 'peramerícico', 'nitropentano', 'nitrooctanal', 'nitrohexadec', 'metaarsenito', 'isobutilprop', 'isobutildeca', 'isobutilbuta', 'hipouranioso', 'hiposelenito', 'hipoiridioso', 'hidroxioctan', 'fluorohexano', 'diyodopentil', 'diyodobutano', 'dioxonitrato', 'dioxocromato', 'dihidroxinon', 'dihidroxihex', 'difluorodeca', 'diantimonuro', 'diaminopenta', 'diaminohepta', 'yodooctadeca', 'yodohexadeca', 'triyodopenta', 'triyodometil', 'trioxoyódico', 'trinitroprop', 'trinitropent', 'trinitroocta', 'trinitronona', 'trinitrohept', 'trigadolinio', 'trienodioico', 'tricloroprop', 'tricloronona', 'triclorohept', 'tricloroetil', 'triclorodeca', 'tribromopent', 'tribromoetil', 'triantimonio', 'triaminopent', 'triaminohexa', 'tetrahidroxi', 'tetrafosfuro', 'tetracloruro', 'tetrabromuro', 'rutherfordio', 'propilundeca', 'propilpropil', 'propilnonano', 'propildodeca', 'praseodímico', 'pentilpropil', 'pentildodeca', 'pentafosfuro', 'pentacloruro', 'nitroundecan', 'nitrododecan', 'nitrobutanal', 'monosilicuro', 'monoastaturo', 'metilundecan', 'metilpropano', 'metilpentano', 'metilhexanal', 'metilheptano', 'metilbutanal', 'isopentiloct', 'isopentilhex', 'isobutilnona', 'isobutilhept', 'inodinitrilo', 'hipovanadoso', 'hipoteluroso', 'hiponiobioso', 'hipohafnioso', 'hidroxiundec', 'hidroxibutan', 'hidrosulfuro', 'trienonitrilo', 'difluoropenta', 'difluorometil', 'yodotetradeca', 'yodopentadeca', 'trioxoclotato', 'dinitroetenil', 'difluorohepta', 'trioxosulfato', 'triclorometil', 'isobutilpenta', 'dicloroetenil', 'dibromoetenil', 'trioxonitrato', 'isopropilprop', 'triinonitrilo', 'isopropilpent', 'fluorotrideca', 'dinitropropil', 'yodobutanoico', 'trioxofosfato', 'trioxobromato', 'trinitrometil', 'trinitrohepta', 'oxopropanoico', 'nitropropanal', 'isopropilocta', 'isopropilbuta', 'hidroxipropan', 'fluoroheptano', 'diyodopropano', 'dioxoselenato', 'dioxoarsenato', 'dihidroxipent', 'dibromopropil', 'yodopropadien', 'yodoheptadeca', 'yodoetanamida', 'trifluorobuta', 'tricloropenta', 'tribromohepta', 'tetraarsenuro', 'pentaselenuro', 'pentafluoruro', 'nitroetanoico', 'isopentilprop', 'isopentilpent', 'isobutilhexil', 'hipovanadioso', 'diyodotrideca', 'diyodopentano', 'diyodoheptano', 'dinitroundeca', 'dimetilundeca', 'dimetilpentil', 'dicloropentil', 'diclorododeca', 'dibromopentil', 'cloropentanal', 'yodononanoico', 'yodoheneicosa', 'triyodoundeca', 'triyodopropil', 'triyodododeca', 'triyodobutano', 'trinitroeteno', 'trifluoropent', 'trifluoronona', 'trifluoroetil', 'trifluoroeten', 'trifluorodeca', 'trienodiamida', 'triclorobutil', 'triaminopenta', 'tetrafluoruro', 'tetrabromohex', 'tetraaluminio', 'protactinioso', 'propiloctadec', 'praseodimioso', 'pentilpropano', 'pentatelururo', 'pentaastaturo', 'pentaarsenuro', 'oxohexanamida', 'oxobutanamida', 'octahidróxido', 'nitrotetradec', 'nitropentanal', 'nitropentadec', 'nitrooctadeca', 'nitrohexadeca', 'nitroheptanal', 'metilpropanal', 'metilpentadec', 'metiloctadeca', 'metaarsenioso', 'isopropilhexa', 'isopropilhept', 'isopentilocta', 'isopentilhexa', 'isopentilhept', 'isopentildeca', 'isopentilbuta', 'isobutilhepta', 'isobutilbutil', 'isobutilbutan', 'hipotitanioso', 'hidroxiheptan', 'hidroxidodeca', 'nitroyodometil', 'cloroyodometil', 'bromoyodometil', 'trioxoselenato', 'metaantimonato', 'difluoroetenil', 'yodopropanoico', 'trioxotelurato', 'trioxoarsenato', 'dihidroxipenta', 'metaantimonito', 'difluoropropan', 'tetrahidróxido', 'nitrobutanoico', 'hidroxibutanal', 'diyodopropanal', 'trioxosilicato', 'trifluorometil', 'tetraoxoyodato', 'tetraoxorenato', 'oxopropanamida', 'nitrotetradeca', 'nitroheptadeca', 'monoantimonuro', 'metiltetradeca', 'isopropilhepta', 'isobutilpentil', 'diyodohexadeca', 'dinitropropano', 'dinitropentano', 'dinitroheptano', 'difluoropropil', 'difluorododeca', 'clorohexanoico', 'yodopentanoico', 'yodohexanamida', 'trioxovanádico', 'trioxovanadato', 'trioxoarsénico', 'trinitroetanal', 'trifluoropenta', 'trifluorohepta', 'triclorobutano', 'tribromoetenil', 'triaminopropan', 'tetrayodohepta', 'tetranitrohexa', 'propilheptanal', 'pentahidróxido', 'nitropropadien', 'nitropentadeca', 'metilpentadeca', 'metilbutanoico', 'isopropilhexil', 'isopentilpenta', 'isopentiloctil', 'isopentilhexil', 'isopentilhepta', 'isobutiletenil', 'hipotecnecioso', 'hipocirconioso', 'yodopropadienil', 'fluoroyodometil', 'bromonitrometil', 'cloronitrometil', 'bromoclorometil', 'tetraoxosulfato', 'tetraoxofosfato', 'yodopropanamida', 'trioxocarbonato', 'tetraoxobromato', 'tetraoxocromato', 'tetraoxoclorato', 'trioxomanganato', 'tetrainonitrilo', 'tetraenonitrilo', 'nitropropanoico', 'isopropilpentil', 'isopentiletenil', 'fluorotetradeca', 'difluoropropano', 'trihidroxipenta', 'pentaenonitrilo', 'nitropropadieno', 'nitrononanamida', 'fluoropentadeca', 'etilpropadienil', 'diyodotetradeca', 'cloropropanoico', 'yodopentanamida', 'yodometanotriol', 'trinitropropano', 'trifluoropropan', 'tribromobutanal', 'tetraoxoclórico', 'tetraantimonuro', 'propilpentadeca', 'piroantimonioso', 'pentilpentadeca', 'pentilnonanoico', 'pentainonitrilo', 'nitrooctanamida', 'nitrometanodiol', 'metilpentanoico', 'isopropilundeca', 'isopropiltridec', 'isopentilheptil', 'isobutiltrideca', 'hidroxipentanal', 'hidroxihexadeca', 'hidroxietanoico', 'clorofluorometil', 'fluoronitrometil', 'bromofluorometil', 'nitropropadienil', 'cloropropadienil', 'bromopropadienil', 'nitrodiyodometil', 'dicloroyodometil', 'tetraoxotelurato', 'trioxoantimonato', 'metilpropadienil', 'fluoropropadieno', 'dinitroyodometil', 'butilpropadienil', 'nitropropanamida', 'clorodiyodometil', 'pentilpropanoico', 'hidroxibutanoico', 'diyodopropadieno', 'dinitrotetradeca', 'difluoropropanal', 'dibromoyodometil', 'trifluoropropano', 'trifluoropentano', 'tetranitrododeca', 'tetrafluoropenta', 'propilpropanoico', 'nitroheptanamida', 'metilpropanamida', 'metilpentanamida', 'metilheptanamida', 'hidroxipropadien', 'hidroxipentadeca', 'hidrogenofosfato', 'hidrogenocromato', 'fluoropropadienil', 'dicloronitrometil', 'clorodinitrometil', 'propilpropadienil', 'difluoroyodometil', 'dibromoclorometil', 'pentilpropadienil', 'dibromonitrometil', 'tetraoxomanganato', 'hidroxipropanoico', 'fluoropentanamida', 'fluorodiyodometil', 'diyodopropadienil', 'difluoropentadeca', 'yodobutanonitrilo', 'tetraoxotecnecato', 'pentilpropanamida', 'oxopropanonitrilo', 'oxopentanonitrilo', 'nitroetanonitrilo', 'hidroxihexanamida', 'fluorodinitrometil', 'difluoronitrometil', 'dibromofluorometil', 'dinitropropadienil', 'bromodifluorometil', 'yodopropanonitrilo', 'metilhexanonitrilo', 'clorodifluorometil', 'dicloropropadienil', 'diclorofluorometil', 'yodoheptanonitrilo', 'triyodopropanamida', 'tetraoxowolfrámico', 'tetraoxowolframato', 'nitrooctanonitrilo', 'nitrobutanonitrilo', 'metiloctanonitrilo', 'hidroxipropanamida', 'bromonitroyodometil', 'bromocloroyodometil', 'difluoropropadienil', 'cloronitroyodometil', 'nitropropanonitrilo', 'isobutilpropadienil', 'trinitropropadienil', 'tribromonitrometano', 'nitroheptanonitrilo', 'metilpropanonitrilo', 'metilpentanonitrilo', 'clorofluoroyodometil', 'bromocloronitrometil', 'fluoronitroyodometil', 'bromofluoroyodometil', 'tribromofluorometano', 'propilpropanodiamida', 'isopropilpropadienil', 'hidroxihexanonitrilo', 'bromofluoronitrometil', 'bromoclorofluorometil', 'clorofluoronitrometil', 'hidroxipentanonitrilo', 'dinitropropanonitrilo', 'hidroxipropanonitrilo']\n"
     ]
    }
   ],
   "source": [
    "print(\"Vocabulary:\", sorted(vectorize_layer.get_vocabulary(), key = len))"
   ]
  },
  {
   "cell_type": "code",
   "execution_count": 16,
   "id": "d020092d",
   "metadata": {},
   "outputs": [],
   "source": [
    "train_data_source = raw_train_data_source.map(vectorize_text)\n",
    "validation_data_source = raw_validation_data_source.map(vectorize_text)\n",
    "test_data_source = raw_test_data_source.map(vectorize_text)"
   ]
  },
  {
   "cell_type": "code",
   "execution_count": 17,
   "id": "1d5efbc3",
   "metadata": {},
   "outputs": [],
   "source": [
    "AUTOTUNE = tf.data.AUTOTUNE # ??\n",
    "\n",
    "train_data_source = train_data_source.cache().prefetch(buffer_size = AUTOTUNE)\n",
    "validation_data_source = validation_data_source.cache().prefetch(buffer_size = AUTOTUNE)\n",
    "test_data_source = test_data_source.cache().prefetch(buffer_size = AUTOTUNE)"
   ]
  },
  {
   "cell_type": "markdown",
   "id": "87ef8355",
   "metadata": {},
   "source": [
    "# Model creation:"
   ]
  },
  {
   "cell_type": "code",
   "execution_count": 18,
   "id": "7d817ed8",
   "metadata": {},
   "outputs": [],
   "source": [
    "embedding_dim = 16 # ??"
   ]
  },
  {
   "cell_type": "code",
   "execution_count": 19,
   "id": "4761ffba",
   "metadata": {},
   "outputs": [],
   "source": [
    "model = tf.keras.Sequential([\n",
    "  layers.Embedding(max_features + 1, embedding_dim),\n",
    "  layers.Dropout(0.2),\n",
    "  layers.Dense(256, activation = \"relu\"),\n",
    "  layers.GlobalAveragePooling1D(),\n",
    "  layers.Dropout(0.2),\n",
    "  layers.Dense(1),\n",
    "])"
   ]
  },
  {
   "cell_type": "markdown",
   "id": "73bf238e",
   "metadata": {},
   "source": [
    "### Loss function and optimizer:"
   ]
  },
  {
   "cell_type": "code",
   "execution_count": 20,
   "id": "54dce3eb",
   "metadata": {},
   "outputs": [],
   "source": [
    "model.compile(\n",
    "    optimizer = \"adam\",\n",
    "    metrics = tf.metrics.BinaryAccuracy(threshold = 0.0),\n",
    "    loss = losses.BinaryCrossentropy(from_logits = True),\n",
    ")"
   ]
  },
  {
   "cell_type": "markdown",
   "id": "1c305297",
   "metadata": {},
   "source": [
    "### Training:"
   ]
  },
  {
   "cell_type": "code",
   "execution_count": 28,
   "id": "29d28708",
   "metadata": {
    "scrolled": false
   },
   "outputs": [
    {
     "name": "stdout",
     "output_type": "stream",
     "text": [
      "Epoch 1/50\n",
      "456/456 [==============================] - 2s 3ms/step - loss: -211752.5156 - binary_accuracy: 0.0589 - val_loss: -249177.5938 - val_binary_accuracy: 0.0689\n",
      "Epoch 2/50\n",
      "456/456 [==============================] - 1s 3ms/step - loss: -324801.6562 - binary_accuracy: 0.0589 - val_loss: -368826.0625 - val_binary_accuracy: 0.0689\n",
      "Epoch 3/50\n",
      "456/456 [==============================] - 1s 3ms/step - loss: -465252.8750 - binary_accuracy: 0.0589 - val_loss: -515512.8125 - val_binary_accuracy: 0.0689\n",
      "Epoch 4/50\n",
      "456/456 [==============================] - 1s 3ms/step - loss: -635938.2500 - binary_accuracy: 0.0589 - val_loss: -690802.8750 - val_binary_accuracy: 0.0689\n",
      "Epoch 5/50\n",
      "456/456 [==============================] - 1s 3ms/step - loss: -836338.7500 - binary_accuracy: 0.0589 - val_loss: -895694.6875 - val_binary_accuracy: 0.0689\n",
      "Epoch 6/50\n",
      "456/456 [==============================] - 1s 3ms/step - loss: -1069152.0000 - binary_accuracy: 0.0589 - val_loss: -1131565.6250 - val_binary_accuracy: 0.0689\n",
      "Epoch 7/50\n",
      "456/456 [==============================] - 1s 3ms/step - loss: -1335289.2500 - binary_accuracy: 0.0589 - val_loss: -1399729.2500 - val_binary_accuracy: 0.0689\n",
      "Epoch 8/50\n",
      "456/456 [==============================] - 1s 3ms/step - loss: -1637043.0000 - binary_accuracy: 0.0589 - val_loss: -1701560.1250 - val_binary_accuracy: 0.0689\n",
      "Epoch 9/50\n",
      "456/456 [==============================] - 1s 3ms/step - loss: -1976008.7500 - binary_accuracy: 0.0589 - val_loss: -2038556.2500 - val_binary_accuracy: 0.0689\n",
      "Epoch 10/50\n",
      "456/456 [==============================] - 1s 3ms/step - loss: -2350551.7500 - binary_accuracy: 0.0589 - val_loss: -2411584.5000 - val_binary_accuracy: 0.0689\n",
      "Epoch 11/50\n",
      "456/456 [==============================] - 1s 3ms/step - loss: -2763816.7500 - binary_accuracy: 0.0589 - val_loss: -2822239.7500 - val_binary_accuracy: 0.0689\n",
      "Epoch 12/50\n",
      "456/456 [==============================] - 1s 3ms/step - loss: -3220620.7500 - binary_accuracy: 0.0589 - val_loss: -3272047.7500 - val_binary_accuracy: 0.0689\n",
      "Epoch 13/50\n",
      "456/456 [==============================] - 1s 2ms/step - loss: -3712781.0000 - binary_accuracy: 0.0589 - val_loss: -3761836.0000 - val_binary_accuracy: 0.0689\n",
      "Epoch 14/50\n",
      "456/456 [==============================] - 1s 3ms/step - loss: -4257096.0000 - binary_accuracy: 0.0589 - val_loss: -4293850.5000 - val_binary_accuracy: 0.0689\n",
      "Epoch 15/50\n",
      "456/456 [==============================] - 2s 3ms/step - loss: -4848864.0000 - binary_accuracy: 0.0589 - val_loss: -4869544.0000 - val_binary_accuracy: 0.0689\n",
      "Epoch 16/50\n",
      "456/456 [==============================] - 2s 3ms/step - loss: -5477530.5000 - binary_accuracy: 0.0589 - val_loss: -5489194.5000 - val_binary_accuracy: 0.0689\n",
      "Epoch 17/50\n",
      "456/456 [==============================] - 1s 3ms/step - loss: -6152917.5000 - binary_accuracy: 0.0589 - val_loss: -6154388.0000 - val_binary_accuracy: 0.0689\n",
      "Epoch 18/50\n",
      "456/456 [==============================] - 2s 3ms/step - loss: -6882005.0000 - binary_accuracy: 0.0589 - val_loss: -6866950.0000 - val_binary_accuracy: 0.0689\n",
      "Epoch 19/50\n",
      "456/456 [==============================] - 2s 3ms/step - loss: -7660352.0000 - binary_accuracy: 0.0589 - val_loss: -7628176.0000 - val_binary_accuracy: 0.0689\n",
      "Epoch 20/50\n",
      "456/456 [==============================] - 1s 3ms/step - loss: -8500041.0000 - binary_accuracy: 0.0589 - val_loss: -8440052.0000 - val_binary_accuracy: 0.0689\n",
      "Epoch 21/50\n",
      "456/456 [==============================] - 1s 3ms/step - loss: -9373467.0000 - binary_accuracy: 0.0589 - val_loss: -9302282.0000 - val_binary_accuracy: 0.0689\n",
      "Epoch 22/50\n",
      "456/456 [==============================] - 1s 3ms/step - loss: -10321977.0000 - binary_accuracy: 0.0589 - val_loss: -10217936.0000 - val_binary_accuracy: 0.0689\n",
      "Epoch 23/50\n",
      "456/456 [==============================] - 1s 3ms/step - loss: -11313331.0000 - binary_accuracy: 0.0589 - val_loss: -11187271.0000 - val_binary_accuracy: 0.0689\n",
      "Epoch 24/50\n",
      "456/456 [==============================] - 1s 3ms/step - loss: -12381997.0000 - binary_accuracy: 0.0589 - val_loss: -12213231.0000 - val_binary_accuracy: 0.0689\n",
      "Epoch 25/50\n",
      "456/456 [==============================] - 1s 3ms/step - loss: -13491361.0000 - binary_accuracy: 0.0589 - val_loss: -13294872.0000 - val_binary_accuracy: 0.0689\n",
      "Epoch 26/50\n",
      "456/456 [==============================] - 1s 3ms/step - loss: -14652951.0000 - binary_accuracy: 0.0589 - val_loss: -14433792.0000 - val_binary_accuracy: 0.0689\n",
      "Epoch 27/50\n",
      "456/456 [==============================] - 1s 3ms/step - loss: -15903791.0000 - binary_accuracy: 0.0589 - val_loss: -15633455.0000 - val_binary_accuracy: 0.0689\n",
      "Epoch 28/50\n",
      "456/456 [==============================] - 1s 3ms/step - loss: -17204680.0000 - binary_accuracy: 0.0589 - val_loss: -16894008.0000 - val_binary_accuracy: 0.0689\n",
      "Epoch 29/50\n",
      "456/456 [==============================] - 1s 3ms/step - loss: -18583472.0000 - binary_accuracy: 0.0589 - val_loss: -18217194.0000 - val_binary_accuracy: 0.0689\n",
      "Epoch 30/50\n",
      "456/456 [==============================] - 1s 3ms/step - loss: -19995532.0000 - binary_accuracy: 0.0589 - val_loss: -19602474.0000 - val_binary_accuracy: 0.0689\n",
      "Epoch 31/50\n",
      "456/456 [==============================] - 1s 3ms/step - loss: -21506350.0000 - binary_accuracy: 0.0589 - val_loss: -21053462.0000 - val_binary_accuracy: 0.0689\n",
      "Epoch 32/50\n",
      "456/456 [==============================] - 1s 3ms/step - loss: -23062082.0000 - binary_accuracy: 0.0589 - val_loss: -22569650.0000 - val_binary_accuracy: 0.0689\n",
      "Epoch 33/50\n",
      "456/456 [==============================] - 1s 3ms/step - loss: -24705708.0000 - binary_accuracy: 0.0589 - val_loss: -24153738.0000 - val_binary_accuracy: 0.0689\n",
      "Epoch 34/50\n",
      "456/456 [==============================] - 1s 3ms/step - loss: -26449940.0000 - binary_accuracy: 0.0589 - val_loss: -25808444.0000 - val_binary_accuracy: 0.0689\n",
      "Epoch 35/50\n",
      "456/456 [==============================] - 1s 3ms/step - loss: -28219102.0000 - binary_accuracy: 0.0589 - val_loss: -27531782.0000 - val_binary_accuracy: 0.0689\n",
      "Epoch 36/50\n",
      "456/456 [==============================] - 1s 3ms/step - loss: -30106110.0000 - binary_accuracy: 0.0589 - val_loss: -29327226.0000 - val_binary_accuracy: 0.0689\n",
      "Epoch 37/50\n",
      "456/456 [==============================] - 2s 4ms/step - loss: -31989782.0000 - binary_accuracy: 0.0589 - val_loss: -31192728.0000 - val_binary_accuracy: 0.0689\n",
      "Epoch 38/50\n",
      "456/456 [==============================] - 2s 4ms/step - loss: -34041836.0000 - binary_accuracy: 0.0589 - val_loss: -33134718.0000 - val_binary_accuracy: 0.0689\n",
      "Epoch 39/50\n",
      "456/456 [==============================] - 2s 4ms/step - loss: -36102996.0000 - binary_accuracy: 0.0589 - val_loss: -35150384.0000 - val_binary_accuracy: 0.0689\n",
      "Epoch 40/50\n",
      "456/456 [==============================] - 2s 4ms/step - loss: -38301124.0000 - binary_accuracy: 0.0589 - val_loss: -37244128.0000 - val_binary_accuracy: 0.0689\n",
      "Epoch 41/50\n",
      "456/456 [==============================] - 2s 3ms/step - loss: -40526720.0000 - binary_accuracy: 0.0589 - val_loss: -39414024.0000 - val_binary_accuracy: 0.0689\n",
      "Epoch 42/50\n",
      "456/456 [==============================] - 2s 4ms/step - loss: -42886952.0000 - binary_accuracy: 0.0589 - val_loss: -41665020.0000 - val_binary_accuracy: 0.0689\n",
      "Epoch 43/50\n",
      "456/456 [==============================] - 3s 6ms/step - loss: -45313060.0000 - binary_accuracy: 0.0589 - val_loss: -43996692.0000 - val_binary_accuracy: 0.0689\n",
      "Epoch 44/50\n",
      "456/456 [==============================] - 2s 4ms/step - loss: -47864664.0000 - binary_accuracy: 0.0589 - val_loss: -46411672.0000 - val_binary_accuracy: 0.0689\n",
      "Epoch 45/50\n",
      "456/456 [==============================] - 2s 3ms/step - loss: -50398176.0000 - binary_accuracy: 0.0589 - val_loss: -48906788.0000 - val_binary_accuracy: 0.0689\n",
      "Epoch 46/50\n",
      "456/456 [==============================] - 2s 3ms/step - loss: -53118200.0000 - binary_accuracy: 0.0589 - val_loss: -51488312.0000 - val_binary_accuracy: 0.0689\n",
      "Epoch 47/50\n",
      "456/456 [==============================] - 2s 4ms/step - loss: -55899384.0000 - binary_accuracy: 0.0589 - val_loss: -54155428.0000 - val_binary_accuracy: 0.0689\n",
      "Epoch 48/50\n",
      "456/456 [==============================] - 2s 4ms/step - loss: -58737452.0000 - binary_accuracy: 0.0589 - val_loss: -56909112.0000 - val_binary_accuracy: 0.0689\n",
      "Epoch 49/50\n",
      "456/456 [==============================] - 2s 5ms/step - loss: -61669444.0000 - binary_accuracy: 0.0589 - val_loss: -59749640.0000 - val_binary_accuracy: 0.0689\n",
      "Epoch 50/50\n",
      "456/456 [==============================] - 2s 4ms/step - loss: -64793612.0000 - binary_accuracy: 0.0589 - val_loss: -62683180.0000 - val_binary_accuracy: 0.0689\n"
     ]
    }
   ],
   "source": [
    "epochs = 50\n",
    "\n",
    "history = model.fit(\n",
    "    epochs = epochs,\n",
    "    x = train_data_source,\n",
    "    validation_data = validation_data_source,\n",
    ")"
   ]
  },
  {
   "cell_type": "markdown",
   "id": "892bb372",
   "metadata": {},
   "source": [
    "### Compiling:"
   ]
  },
  {
   "cell_type": "code",
   "execution_count": 29,
   "id": "b70a0ca3",
   "metadata": {},
   "outputs": [],
   "source": [
    "export_model = tf.keras.Sequential([\n",
    "  vectorize_layer,\n",
    "  model,\n",
    "  layers.Activation(\"sigmoid\")\n",
    "])\n",
    "\n",
    "export_model.compile(\n",
    "    optimizer = \"adam\", \n",
    "    metrics = [\"accuracy\"],\n",
    "    loss = losses.BinaryCrossentropy(from_logits = False), \n",
    ")"
   ]
  },
  {
   "cell_type": "markdown",
   "id": "9305bb10",
   "metadata": {},
   "source": [
    "# Model evaluation:"
   ]
  },
  {
   "cell_type": "markdown",
   "id": "214e11c5",
   "metadata": {},
   "source": [
    "### Using test data:"
   ]
  },
  {
   "cell_type": "code",
   "execution_count": 30,
   "id": "c9f31b1d",
   "metadata": {},
   "outputs": [
    {
     "name": "stdout",
     "output_type": "stream",
     "text": [
      "95/95 [==============================] - 0s 1ms/step - loss: -44983788.0000 - binary_accuracy: 0.3685\n",
      "Test loss: -44983788.0\n",
      "Test accuracy: 0.368525892496109\n"
     ]
    }
   ],
   "source": [
    "loss, accuracy = model.evaluate(test_data_source)\n",
    "\n",
    "print(\"Test loss:\", loss)\n",
    "print(\"Test accuracy:\", accuracy)"
   ]
  },
  {
   "cell_type": "markdown",
   "id": "d7f52fc7",
   "metadata": {},
   "source": [
    "### Using raw test data:"
   ]
  },
  {
   "cell_type": "code",
   "execution_count": 31,
   "id": "415c6dd5",
   "metadata": {},
   "outputs": [
    {
     "name": "stdout",
     "output_type": "stream",
     "text": [
      "95/95 [==============================] - 1s 8ms/step - loss: -44983796.0000 - accuracy: 0.3685\n",
      "Raw test loss: -44983796.0\n",
      "Raw test accuracy: 0.368525892496109\n"
     ]
    }
   ],
   "source": [
    "loss, accuracy = export_model.evaluate(raw_test_data_source)\n",
    "\n",
    "print(\"Raw test loss:\", loss)\n",
    "print(\"Raw test accuracy:\", accuracy)"
   ]
  },
  {
   "cell_type": "markdown",
   "id": "a6abe3d6",
   "metadata": {},
   "source": [
    "### Accuracy graph:"
   ]
  },
  {
   "cell_type": "code",
   "execution_count": 32,
   "id": "5dae66db",
   "metadata": {},
   "outputs": [
    {
     "data": {
      "text/plain": "<Figure size 640x480 with 1 Axes>",
      "image/png": "[encoded data removed]"
     },
     "metadata": {},
     "output_type": "display_data"
    }
   ],
   "source": [
    "history_dict = history.history\n",
    "history_dict.keys()\n",
    "\n",
    "accuracy = history_dict[\"binary_accuracy\"]\n",
    "validation_accuracy = history_dict[\"val_binary_accuracy\"]\n",
    "loss = history_dict[\"loss\"]\n",
    "validation_loss = history_dict[\"val_loss\"]\n",
    "\n",
    "epochs = range(1, len(accuracy) + 1)\n",
    "\n",
    "plt.plot(epochs, accuracy, \"bo\", label = \"Training accuracy\") # Blue dots\n",
    "plt.plot(epochs, validation_accuracy, \"b\", label = \"Validation accuracy\") # Blue line\n",
    "plt.title(\"Training and validation accuracy\")\n",
    "plt.xlabel(\"Epochs\")\n",
    "plt.ylabel(\"Accuracy\")\n",
    "plt.legend(loc = \"lower right\")\n",
    "\n",
    "plt.show()"
   ]
  },
  {
   "cell_type": "markdown",
   "id": "2bbe64ce",
   "metadata": {},
   "source": [
    "### Loss graph:"
   ]
  },
  {
   "cell_type": "code",
   "execution_count": 33,
   "id": "2b11d7cb",
   "metadata": {},
   "outputs": [
    {
     "data": {
      "text/plain": "<Figure size 640x480 with 1 Axes>",
      "image/png": "[encoded data removed]"
     },
     "metadata": {},
     "output_type": "display_data"
    }
   ],
   "source": [
    "plt.plot(epochs, loss, \"ro\", label = \"Training loss\") # Red dots\n",
    "plt.plot(epochs, validation_loss, \"r\", label = \"Validation loss\") # Red line\n",
    "plt.title(\"Training and validation loss\")\n",
    "plt.xlabel(\"Epochs\")\n",
    "plt.ylabel(\"Loss\")\n",
    "plt.legend()\n",
    "\n",
    "plt.show()"
   ]
  },
  {
   "cell_type": "markdown",
   "id": "e7f99029",
   "metadata": {},
   "source": [
    "# Model predictions:"
   ]
  },
  {
   "cell_type": "code",
   "execution_count": 34,
   "id": "c2cd9675",
   "metadata": {},
   "outputs": [
    {
     "name": "stdout",
     "output_type": "stream",
     "text": [
      "1/1 [==============================] - 0s 177ms/step\n",
      "Name (100.00 %): H3C-CH2\n",
      "1/1 [==============================] - 0s 49ms/step\n",
      "Name (100.00 %): ChCh\n",
      "1/1 [==============================] - 0s 49ms/step\n",
      "Name (100.00 %): CH3-CO-O-CH2-CH3\n",
      "1/1 [==============================] - 0s 52ms/step\n",
      "Name (100.00 %): CH3-CH2-O-CH2-CH3\n",
      "1/1 [==============================] - 0s 50ms/step\n",
      "Name (100.00 %): CH3-CH2-CH=CH-COOH\n",
      "1/1 [==============================] - 0s 50ms/step\n",
      "Name (100.00 %): ch3chch2ch(ch2ch2ch3)cooh\n",
      "1/1 [==============================] - 0s 55ms/step\n",
      "Name (100.00 %): ch3(Ch3)Chch2Ch(Ch3)Ch2Ch(Ch2Ch2Ch3)Ch3\n",
      "1/1 [==============================] - 0s 51ms/step\n",
      "Name (100.00 %): benceno\n",
      "1/1 [==============================] - 0s 56ms/step\n",
      "Name (100.00 %): 2-cloropentanato\n",
      "1/1 [==============================] - 0s 52ms/step\n",
      "Name (100.00 %): di 2-cloropentanil éter\n",
      "1/1 [==============================] - 0s 47ms/step\n",
      "Name (100.00 %): 2-bromo-2-cloropropano\n",
      "1/1 [==============================] - 0s 58ms/step\n",
      "Name (100.00 %): metanoato de isopropilo\n",
      "1/1 [==============================] - 0s 49ms/step\n",
      "Name (100.00 %): orto-difenilciclohexano\n",
      "1/1 [==============================] - 0s 48ms/step\n",
      "Name (100.00 %): 2-bromo-2-cloropropil yododecil éter\n",
      "1/1 [==============================] - 0s 62ms/step\n",
      "Name (100.00 %): 3-cloro-2-fluoro-hexa-1,3-dien-5-in-1-ona\n",
      "1/1 [==============================] - 0s 48ms/step\n",
      "Name (100.00 %): 4-amino-2,6,6-tricloro-7,7-difluoro-89-metil-3-nitro-1,1-diyodononaconta-1,3-dien-5-ona\n"
     ]
    }
   ],
   "source": [
    "examples = [\n",
    "    \"H3C-CH2\",\n",
    "    \"ChCh\",\n",
    "    \"CH3-CO-O-CH2-CH3\",\n",
    "    \"CH3-CH2-O-CH2-CH3\",\n",
    "    \"CH3-CH2-CH=CH-COOH\",\n",
    "    \"ch3chch2ch(ch2ch2ch3)cooh\",\n",
    "    \"ch3(Ch3)Chch2Ch(Ch3)Ch2Ch(Ch2Ch2Ch3)Ch3\",\n",
    "    \"benceno\",\n",
    "    \"2-cloropentanato\",\n",
    "    \"di 2-cloropentanil éter\",\n",
    "    \"2-bromo-2-cloropropano\",\n",
    "    \"metanoato de isopropilo\",\n",
    "    \"orto-difenilciclohexano\",\n",
    "    \"2-bromo-2-cloropropil yododecil éter\",\n",
    "    \"3-cloro-2-fluoro-hexa-1,3-dien-5-in-1-ona\",\n",
    "    \"4-amino-2,6,6-tricloro-7,7-difluoro-89-metil-3-nitro-1,1-diyodononaconta-1,3-dien-5-ona\",\n",
    "]\n",
    "\n",
    "for example in examples:\n",
    "    percentage = export_model.predict([example])[0][0] * 100\n",
    "    print(\"Formula\" if percentage < 50 else \"Name\", \"(\" + \"%.2f\" % percentage + \" %):\", example)"
   ]
  }
 ],
 "metadata": {
  "kernelspec": {
   "display_name": "Python 3 (ipykernel)",
   "language": "python",
   "name": "python3"
  },
  "language_info": {
   "codemirror_mode": {
    "name": "ipython",
    "version": 3
   },
   "file_extension": ".py",
   "mimetype": "text/x-python",
   "name": "python",
   "nbconvert_exporter": "python",
   "pygments_lexer": "ipython3",
   "version": "3.8.1"
  }
 },
 "nbformat": 4,
 "nbformat_minor": 5
}
