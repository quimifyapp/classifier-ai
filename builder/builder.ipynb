{
 "cells": [
  {
   "cell_type": "code",
   "execution_count": 1,
   "id": "b30b0d6b",
   "metadata": {},
   "outputs": [],
   "source": [
    "import tensorflow as tf\n",
    "from tensorflow.python.keras import layers, losses\n",
    "import matplotlib.pyplot as plt\n",
    "import os\n",
    "from tensorflow.keras.layers.experimental.preprocessing import TextVectorization\n",
    "from tensorflow.keras.utils import register_keras_serializable\n",
    "import numpy as np"
   ]
  },
  {
   "cell_type": "markdown",
   "id": "17a880e3",
   "metadata": {},
   "source": [
    "# Data location:"
   ]
  },
  {
   "cell_type": "code",
   "execution_count": 2,
   "id": "b859b280",
   "metadata": {
    "collapsed": false
   },
   "outputs": [],
   "source": [
    "\n",
    "first_category = \"formula\"\n",
    "second_category = \"name\"\n",
    "data_folder = \"formula-name\""
   ]
  },
  {
   "cell_type": "code",
   "execution_count": 3,
   "id": "357677c6",
   "metadata": {
    "collapsed": false
   },
   "outputs": [
    {
     "ename": "FileNotFoundError",
     "evalue": "[WinError 3] El sistema no puede encontrar la ruta especificada: '..\\\\data\\\\data-model\\\\formula-name'",
     "output_type": "error",
     "traceback": [
      "\u001b[1;31m---------------------------------------------------------------------------\u001b[0m",
      "\u001b[1;31mFileNotFoundError\u001b[0m                         Traceback (most recent call last)",
      "Cell \u001b[1;32mIn[3], line 5\u001b[0m\n\u001b[0;32m      2\u001b[0m train_directory \u001b[39m=\u001b[39m os\u001b[39m.\u001b[39mpath\u001b[39m.\u001b[39mjoin(dataset_directory, \u001b[39m\"\u001b[39m\u001b[39mtrain\u001b[39m\u001b[39m\"\u001b[39m)\n\u001b[0;32m      3\u001b[0m test_directory \u001b[39m=\u001b[39m os\u001b[39m.\u001b[39mpath\u001b[39m.\u001b[39mjoin(dataset_directory, \u001b[39m\"\u001b[39m\u001b[39mtest\u001b[39m\u001b[39m\"\u001b[39m)\n\u001b[1;32m----> 5\u001b[0m \u001b[39mprint\u001b[39m(\u001b[39m\"\u001b[39m\u001b[39mIn data:\u001b[39m\u001b[39m\"\u001b[39m, os\u001b[39m.\u001b[39;49mlistdir(dataset_directory))\n\u001b[0;32m      6\u001b[0m \u001b[39mprint\u001b[39m(\u001b[39m\"\u001b[39m\u001b[39mIn train:\u001b[39m\u001b[39m\"\u001b[39m, os\u001b[39m.\u001b[39mlistdir(train_directory))\n\u001b[0;32m      7\u001b[0m \u001b[39mprint\u001b[39m(\u001b[39m\"\u001b[39m\u001b[39mIn test:\u001b[39m\u001b[39m\"\u001b[39m, os\u001b[39m.\u001b[39mlistdir(test_directory))\n",
      "\u001b[1;31mFileNotFoundError\u001b[0m: [WinError 3] El sistema no puede encontrar la ruta especificada: '..\\\\data\\\\data-model\\\\formula-name'"
     ]
    }
   ],
   "source": [
    "dataset_directory = os.path.join(\"data\", \"data-model\", data_folder)\n",
    "train_directory = os.path.join(dataset_directory, \"train\")\n",
    "test_directory = os.path.join(dataset_directory, \"test\")\n",
    "\n",
    "print(\"In data:\", os.listdir(dataset_directory))\n",
    "print(\"In train:\", os.listdir(train_directory))\n",
    "print(\"In test:\", os.listdir(test_directory))"
   ]
  },
  {
   "cell_type": "markdown",
   "id": "12ee3cb6",
   "metadata": {},
   "source": [
    "### Sample file:"
   ]
  },
  {
   "cell_type": "code",
   "execution_count": null,
   "id": "c7a82a9b",
   "metadata": {},
   "outputs": [
    {
     "name": "stdout",
     "output_type": "stream",
     "text": [
      "Sample file: CH2(NO2)-CHF-O-CH2I\n",
      "\n"
     ]
    }
   ],
   "source": [
    "sample_file = os.path.join(train_directory, first_category, \"ab.txt\")\n",
    "\n",
    "print(\"Sample file:\", open(sample_file).read())"
   ]
  },
  {
   "cell_type": "markdown",
   "id": "f756c0db",
   "metadata": {},
   "source": [
    "# Data collection:"
   ]
  },
  {
   "cell_type": "code",
   "execution_count": null,
   "id": "4386e04c",
   "metadata": {},
   "outputs": [],
   "source": [
    "seed = 32 # Random seed for data shuffling and transformations\n",
    "validation_split = 0.2 # Proportion of train data used to validate the model"
   ]
  },
  {
   "cell_type": "code",
   "execution_count": null,
   "id": "ecc4ea5f",
   "metadata": {},
   "outputs": [
    {
     "name": "stdout",
     "output_type": "stream",
     "text": [
      "Found 44599 files belonging to 2 classes.\n",
      "Using 35680 files for training.\n"
     ]
    }
   ],
   "source": [
    "raw_train_data_source = tf.keras.preprocessing.text_dataset_from_directory(\n",
    "    train_directory,\n",
    "    subset = \"training\",\n",
    "    seed = seed,\n",
    "    validation_split = validation_split,\n",
    ")"
   ]
  },
  {
   "cell_type": "code",
   "execution_count": null,
   "id": "4f060c1a",
   "metadata": {
    "scrolled": true
   },
   "outputs": [
    {
     "name": "stdout",
     "output_type": "stream",
     "text": [
      "Found 44599 files belonging to 2 classes.\n",
      "Using 8919 files for validation.\n"
     ]
    }
   ],
   "source": [
    "raw_validation_data_source = tf.keras.preprocessing.text_dataset_from_directory(\n",
    "    train_directory,\n",
    "    subset = \"validation\",\n",
    "    seed = seed,\n",
    "    validation_split = validation_split,\n",
    ")"
   ]
  },
  {
   "cell_type": "code",
   "execution_count": null,
   "id": "36268a96",
   "metadata": {
    "collapsed": false
   },
   "outputs": [
    {
     "name": "stdout",
     "output_type": "stream",
     "text": [
      "Found 4954 files belonging to 2 classes.\n"
     ]
    }
   ],
   "source": [
    "raw_test_data_source = tf.keras.preprocessing.text_dataset_from_directory(\n",
    "    test_directory,\n",
    ")"
   ]
  },
  {
   "cell_type": "markdown",
   "id": "a159c081",
   "metadata": {
    "collapsed": false
   },
   "source": [
    "# Data pre-processing:"
   ]
  },
  {
   "cell_type": "code",
   "execution_count": null,
   "id": "de24885e",
   "metadata": {},
   "outputs": [],
   "source": [
    "# Registers data_standarization\n",
    "@tf.keras.utils.register_keras_serializable()\n",
    "def data_standardization(input_data): # CH3-CH=CH-CH(NO2)Br\n",
    "    input_data = tf.strings.lower(input_data) # ch3-ch=ch-ch(no2)br\n",
    "    input_data = tf.strings.regex_replace(input_data, \"[^a-zà-ú]\", ' ') # ch  ch ch ch no  br\n",
    "    return tf.strings.regex_replace(input_data, \"\\s+\", ' ') # ch ch ch ch no br"
   ]
  },
  {
   "cell_type": "code",
   "execution_count": null,
   "id": "c743ab07",
   "metadata": {},
   "outputs": [],
   "source": [
    "max_features = 2048 # Sets a boundary for len(vectorize_layer.get_vocabulary())"
   ]
  },
  {
   "cell_type": "code",
   "execution_count": null,
   "id": "a5ad8c12",
   "metadata": {},
   "outputs": [],
   "source": [
    "sequence_length = 16 # Vectorized string's dimension\n",
    "\n",
    "vectorize_layer = tf.keras.layers.experimental.preprocessing.TextVectorization(\n",
    "    output_mode = \"int\",\n",
    "    max_tokens = max_features,\n",
    "    standardize = data_standardization,\n",
    "    output_sequence_length = sequence_length\n",
    ")"
   ]
  },
  {
   "cell_type": "code",
   "execution_count": null,
   "id": "960154cf",
   "metadata": {},
   "outputs": [],
   "source": [
    "# Makes a text-only dataset (without labels), then calls adapt\n",
    "train_text = raw_train_data_source.map(lambda x, y: x)\n",
    "vectorize_layer.adapt(train_text)"
   ]
  },
  {
   "cell_type": "code",
   "execution_count": null,
   "id": "09a9aed6",
   "metadata": {},
   "outputs": [],
   "source": [
    "def vectorize_text(text, label):\n",
    "  text = tf.expand_dims(text, -1)\n",
    "  return vectorize_layer(text), label"
   ]
  },
  {
   "cell_type": "code",
   "execution_count": null,
   "id": "6073a5e2",
   "metadata": {
    "scrolled": true
   },
   "outputs": [
    {
     "name": "stdout",
     "output_type": "stream",
     "text": [
      "Review: tf.Tensor(b'1-fluoro-1-yodopropil etinil \\xc3\\xa9ter\\r\\n', shape=(), dtype=string)\n",
      "Label: name\n",
      "Vectorized review: (<tf.Tensor: shape=(1, 16), dtype=int64, numpy=\n",
      "array([[16, 63, 62,  6,  0,  0,  0,  0,  0,  0,  0,  0,  0,  0,  0,  0]],\n",
      "      dtype=int64)>, <tf.Tensor: shape=(), dtype=int32, numpy=1>)\n"
     ]
    }
   ],
   "source": [
    "# Retrieves a batch of 32 reviews and labels from the dataset\n",
    "text_batch, label_batch = next(iter(raw_train_data_source))\n",
    "first_review, first_label = text_batch[0], label_batch[0]\n",
    "\n",
    "print(\"Review:\", first_review)\n",
    "print(\"Label:\", raw_train_data_source.class_names[first_label])\n",
    "print(\"Vectorized review:\", vectorize_text(first_review, first_label))"
   ]
  },
  {
   "cell_type": "code",
   "execution_count": null,
   "id": "253bb49b",
   "metadata": {},
   "outputs": [
    {
     "name": "stdout",
     "output_type": "stream",
     "text": [
      "Vocabulary size: 2048\n"
     ]
    }
   ],
   "source": [
    "print(\"Vocabulary size:\", len(vectorize_layer.get_vocabulary()))"
   ]
  },
  {
   "cell_type": "code",
   "execution_count": null,
   "id": "0e400c8e",
   "metadata": {},
   "outputs": [
    {
     "name": "stdout",
     "output_type": "stream",
     "text": [
      "Vocabulary: ['', 'c', 'o', 'i', 'f', 'v', 'h', 'n', 'p', 's', 'u', 'k', 'b', 'w', 'y', 'l', 'm', 'ch', 'de', 'no', 'br', 'cl', 'oh', 'nh', 'ol', 'en', 'ii', 'iv', 'cf', 'ci', 'vi', 'co', 'in', 'cn', 'so', 'io', 'po', 'pb', 'ni', 'au', 'sn', 'fe', 'pt', 'bi', 'ti', 'cr', 'mn', 'hg', 'cu', 'as', 'bo', 'si', 'sb', 'se', 'pd', 'te', 'os', 'mo', 'al', 'na', 'ta', 'ag', 'tl', 'nb', 'rb', 'mg', 'ba', 'ga', 'li', 'cd', 'be', 'ca', 'zn', 'sr', 'ra', 'zr', 'sc', 're', 'la', 'ir', 'ho', 'cs', 'ce', 'rh', 'ru', 'fr', 'sm', 'pr', 'am', 'wo', 'tc', 'th', 'hf', 'vo', 'pu', 'eu', 'np', 'tb', 'dy', 'cm', 'bk', 'yb', 'tm', 'pa', 'lu', 'gd', 'er', 'uf', 'ph', 'nd', 'if', 'di', 'wh', 'vh', 'vf', 'uh', 'sf', 'nf', 'ac', 'vs', 'us', 'pm', 'pi', 'hs', 'yn', 'yi', 'yh', 'yf', 'ws', 'wp', 'wn', 'wi', 'wf', 'vn', 'vc', 'up', 'uo', 'ui', 'ts', 'sg', 'rn', 'rg', 'chf', 'iii', 'chi', 'cbr', 'ccl', 'eno', 'bis', 'ona', 'ino', 'cho', 'vii', 'clo', 'bro', 'but', 'oro', 'teo', 'seo', 'mno', 'aso', 'cro', 'sbo', 'sio', 'hex', 'oxo', 'reo', 'tco', 'ooh', 'osh', 'hso', 'ruo', 'oso', 'osf', 'onh', 'moo', 'ibr', 'hpo', 'brf', 'wcl', 'vcl', 'tii', 'tes', 'tah', 'sef', 'scl', 'sbr', 'ruh', 'ruf', 'rho', 'rhh', 'reh', 'ncl', 'nbh', 'mos', 'mns', 'mni', 'mnf', 'kno', 'kio', 'hno', 'hio', 'crf', 'clf', 'amh', 'zro', 'zrf', 'ybh', 'wbr', 'vso', 'vse', 'ubr', 'uat', 'tli', 'tlf', 'tis', 'tih', 'tif', 'tei', 'tai', 'sns', 'sni', 'snh', 'snf', 'ses', 'sei', 'res', 'pts', 'pti', 'pth', 'ptf', 'pri', 'pbr', 'pbo', 'pbh', 'pbf', 'osi', 'oct', 'npo', 'nii', 'nif', 'nbs', 'nbr', 'nbo', 'nbf', 'moh', 'mnp', 'irh', 'icl', 'hgi', 'hgh', 'hfo', 'hfh', 'hff', 'hco', 'fef', 'cui', 'cuh', 'cte', 'cse', 'crs', 'crp', 'crn', 'cri', 'crb', 'bif', 'auh', 'asi', 'asf', 'amo', 'agh', 'zri', 'zrh', 'zns', 'zno', 'zni', 'znh', 'ypo', 'yas', 'vte', 'vpo', 'vbr', 'vat', 'vas', 'ute', 'use', 'usb', 'ucl', 'uas', 'tmp', 'tmo', 'tmi', 'tmh', 'tmf', 'tlp', 'tlh', 'tip', 'tio', 'tin', 'tic', 'thh', 'thf', 'tef', 'tch', 'tbo', 'tbh', 'tas', 'tap', 'tao', 'taf', 'tab', 'srs', 'sro', 'srh', 'srf', 'sno', 'snc', 'smo', 'smn', 'smh', 'sis', 'sii', 'sih', 'sif', 'sic', 'scp', 'scn', 'sci', 'sch', 'scf', 'sbn', 'sbi', 'sbf', 'rus', 'rui', 'rhs', 'ren', 'rei', 'éter', 'chcl', 'chbr', 'inil', 'enil', 'etil', 'tris', 'cooh', 'conh', 'diol', 'dien', 'prop', 'enal', 'cinc', 'pent', 'buta', 'inal', 'diin', 'viii', 'yodo', 'boro', 'hexa', 'hept', 'cohn', 'mocl', 'mnbr', 'liio', 'kclo', 'kbro', 'cuio', 'znso', 'tibr', 'srso', 'secl', 'raso', 'ptso', 'pdso', 'oscl', 'osbr', 'niso', 'nbcl', 'naio', 'mnte', 'mnso', 'mnse', 'mncl', 'hgno', 'hclo', 'feso', 'cuso', 'cuno', 'csio', 'crso', 'crcl', 'crbr', 'coso', 'baso', 'agio', 'zrat', 'tlno', 'tlio', 'tlcl', 'tlbr', 'tite', 'tecl', 'tacl', 'snte', 'snse', 'smcl', 'sebr', 'scpo', 'sbbr', 'ruse', 'rhcl', 'rbno', 'rbio', 'ptte', 'ptse', 'ptcl', 'pdte', 'pdse', 'pbte', 'pbso', 'pbcl', 'pbbr', 'osse', 'nipo', 'nano', 'mote', 'mobr', 'mgso', 'lino', 'irbr', 'hseo', 'hgso', 'hgio', 'hgcl', 'hgat', 'hfcl', 'hbro', 'haso', 'gapo', 'frno', 'fepo', 'fecl', 'cucl', 'csno', 'crte', 'crpo', 'copo', 'cepo', 'cecl', 'brcl', 'bipo', 'bicl', 'beso', 'aupo', 'aucl', 'alpo', 'agno', 'zrsi', 'zrse', 'zrcl', 'zrbr', 'zrbo', 'znse', 'zncl', 'znbr', 'ybco', 'ybcl', 'xecl', 'vaso', 'usio', 'tmcl', 'tlsb', 'tlpo', 'tloh', 'tiso', 'tisi', 'tise', 'tipo', 'ticl', 'thas', 'tese', 'terc', 'tebr', 'tcbr', 'tbcl', 'tbat', 'tavo', 'tapo', 'tabr', 'srte', 'srco', 'srcl', 'srbr', 'snso', 'snsi', 'snco', 'sncl', 'snbr', 'smso', 'smbr', 'site', 'sise', 'sicl', 'sibr', 'sccl', 'scbr', 'scbo', 'scat', 'scas', 'sbcl', 'sbas', 'rusi', 'ruco', 'rucl', 'rubr', 'rhpo', 'rhbr', 'resb', '[UNK]', 'bromo', 'cloro', 'metil', 'amina', 'nitro', 'amino', 'ácido', 'óxido', 'cromo', 'plomo', 'cobre', 'dieno', 'osmio', 'bario', 'sodio', 'radio', 'litio', 'talio', 'galio', 'renio', 'plata', 'cesio', 'diino', 'trien', 'indio', 'cerio', 'rodio', 'penta', 'dioro', 'itrio', 'triol', 'butil', 'tulio', 'curio', 'torio', 'fenil', 'diona', 'hepta', 'erbio', 'eteno', 'etano', 'etilo', 'ciano', 'butan', 'naclo', 'hgclo', 'etoxi', 'cuclo', 'csbro', 'znseo', 'rbclo', 'rbbro', 'rateo', 'niteo', 'nabro', 'liclo', 'libro', 'hgteo', 'hgseo', 'hexen', 'feseo', 'cuteo', 'cubro', 'csclo', 'cateo', 'caseo', 'auclo', 'aubro', 'agclo', 'agbro', 'znmno', 'xenón', 'triin', 'snmno', 'raseo', 'ptteo', 'ptseo', 'pdseo', 'pbseo', 'niseo', 'niaso', 'nahso', 'mgteo', 'mgseo', 'mgcro', 'hgbro', 'hexan', 'flúor', 'feteo', 'femno', 'feaso', 'etino', 'cuseo', 'crcro', 'craso', 'coteo', 'cosbo', 'coaso', 'cdteo', 'cdseo', 'cdmno', 'camno', 'buten', 'beteo', 'becro', 'bateo', 'baseo', 'bamno', 'bacro', 'ausbo', 'zrsio', 'zrseo', 'znteo', 'zncro', 'vinil', 'tlsbo', 'tlclo', 'tlbro', 'timno', 'srteo', 'srseo', 'srmno', 'srcro', 'snteo', 'snsio', 'snseo', 'snreo', 'fluoro', 'etinil', 'propil', 'yoduro', 'hierro', 'estaño', 'níquel', 'etenil', 'dienil', 'borato', 'yodato', 'uranio', 'calcio', 'niobio', 'yodito', 'cadmio', 'iridio', 'boruro', 'trieno', 'diinil', 'sódico', 'enoico', 'bárico', 'áurico', 'rádico', 'gálico', 'lítico', 'césico', 'auroso', 'inoico', 'índico', 'teluro', 'hafnio', 'azufre', 'renato', 'holmio', 'tálico', 'ítrico', 'terbio', 'dienal', 'cérico', 'tórico', 'dietil', 'bórico', 'amonio', 'túlico', 'rénico', 'oxobut', 'metilo', 'cúrico', 'trioro', 'hexeno', 'butano', 'ródico', 'cetona', 'buteno', 'érbico', 'yódico', 'pentan', 'octeno', 'fenilo', 'diyodo', 'dicinc', 'diboro', 'yodoso', 'propan', 'pentil', 'octano', 'metano', 'etanal', 'butilo', 'xileno', 'vinilo', 'triino', 'teneso', 'silano', 'ribosa', 'yodobut', 'dibromo', 'hidruro', 'sulfuro', 'cloruro', 'dicloro', 'bromuro', 'cobalto', 'platino', 'vanadio', 'sulfato', 'nitrato', 'titanio', 'diamina', 'sulfito', 'fosfuro', 'hidroxi', 'bismuto', 'fosfato', 'paladio', 'nitruro', 'fosfito', 'carburo', 'nitrito', 'cromato', 'clorito', 'clorato', 'bromato', 'bromito', 'tántalo', 'rutenio', 'berilio', 'potasio', 'rubidio', 'dinitro', 'enamida', 'trienil', 'férrico', 'ferroso', 'cálcico', 'crómico', 'diamino', 'cúprico', 'cromoso', 'francio', 'cádmico', 'dimetil', 'cromito', 'cíncico', 'carbono', 'yodohex', 'lantano', 'cuproso', 'europio', 'samario', 'dióxido', 'selenio', 'inamida', 'fósforo', 'silicio', 'talioso', 'disodio', 'diplata', 'dicromo', 'actinio', 'dicobre', 'cerioso', 'lutecio', 'hólmico', 'etilbut', 'ditalio', 'dilitio', 'iterbio', 'irídico', 'dicesio', 'digalio', 'hexakis', 'uránico', 'nítrico', 'nióbico', 'háfnico', 'oxoprop', 'diindio', 'nitroso', 'tricinc', 'renioso', 'diitrio', 'tetraen', 'rodioso', 'butanol', 'térbico', 'tulioso', 'propano', 'octakis', 'ditorio', 'diosmio', 'dicerio', 'benceno', 'propilo', 'dicurio', 'acetato', 'trienal', 'telurio', 'penteno', 'pentano', 'hepteno', 'ditulio', 'clórico', 'cianuro', 'alcohol', 'pentaen', 'metanol', 'metanal', 'inodial', 'heptino', 'heptano', 'etilhex', 'enodial', 'dirodio', 'direnio', 'diradio', 'diplomo', 'cloroso', 'butanal', 'brómico', 'bromoso', 'amónico', 'acético', 'yodooct', 'trietil', 'tolueno', 'yodoprop', 'yodoetil', 'fluoruro', 'nitrobut', 'selenuro', 'tetrakis', 'telururo', 'difluoro', 'mercurio', 'peróxido', 'yodoetan', 'metilbut', 'arsenuro', 'silicuro', 'telurato', 'clorobut', 'selenito', 'yodopent', 'magnesio', 'telurito', 'aluminio', 'selenato', 'pentakis', 'yodobuta', 'circonio', 'bromobut', 'trióxido', 'escandio', 'plúmbico', 'monóxido', 'plumboso', 'rubídico', 'potásico', 'yodoeten', 'berílico', 'astaturo', 'estáñico', 'paládico', 'estañoso', 'etilprop', 'americio', 'arsénico', 'titánico', 'yodohexa', 'fráncico', 'nitrohex', 'tecnecio', 'diyoduro', 'tricobre', 'plutonio', 'aminobut', 'neptunio', 'diníquel', 'dihierro', 'triamina', 'tetraeno', 'metilhex', 'vanádico', 'triplomo', 'etiletil', 'diboruro', 'európico', 'dienoico', 'berkelio', 'uranioso', 'tribromo', 'niobioso', 'lutécico', 'iridioso', 'diniobio', 'clorohex', 'trisodio', 'triplata', 'tribario', 'samárico', 'actínico', 'tricromo', 'tricloro', 'silícico', 'heptakis', 'etilpent', 'triradio', 'trilitio', 'teluroso', 'diholmio', 'triosmio', 'terbioso', 'selénico', 'diuranio', 'bromohex', 'tricesio', 'itérbico', 'etanoato', 'trimetil', 'telúrico', 'etilbuta', 'diiridio', 'tetraoro', 'neodimio', 'germanio', 'etanoico', 'trirenio', 'trinitro', 'propenil', 'promecio', 'hafnioso', 'diestaño', 'dicalcio', 'yodoocta', 'yodohept', 'vanadoso', 'tritalio', 'trirodio', 'triamino', 'propenal', 'propanol', 'pentaeno', 'oxopenta', 'isobutil', 'hexanona', 'etilhexa', 'etilhept', 'diterbio', 'dicadmio', 'benzoato', 'aminohex', 'yodonona', 'valérico', 'undecano', 'tritorio', 'trigalio', 'tricerio', 'titanato', 'sacarosa', 'yodometil', 'nitroetil', 'nitroprop', 'hidróxido', 'manganeso', 'cloroetil', 'carbonato', 'cloroprop', 'bromoetil', 'fluorobut', 'molibdeno', 'bromoprop', 'manganato', 'peryodato', 'nitroetan', 'wolframio', 'estroncio', 'yodoetano', 'nitrobuta', 'nitropent', 'hidrógeno', 'metiletil', 'yodopenta', 'metilpent', 'metilprop', 'isopropil', 'niquélico', 'yodoeteno', 'niqueloso', 'yodobutan', 'cobáltico', 'cobaltoso', 'magnésico', 'platinoso', 'oxoyodato', 'argéntico', 'platínico', 'nitrógeno', 'mercúrico', 'bismutoso', 'alumínico', 'yodobutil', 'manganito', 'diyodobut', 'anhídrido', 'escándico', 'cloropent', 'bromopent', 'mangánico', 'bismútico', 'dicloruro', 'triyoduro', 'clorobuta', 'titanioso', 'nitroeten', 'manganoso', 'antimonio', 'vanadioso', 'paladioso', 'dihidruro', 'dinitruro', 'bromobuta', 'dibismuto', 'cloroetan', 'nitrohexa', 'lantánico', 'difosfuro', 'dibromuro', 'divanadio', 'aminoprop', 'circónico', 'trifluoro', 'disulfuro', 'dicobalto', 'triestaño', 'metilhexa', 'dipotasio', 'tecnécico', 'disprosio', 'tecnecato', 'carbónico', 'triníquel', 'tricalcio', 'gadolinio', 'fluorohex', 'cloroeten', 'carbonoso', 'trihierro', 'dihidroxi', 'difrancio', 'tricadmio', 'tantaloso', 'fosfórico', 'europioso', 'dititanio', 'dirubidio', 'dienamida', 'samarioso', 'fosforoso', 'dilantano', 'difósforo', 'bromohexa', 'bromoetan', 'aminopent', 'triniobio', 'clorohexa', 'bromoeten', 'arsenioso', 'triiridio', 'tantálico', 'sulfuroso', 'perródico', 'etilpenta', 'tetraenil', 'selenioso', 'perrénico', 'metilbuta', 'iterbioso', 'etilbutil', 'ditantalo', 'disamario', 'dieuropio', 'dicromato', 'aminobuta', 'yodohepta', 'trihafnio', 'sulfúrico', 'ditántalo', 'dilutecio', 'aminohexa', 'amerícico', 'peryódico', 'nitroocta', 'neptúnico', 'hexadieno', 'dirutenio', 'diplatino', 'diiterbio', 'diberilio', 'carbamoil', 'butenoico', 'butadieno', 'berkélico', 'propanona', 'propadien', 'promécico', 'pentanona', 'oxoetanal', 'octatrien', 'nitrohept', 'metanoico', 'hexenoico', 'hexanoato', 'heptanona', 'heptadien', 'etilhepta', 'etenamina', 'etanodial', 'einstenio', 'diinamida', 'clorohept', 'butanoato', 'bromohept', 'aminoetan', 'yodohexan', 'yodoetino', 'triuranio', 'triterbio', 'triholmio', 'trienoico', 'tridecano', 'tricosano', 'tetraboro', 'tecnecico', 'bromometil', 'clorometil', 'nitrometil', 'yodopropil', 'fluoroprop', 'yodoetenil', 'fluoroetil', 'perclorato', 'antimonuro', 'perbromato', 'hipoyodito', 'yodopropan', 'fluorobuta', 'oxoclorato', 'diyodoprop', 'diyodoetil', 'nitroetano', 'yodoetinil', 'fluoroetan', 'enonitrilo', 'yodobutano', 'nitropenta', 'mercurioso', 'oxobromato', 'trisulfuro', 'trihidruro', 'oxonitrato', 'etilpropil', 'estróncico', 'fluoropent', 'etiletenil', 'nitrobutil', 'nitrobutan', 'inonitrilo', 'metilbutan', 'wolframato', 'tricloruro', 'dinitrobut', 'tribromuro', 'metilbutil', 'diyodoetan', 'difluoruro', 'pernióbico', 'fluoroeten', 'diarsenuro', 'peruránico', 'hidroxibut', 'cloropenta', 'triplatino', 'nitroeteno', 'dimercurio', 'dialuminio', 'cloroetano', 'bromopenta', 'metilpenta', 'fluorohexa', 'yodoetanal', 'diselenuro', 'diclorobut', 'clorobutan', 'trivanadio', 'tripaladio', 'tricarburo', 'monoboruro', 'tripotasio', 'pentaóxido', 'monoyoduro', 'diyodobuta', 'clorobutil', 'trirubidio', 'triberilio', 'diyodopent', 'tricobalto', 'californio', 'antimónico', 'trititanio', 'tribismuto', 'perirídico', 'diyodoeten', 'diescandio', 'dibromobut', 'yodopentan', 'yodohexano', 'tricarbono', 'propadieno', 'percrómico', 'hexayoduro', 'cloroeteno', 'circonioso', 'bromobutil', 'bromobutan', 'ditelururo', 'disprósico', 'diastaturo', 'tritántalo', 'metilhexan', 'metilhepta', 'gadolínico', 'dimetilbut', 'diarsénico', 'hipoyodoso', 'ditecnecio', 'dinitrohex', 'clorohepta', 'bromoetano', 'americioso', 'trifrancio', 'perbrómico', 'heptaóxido', 'diyodohexa', 'dicirconio', 'diamericio', 'ciclohexil', 'yodopentil', 'wolfrámico', 'trisilicio', 'trienamida', 'tetrasodio', 'tetraplata', 'tetralitio', 'tetracromo', 'plutonioso', 'perclórico', 'pentenoico', 'nitrohepta', 'neptunioso', 'estroncico', 'dimagnesio', 'bromohepta', 'aminopenta', 'aminobutan', 'yodoheptan', 'trisamario', 'trirutenio', 'triiterbio', 'trieuropio', 'tetraóxido', 'tetratalio', 'tetragalio', 'tetracobre', 'tecnecioso', 'propanoico', 'octatrieno', 'nonatrieno', 'metanamida', 'inodiamida', 'etilpropan', 'etilhexano', 'dineptunio', 'dineodimio', 'dimetilhex', 'diclorohex', 'diaminobut', 'bromoeteno', 'aminohepta', 'aminoeteno', 'aminoetano', 'yodoetinol', 'yodhídrico', 'triyodobut', 'triptófano', 'trioxígeno', 'trilantano', 'trifósforo', 'tetratorio', 'tetraindio', 'tetracesio', 'tetrabromo', 'salicílico', 'salbutamol', 'roentgenio', 'fluorometil', 'metilpropil', 'nitropropil', 'nitroetenil', 'hipoclorito', 'cloroetenil', 'cloropropil', 'hiposulfito', 'hipobromito', 'bromopropil', 'diyodometil', 'bromoetenil', 'hiponitrito', 'cloroetinil', 'bromoetinil', 'yodopropano', 'nitropropan', 'dinitroprop', 'dinitroetil', 'nitroetinil', 'monosulfuro', 'fluoropenta', 'propadienil', 'monocarburo', 'dioxoyodato', 'praseodimio', 'hidroxiprop', 'triselenuro', 'dicloroprop', 'metiletenil', 'fluoroetano', 'dihidróxido', 'pervanádico', 'nitrobutano', 'trifluoruro', 'mononitruro', 'tritelururo', 'monofosfuro', 'diyodoetano', 'dicloroetil', 'metilbutano', 'metilpropan', 'dinitroetan', 'trimercurio', 'difluorobut', 'fluorobutan', 'cloropropan', 'fluoroeteno', 'trisilicuro', 'protactinio', 'dimanganeso', 'dibromoetil', 'fluorobutil', 'tetrayoduro', 'yodopentano', 'dimolibdeno', 'dicloroetan', 'trimagnesio', 'monocloruro', 'monobromuro', 'metilpentan', 'hidroxipent', 'dibromoprop', 'hiporodioso', 'monohidruro', 'hidroxietan', 'diyodopenta', 'dinitrógeno', 'bromopropan', 'antimonioso', 'nitropentan', 'hiponitroso', 'diyodoeteno', 'triastaturo', 'pentayoduro', 'nitroetanal', 'hexahidruro', 'hexabromuro', 'dinitropent', 'dinitrobuta', 'dibromoetan', 'clorobutano', 'nitrohexano', 'diyodobutil', 'dihidrógeno', 'dicloroeten', 'diclorobuta', 'dibromobuta', 'diantimonio', 'triyodoetan', 'tricirconio', 'oxopropanal', 'oxoetanoico', 'metilhexano', 'hidroxieten', 'hidroxibuta', 'hexacloruro', 'fluorohepta', 'diyodobutan', 'diwolframio', 'dimetilpent', 'dibromopent', 'dibromoeten', 'diaminoprop', 'califórnico', 'bromopentan', 'bromobutano', 'yodobutanal', 'hiporenioso', 'hipobromoso', 'didisprosio', 'aminopropan', 'triyodoprop', 'triyodoetil', 'tetrahierro', 'nitropentil', 'etilpentano', 'dinitrohexa', 'dinitroeten', 'digadolinio', 'cloropentan', 'bromoetanal', 'bencenodiol', 'yodobenceno', 'wolframioso', 'trinitrobut', 'trineptunio', 'triclorobut', 'triarsénico', 'tetraníquel', 'tetraholmio', 'tetraboruro', 'propanamida', 'pentanodiol', 'naftilamina', 'molibdénico', 'hipocloroso', 'etanodioico', 'dimetiletil', 'diestroncio', 'dicloropent', 'diclorohexa', 'diaminoeten', 'cloroetanal', 'ciclopentil', 'ciclooctano', 'ciclobutano', 'bromohexano', 'yodometanal', 'yodoheptano', 'triyodoeten', 'triescandio', 'tribromobut', 'trialuminio', 'tetrauranio', 'tetraniobio', 'tetrairidio', 'tetraidruro', 'sulfhídrico', 'fluoroetenil', 'fluoropropil', 'metasilicato', 'dinitrometil', 'dibromometil', 'diclorometil', 'metaarsenato', 'fluoroetinil', 'hipotelurito', 'metaarsenito', 'dioxonitrato', 'trioxoyodato', 'hiposelenito', 'trioxoborato', 'dioxoclorato', 'dioxosulfato', 'nitropropano', 'dioxobromato', 'trihidróxido', 'monosilicuro', 'difluoroetil', 'monotelururo', 'fluoropropan', 'difluoroprop', 'monoselenuro', 'diyodoetenil', 'dioxocromato', 'metilpropano', 'diyodopropil', 'yodopropanal', 'pertantálico', 'difluoroetan', 'metavanadato', 'nitropentano', 'diantimonuro', 'tetrahidruro', 'monoarsenuro', 'dinitroetano', 'tetrabromuro', 'fluorobutano', 'yodoetanoico', 'tetracloruro', 'metilpentano', 'hipouranioso', 'dienonitrilo', 'trimanganeso', 'diyodopropan', 'praseodímico', 'pentacloruro', 'monofluoruro', 'tetrafosfuro', 'pentabromuro', 'hiponiobioso', 'cloropropano', 'pentasulfuro', 'dicloroetano', 'trinitroetil', 'triestroncio', 'tricloroetil', 'tetranitruro', 'pentahidruro', 'metilbutanal', 'hipoiridioso', 'hexafluoruro', 'peramerícico', 'monoastaturo', 'metilbenceno', 'isopropilbut', 'hidroxibutan', 'fluoroetanal', 'diyodobutano', 'bromopropano', 'triyodoetano', 'trinitroprop', 'trimolibdeno', 'perplutónico', 'pentafosfuro', 'hipoteluroso', 'dinitroeteno', 'difluoropent', 'dibromobutil', 'cloropentano', 'nitrobutanal', 'hipohafnioso', 'diyodoetanal', 'dinitrobutan', 'diinonitrilo', 'difluoroeten', 'difluorobuta', 'dicloroeteno', 'tribromoprop', 'triantimonio', 'tetravanadio', 'tetratitanio', 'tetrarubidio', 'tetrabismuto', 'pentanitruro', 'oxoetanamida', 'oxobutanoico', 'hidroxipenta', 'heptacloruro', 'heptabromuro', 'dinitropenta', 'dinitrobutil', 'dimetilpenta', 'dimetilbutil', 'difluorohexa', 'dicalifornio', 'dibromoeteno', 'dibromoetano', 'bromopentano', 'triyodoeteno', 'tricloroprop', 'tribromoeten', 'tetrapotasio', 'tetrafrancio', 'tetraeuropio', 'tetracobalto', 'propildecano', 'praseodimico', 'permangánico', 'permanganato', 'octafluoruro', 'isopropilhex', 'hipovanadoso', 'hidroxihepta', 'heptasulfuro', 'heptanitruro', 'heptahidruro', 'heptacarburo', 'fluoropentan', 'fluorohexano', 'etanonitrilo', 'dioxofosfato', 'dihidroxibut', 'dicloropenta', 'dibromobutan', 'diaminoetano', 'diaminobutan', 'clorobutanal', 'clorobenceno', 'yodopentanal', 'vinilbenceno', 'triyodometil', 'triwolframio', 'trioxoyódico', 'trioxobórico', 'trinitroetan', 'trinitrobuta', 'trigadolinio', 'trifosfórico', 'trifluorobut', 'tricloroeten', 'tricloroetan', 'triclorobuta', 'tribromoetil', 'tribromoetan', 'triaminoprop', 'tetratántalo', 'tetrarutenio', 'tetralutecio', 'tetraciclina', 'telurhídrico', 'selenhídrico', 'rutherfordio', 'difluorometil', 'trioxonitrato', 'trioxosulfato', 'trioxofosfato', 'trioxoclotato', 'trioxobromato', 'dioxotelurato', 'dioxoarsenato', 'dimetilpropil', 'fluoropropano', 'dinitropropil', 'dioxoselenato', 'dinitroetenil', 'dicloroetenil', 'yodopropadien', 'hipovanadioso', 'tetrafluoruro', 'diyodopropano', 'isopropilprop', 'hipotitanioso', 'nitropropanal', 'difluoroetano', 'dicloropropil', 'yodoetanamida', 'pentafluoruro', 'hidroxietanal', 'hexahidróxido', 'dinitropropan', 'yodobutanoico', 'triclorometil', 'tribromometil', 'pentatelururo', 'pentaselenuro', 'oxopropanoico', 'dinitrobutano', 'dibromopropil', 'trinitrometil', 'hiposelenioso', 'dibromoetenil', 'tetraarsenuro', 'nitroetanoico', 'fluoropentano', 'dimetilpentan', 'difluoropenta', 'dicloropropan', 'metilpropanal', 'isopropiletil', 'hiposulfuroso', 'trifluoroetil', 'protactinioso', 'praseodimioso', 'hidroxipropan', 'heptafluoruro', 'difluoroeteno', 'cloropropanal', 'cloroetanoico', 'tricloroetano', 'tetratecnecio', 'pentasilicuro', 'isopropilpent', 'hipotantaloso', 'dimetilbutano', 'difluorobutan', 'dibromopropan', 'triyodometano', 'trinitroetano', 'trinitrobutil', 'trifluoroprop', 'tetramercurio', 'tetraescandio', 'tetraastaturo', 'propilbenceno', 'propanodioico', 'oxopentanoico', 'isopropilbuta', 'fluorobutanal', 'diprotactinio', 'dipraseodimio', 'dinitropentan', 'dimetilhexano', 'dibromometano', 'diaminopropan', 'yodometanoico', 'triyodopropan', 'trioxonítrico', 'trioxoclórico', 'trioxobrómico', 'trinitroeteno', 'trifluoropent', 'trifluoroeten', 'triclorobutil', 'tribromoeteno', 'tribromoetano', 'tribromobutil', 'tetraselenuro', 'tetraamericio', 'tetraaluminio', 'nitroyodometil', 'bromoyodometil', 'cloroyodometil', 'metaantimonato', 'metaantimonito', 'tetraoxoyodato', 'trioxosilicato', 'trioxoselenato', 'trioxotelurato', 'trioxoarsenato', 'monoantimonuro', 'tetrahidróxido', 'difluoropropil', 'yodopropadieno', 'difluoroetenil', 'trioxovanadato', 'tetraoxorenato', 'nitropropadien', 'nitroetanamida', 'dinitropropano', 'hipocirconioso', 'yodopropanoico', 'bromopropadien', 'trifluorometil', 'pentahidróxido', 'yodobutanamida', 'fluoroetanoico', 'dimetilpentano', 'dicloropropano', 'fluoropropanal', 'oxopropanamida', 'nitrobutanoico', 'metilbutanoico', 'hipoamericioso', 'hidroxibutanal', 'dimetilbenceno', 'difluoropropan', 'cloropropadien', 'metilhexanoico', 'hipoplutonioso', 'hidroxibenceno', 'etilbutanamida', 'dimetilheptano', 'difluorobutano', 'dibromopropano', 'cloroetanamida', 'triyodopropano', 'tripraseodimio', 'trioxoarsénico', 'trifluoroeteno', 'tetramanganeso', 'pentenonitrilo', 'pentanodiamina', 'hipotecnecioso', 'heptahidróxido', 'etanodinitrilo', 'difluoropentil', 'difluoroetanal', 'dicloropentano', 'diclorobutanal', 'diclorobenceno', 'dibromopentano', 'dibromobenceno', 'clorobutanoico', 'ciclohexadieno', 'aminopropadien', 'aminobutanoico', 'yodometanodiol', 'yodometanamina', 'yodometanamida', 'triyodopentano', 'triyodometanol', 'trioxovanádico', 'trioxotelúrico', 'trioxosilícico', 'trioxoselénico', 'trinitrometano', 'trimetiloctano', 'trimetilbutilo', 'trihidroxipent', 'trifluoroetano', 'tricloropropan', 'triclorometano', 'triclorobutano', 'tribromopropil', 'tribromopropan', 'tetrayodoetano', 'tetraoxoyódico', 'tetramolibdeno', 'sulfametoxazol', 'cloronitrometil', 'bromonitrometil', 'bromoclorometil', 'fluoroyodometil', 'trioxocarbonato', 'tetraoxosulfato', 'tetraoxofosfato', 'tetraoxobromato', 'tetraoxoclorato', 'tetraoxocromato', 'yodopropadienil', 'dioxoantimonato', 'trioxomanganato', 'nitropropadieno', 'fluoropropadien', 'hidroxipropanal', 'yodopropanamida', 'isopropiletenil', 'fluoroetanamida', 'difluoropropano', 'oxoetanonitrilo', 'hidroxietanoico', 'etilpropadienil', 'cloropropanoico', 'tetraantimonuro', 'nitropropanoico', 'metilbutanamida', 'diyodoetanamida', 'cloropropadieno', 'bromopropanoico', 'trifluorometano', 'tribromopropano', 'metilpropanoico', 'heptaantimonuro', 'diyodopropadien', 'dimetoxibenceno', 'dimetilpentanal', 'dihidroxietanal', 'ciclopentadieno', 'bromopropadieno', 'aminopropanoico', 'yodometanotriol', 'yodociclohexano', 'trioxosulfúrico', 'trioxomangánico', 'trioxofosfórico', 'trioxocarbónico', 'trioxidonitrato', 'trinitropropano', 'trinitrometanol', 'trifluoropropil', 'trifluoropropan', 'tricloropropano', 'triclorometanol', 'tribromometanol', 'tetraoxoclórico', 'tetraoxobrómico', 'tetrafluoroetil', 'tetracloroeteno', 'fluoronitrometil', 'bromofluorometil', 'clorofluorometil', 'tetraoxotelurato', 'tetraoxoselenato', 'trioxoantimonato', 'nitropropadienil', 'nitrodiyodometil', 'cloropropadienil', 'dinitroyodometil', 'dicloroyodometil', 'bromodiyodometil', 'yodoetanonitrilo', 'clorodiyodometil', 'fluoropropadieno', 'bromopropadienil', 'dibromoyodometil', 'metilpropadienil', 'hidrogenosulfato', 'fluoropropanoico', 'nitropropanamida', 'metilpropanamida', 'hidrogenofosfato', 'diyodopropadieno', 'hidroxietanamida', 'hidrogenosulfito', 'hidrogenocromato', 'metilpentanamida', 'hidroxibutanoico', 'dicloropropadien', 'bromopropanamida', 'metilciclohexano', 'hidroxipropadien', 'dinitropropadien', 'dinitroetanamida', 'difluoropropanal', 'dicloroetanamida', 'dibromopropadien', 'cloropropanamida', 'aminopropanamida', 'trioxoantimónico', 'trimetildodecano', 'trifluoropropano', 'trifluorometanol', 'tribromoetanoico', 'tetrapraseodimio', 'tetraoxovanádico', 'tetraoxovanadato', 'tetraoxotelúrico', 'tetraoxosilícico', 'tetraoxosilicato', 'tetraoxoselénico', 'tetraoxoarsénico', 'tetraoxoarsenato', 'tetranitrometano', 'tetracloropentil', 'tetraoxomanganato', 'fluoropropadienil', 'dibromoclorometil', 'dicloronitrometil', 'dibromonitrometil', 'clorodinitrometil', 'bromodiclorometil', 'fluorodiyodometil', 'difluoroyodometil', 'bromodinitrometil', 'oxopropanonitrilo', 'tetraoxotecnecato', 'nitroetanonitrilo', 'hidroxipropanoico', 'dinitropropadieno', 'hidroxibutanamida', 'diyodopropadienil', 'cloroetanonitrilo', 'hidrogenoselenito', 'fluoropropanamida', 'difluoropropadien', 'yodobutanonitrilo', 'tetraoxotecnécico', 'tetraoxomangánico', 'hidrogenoselenato', 'dimetilfenilamina', 'dihidroxipropanal', 'dibromopropadieno', 'yodometanonitrilo', 'triyodometanamina', 'trimetilbutanoico', 'tetraoxosulfúrico', 'tetraoxomolíbdico', 'tetraoxofosfórico', 'difluoronitrometil', 'dibromofluorometil', 'fluorodinitrometil', 'bromodifluorometil', 'clorodifluorometil', 'diclorofluorometil', 'tetraoxowolframato', 'yodopropanonitrilo', 'hidroxipropanamida', 'dicloropropadienil', 'metilbutanonitrilo', 'hidrogenocarbonato', 'nitrobutanonitrilo', 'fluoroetanonitrilo', 'dihidrogenofosfato', 'metilhexanonitrilo', 'diyodoetanonitrilo', 'dinitropropadienil', 'difluoropropadieno', 'clorobutanonitrilo', 'trinitroyodometano', 'trimetilbutanamida', 'tricloroyodometano', 'tetraoxoantimónico', 'tetraoxoantimonato', 'bromonitroyodometil', 'bromocloroyodometil', 'cloronitroyodometil', 'nitropropanonitrilo', 'hidroxietanonitrilo', 'dihidrogenoarsenato', 'dibromoetanonitrilo', 'trimetilciclohexano', 'trifluoroyodometano', 'tricloropropadienil', 'tricloronitrometano', 'tribromonitrometano', 'tribromoclorometano', 'bromocloronitrometil', 'fluoronitroyodometil', 'clorofluoroyodometil', 'bromofluoroyodometil', 'fluoropropanonitrilo', 'diyodopropanonitrilo', 'difluoroetanonitrilo', 'bencenodicarboxílico', 'trifluoronitrometano', 'tribromofluorometano', 'tetrahidrocannabinol', 'bromofluoronitrometil', 'bromoclorofluorometil', 'clorofluoronitrometil', 'hidroxipropanonitrilo', 'trihidroxibencenocarboxílico']\n"
     ]
    }
   ],
   "source": [
    "print(\"Vocabulary:\", sorted(vectorize_layer.get_vocabulary(), key = len))"
   ]
  },
  {
   "cell_type": "code",
   "execution_count": null,
   "id": "d020092d",
   "metadata": {},
   "outputs": [],
   "source": [
    "train_data_source = raw_train_data_source.map(vectorize_text)\n",
    "validation_data_source = raw_validation_data_source.map(vectorize_text)\n",
    "test_data_source = raw_test_data_source.map(vectorize_text)"
   ]
  },
  {
   "cell_type": "code",
   "execution_count": null,
   "id": "1d5efbc3",
   "metadata": {},
   "outputs": [],
   "source": [
    "AUTOTUNE = tf.data.experimental.AUTOTUNE # ??\n",
    "\n",
    "train_data_source = train_data_source.cache().prefetch(buffer_size = AUTOTUNE)\n",
    "validation_data_source = validation_data_source.cache().prefetch(buffer_size = AUTOTUNE)\n",
    "test_data_source = test_data_source.cache().prefetch(buffer_size = AUTOTUNE)"
   ]
  },
  {
   "cell_type": "markdown",
   "id": "87ef8355",
   "metadata": {},
   "source": [
    "# Model creation:"
   ]
  },
  {
   "cell_type": "code",
   "execution_count": null,
   "id": "7d817ed8",
   "metadata": {},
   "outputs": [],
   "source": [
    "embedding_dim = 2 ** 10 # 16 default\n",
    "# For formula-inorganic-organic: the greater, the better (1024)"
   ]
  },
  {
   "cell_type": "code",
   "execution_count": null,
   "id": "4761ffba",
   "metadata": {},
   "outputs": [],
   "source": [
    "def create_model ():\n",
    "  model = tf.keras.Sequential([\n",
    "    layers.Embedding(max_features + 1, embedding_dim),\n",
    "    layers.Dropout(0.2),\n",
    "    layers.Dense(256, activation = \"relu\"),\n",
    "    layers.GlobalAveragePooling1D(),\n",
    "    layers.Dropout(0.2),\n",
    "    layers.Dense(1),\n",
    "  ])\n",
    "  \n",
    "  model.compile(\n",
    "    optimizer = \"adam\",\n",
    "    metrics = tf.metrics.BinaryAccuracy(threshold = 0.0),\n",
    "    loss = losses.BinaryCrossentropy(from_logits = True),\n",
    "  )\n",
    "  \n",
    "  return model\n",
    "\n",
    "model = create_model()\n",
    "  "
   ]
  },
  {
   "cell_type": "markdown",
   "id": "1c305297",
   "metadata": {},
   "source": [
    "### Training:"
   ]
  },
  {
   "cell_type": "code",
   "execution_count": null,
   "id": "29d28708",
   "metadata": {
    "scrolled": false
   },
   "outputs": [
    {
     "name": "stdout",
     "output_type": "stream",
     "text": [
      "Epoch 1/5\n",
      "1115/1115 [==============================] - 42s 37ms/step - loss: 0.0576 - binary_accuracy: 0.9722 - val_loss: 0.0297 - val_binary_accuracy: 0.9825\n",
      "Epoch 2/5\n",
      "1115/1115 [==============================] - 35s 31ms/step - loss: 0.0193 - binary_accuracy: 0.9866 - val_loss: 0.0283 - val_binary_accuracy: 0.9775\n",
      "Epoch 3/5\n",
      "1115/1115 [==============================] - 34s 30ms/step - loss: 0.0181 - binary_accuracy: 0.9868 - val_loss: 0.0286 - val_binary_accuracy: 0.9775\n",
      "Epoch 4/5\n",
      "1115/1115 [==============================] - 35s 31ms/step - loss: 0.0177 - binary_accuracy: 0.9869 - val_loss: 0.0286 - val_binary_accuracy: 0.9775\n",
      "Epoch 5/5\n",
      "1115/1115 [==============================] - 36s 32ms/step - loss: 0.0175 - binary_accuracy: 0.9875 - val_loss: 0.0283 - val_binary_accuracy: 0.9775\n"
     ]
    }
   ],
   "source": [
    "epochs = 5\n",
    "\n",
    "history = model.fit(\n",
    "    epochs = epochs,\n",
    "    x = train_data_source,\n",
    "    validation_data = validation_data_source,\n",
    ")"
   ]
  },
  {
   "cell_type": "markdown",
   "id": "892bb372",
   "metadata": {},
   "source": [
    "### Compiling:"
   ]
  },
  {
   "cell_type": "code",
   "execution_count": null,
   "id": "b70a0ca3",
   "metadata": {},
   "outputs": [],
   "source": [
    "export_model = tf.keras.Sequential([\n",
    "  vectorize_layer,\n",
    "  model,\n",
    "  layers.Activation(\"sigmoid\")\n",
    "])\n",
    "\n",
    "export_model.compile(\n",
    "    optimizer = \"adam\", \n",
    "    metrics = [\"accuracy\"],\n",
    "    loss = losses.BinaryCrossentropy(from_logits = False), \n",
    ")"
   ]
  },
  {
   "cell_type": "markdown",
   "id": "9305bb10",
   "metadata": {},
   "source": [
    "# Model evaluation:"
   ]
  },
  {
   "cell_type": "markdown",
   "id": "214e11c5",
   "metadata": {},
   "source": [
    "### Using test data:"
   ]
  },
  {
   "cell_type": "code",
   "execution_count": null,
   "id": "c9f31b1d",
   "metadata": {},
   "outputs": [
    {
     "name": "stdout",
     "output_type": "stream",
     "text": [
      "155/155 [==============================] - 1s 7ms/step - loss: 0.0121 - binary_accuracy: 0.9998\n",
      "Test loss: 0.012100975960493088\n",
      "Test accuracy: 0.9997981190681458\n"
     ]
    }
   ],
   "source": [
    "loss, accuracy = model.evaluate(test_data_source)\n",
    "\n",
    "print(\"Test loss:\", loss)\n",
    "print(\"Test accuracy:\", accuracy)"
   ]
  },
  {
   "cell_type": "markdown",
   "id": "d7f52fc7",
   "metadata": {},
   "source": [
    "### Using raw test data:"
   ]
  },
  {
   "cell_type": "code",
   "execution_count": null,
   "id": "415c6dd5",
   "metadata": {},
   "outputs": [
    {
     "name": "stdout",
     "output_type": "stream",
     "text": [
      "155/155 [==============================] - 1s 7ms/step - loss: 0.0121 - accuracy: 0.9998\n",
      "Raw test loss: 0.012100977823138237\n",
      "Raw test accuracy: 0.9997981190681458\n"
     ]
    }
   ],
   "source": [
    "loss, accuracy = export_model.evaluate(raw_test_data_source)\n",
    "\n",
    "print(\"Raw test loss:\", loss)\n",
    "print(\"Raw test accuracy:\", accuracy)"
   ]
  },
  {
   "cell_type": "markdown",
   "id": "a6abe3d6",
   "metadata": {},
   "source": [
    "### Accuracy graph:"
   ]
  },
  {
   "cell_type": "code",
   "execution_count": null,
   "id": "5dae66db",
   "metadata": {},
   "outputs": [
    {
     "data": {
      "image/png": "[encoded data removed]",
      "text/plain": [
       "<Figure size 640x480 with 1 Axes>"
      ]
     },
     "metadata": {},
     "output_type": "display_data"
    }
   ],
   "source": [
    "history_dict = history.history\n",
    "history_dict.keys()\n",
    "\n",
    "accuracy = history_dict[\"binary_accuracy\"]\n",
    "validation_accuracy = history_dict[\"val_binary_accuracy\"]\n",
    "loss = history_dict[\"loss\"]\n",
    "validation_loss = history_dict[\"val_loss\"]\n",
    "\n",
    "epochs = range(1, len(accuracy) + 1)\n",
    "\n",
    "plt.plot(epochs, accuracy, \"bo\", label = \"Training accuracy\") # Blue dots\n",
    "plt.plot(epochs, validation_accuracy, \"b\", label = \"Validation accuracy\") # Blue line\n",
    "plt.title(\"Training and validation accuracy\")\n",
    "plt.xlabel(\"Epochs\")\n",
    "plt.ylabel(\"Accuracy\")\n",
    "plt.legend(loc = \"lower right\")\n",
    "\n",
    "plt.show()"
   ]
  },
  {
   "cell_type": "markdown",
   "id": "2bbe64ce",
   "metadata": {},
   "source": [
    "### Loss graph:"
   ]
  },
  {
   "cell_type": "code",
   "execution_count": null,
   "id": "30e53795",
   "metadata": {
    "collapsed": false
   },
   "outputs": [
    {
     "data": {
      "image/png": "[encoded data removed]",
      "text/plain": [
       "<Figure size 640x480 with 1 Axes>"
      ]
     },
     "metadata": {},
     "output_type": "display_data"
    }
   ],
   "source": [
    "plt.plot(epochs, loss, \"ro\", label = \"Training loss\") # Red dots\n",
    "plt.plot(epochs, validation_loss, \"r\", label = \"Validation loss\") # Red line\n",
    "plt.title(\"Training and validation loss\")\n",
    "plt.xlabel(\"Epochs\")\n",
    "plt.ylabel(\"Loss\")\n",
    "plt.legend()\n",
    "\n",
    "plt.show()"
   ]
  },
  {
   "attachments": {},
   "cell_type": "markdown",
   "id": "a01b8dcd",
   "metadata": {},
   "source": [
    "# Export model to a file"
   ]
  },
  {
   "cell_type": "code",
   "execution_count": null,
   "id": "2a695597",
   "metadata": {},
   "outputs": [],
   "source": [
    "export_model.save(data_folder + \"-model\", save_format='tf')"
   ]
  },
  {
   "cell_type": "markdown",
   "id": "3752da47",
   "metadata": {
    "collapsed": false
   },
   "source": [
    "# Model predictions:"
   ]
  },
  {
   "cell_type": "code",
   "execution_count": null,
   "id": "ae77d313",
   "metadata": {
    "collapsed": false
   },
   "outputs": [],
   "source": [
    "def predict_categories(examples):\n",
    "    for example in examples:\n",
    "        prediction = export_model.predict([example])[0][0] * 100\n",
    "        category = first_category if prediction < 50 else second_category\n",
    "        print(category, \"(\" + \"%.2f\" % prediction + \"%):\", example)"
   ]
  },
  {
   "cell_type": "markdown",
   "id": "fcccb052",
   "metadata": {
    "collapsed": false
   },
   "source": [
    "### Inorganic formulas:"
   ]
  },
  {
   "cell_type": "code",
   "execution_count": null,
   "id": "1bfb3576",
   "metadata": {
    "collapsed": false
   },
   "outputs": [
    {
     "name": "stdout",
     "output_type": "stream",
     "text": [
      "1/1 [==============================] - 0s 127ms/step\n",
      "formula (0.00%): mn2(Hpo3)3\n",
      "1/1 [==============================] - 0s 36ms/step\n",
      "name (51.81%): NaCl\n",
      "1/1 [==============================] - 0s 38ms/step\n",
      "formula (0.00%): H2SO4\n",
      "1/1 [==============================] - 0s 35ms/step\n",
      "formula (0.01%): CL203\n",
      "1/1 [==============================] - 0s 31ms/step\n",
      "name (51.81%): znCO2\n",
      "1/1 [==============================] - 0s 30ms/step\n",
      "formula (0.00%): H2O\n",
      "1/1 [==============================] - 0s 33ms/step\n",
      "name (51.81%): FeNA2\n",
      "1/1 [==============================] - 0s 31ms/step\n",
      "formula (3.06%): G2S2O5\n",
      "1/1 [==============================] - 0s 31ms/step\n",
      "formula (0.00%): Cl2O⁺H2O\n"
     ]
    }
   ],
   "source": [
    "inorganic_formulas = [\n",
    "    \"mn2(Hpo3)3\",\n",
    "    \"NaCl\",\n",
    "    \"H2SO4\",\n",
    "    \"CL203\",\n",
    "    \"znCO2\",\n",
    "    \"H2O\",\n",
    "    \"FeNA2\",\n",
    "    \"G2S2O5\",\n",
    "    \"Cl2O⁺H2O\",\n",
    "]\n",
    "\n",
    "predict_categories(inorganic_formulas)"
   ]
  },
  {
   "cell_type": "markdown",
   "id": "6df4f90a",
   "metadata": {
    "collapsed": false
   },
   "source": [
    "### Inorganic names:"
   ]
  },
  {
   "cell_type": "code",
   "execution_count": null,
   "id": "241d0320",
   "metadata": {
    "collapsed": false
   },
   "outputs": [
    {
     "name": "stdout",
     "output_type": "stream",
     "text": [
      "1/1 [==============================] - 0s 44ms/step\n",
      "name (100.00%): arsenito diacido de sodio\n",
      "1/1 [==============================] - 0s 30ms/step\n",
      "name (100.00%): hipoclorito de sodio\n",
      "1/1 [==============================] - 0s 33ms/step\n",
      "name (100.00%): potasiuro de boro\n",
      "1/1 [==============================] - 0s 32ms/step\n",
      "name (100.00%): cloruro de sodio\n",
      "1/1 [==============================] - 0s 31ms/step\n",
      "name (55.97%): acido disulfuroso\n",
      "1/1 [==============================] - 0s 31ms/step\n",
      "name (51.81%): sulfurico\n"
     ]
    }
   ],
   "source": [
    "inorganic_names = [\n",
    "    \"arsenito diacido de sodio\",\n",
    "    \"hipoclorito de sodio\",\n",
    "    \"potasiuro de boro\",\n",
    "    \"cloruro de sodio\",\n",
    "    \"acido disulfuroso\",\n",
    "    \"sulfurico\"\n",
    "]\n",
    "\n",
    "predict_categories(inorganic_names) # 98.21%"
   ]
  },
  {
   "cell_type": "markdown",
   "id": "d785a7a0",
   "metadata": {
    "collapsed": false
   },
   "source": [
    "### Organic formulas:"
   ]
  },
  {
   "cell_type": "code",
   "execution_count": null,
   "id": "9012cf99",
   "metadata": {
    "collapsed": false
   },
   "outputs": [
    {
     "name": "stdout",
     "output_type": "stream",
     "text": [
      "1/1 [==============================] - 0s 31ms/step\n",
      "formula (0.00%): Ch3ChCh(Ch3ChCh3)ChCh\n",
      "1/1 [==============================] - 0s 31ms/step\n",
      "formula (0.00%): H3C-CH2\n",
      "1/1 [==============================] - 0s 31ms/step\n",
      "formula (0.00%): H3C-CH2-CH2\n",
      "1/1 [==============================] - 0s 30ms/step\n",
      "formula (0.00%): h c c h\n",
      "1/1 [==============================] - 0s 33ms/step\n",
      "formula (0.00%): h c c h h c c h\n",
      "1/1 [==============================] - 0s 32ms/step\n",
      "formula (0.00%): CH3-CO-O-CH2-CH3\n",
      "1/1 [==============================] - 0s 31ms/step\n",
      "formula (0.00%): CH3-CH2-O-CH2-CH3\n",
      "1/1 [==============================] - 0s 31ms/step\n",
      "formula (0.00%): CH3-CH2-CH=CH-COOH\n",
      "1/1 [==============================] - 0s 31ms/step\n",
      "formula (0.00%): ch3chch2ch(ch2ch2ch3)cooh\n",
      "1/1 [==============================] - 0s 30ms/step\n",
      "formula (0.00%): ch3(Ch3)Chch2Ch(Ch3)Ch2Ch(Ch2Ch2Ch3)Ch3\n"
     ]
    }
   ],
   "source": [
    "organic_formulas = [\n",
    "    \"Ch3ChCh(Ch3ChCh3)ChCh\",\n",
    "    \"H3C-CH2\",\n",
    "    \"H3C-CH2-CH2\",\n",
    "    \"h c c h\",\n",
    "    \"h c c h h c c h\",\n",
    "    \"CH3-CO-O-CH2-CH3\",\n",
    "    \"CH3-CH2-O-CH2-CH3\",\n",
    "    \"CH3-CH2-CH=CH-COOH\",\n",
    "    \"ch3chch2ch(ch2ch2ch3)cooh\",\n",
    "    \"ch3(Ch3)Chch2Ch(Ch3)Ch2Ch(Ch2Ch2Ch3)Ch3\",\n",
    "]\n",
    "\n",
    "predict_categories(organic_formulas)"
   ]
  },
  {
   "cell_type": "markdown",
   "id": "c289c79f",
   "metadata": {
    "collapsed": false
   },
   "source": [
    "### Organic names:"
   ]
  },
  {
   "cell_type": "code",
   "execution_count": null,
   "id": "d264159c",
   "metadata": {
    "collapsed": false
   },
   "outputs": [
    {
     "name": "stdout",
     "output_type": "stream",
     "text": [
      "1/1 [==============================] - 0s 32ms/step\n",
      "name (51.81%): arsano\n",
      "1/1 [==============================] - 0s 32ms/step\n",
      "name (99.96%): benceno\n",
      "1/1 [==============================] - 0s 31ms/step\n",
      "name (51.81%): naftaleno\n",
      "1/1 [==============================] - 0s 32ms/step\n",
      "name (51.81%): 2-cloropentanato\n",
      "1/1 [==============================] - 0s 31ms/step\n",
      "name (100.00%): cloruro de propilo\n",
      "1/1 [==============================] - 0s 31ms/step\n",
      "name (100.00%): di 2-cloropentanil éter\n",
      "1/1 [==============================] - 0s 32ms/step\n",
      "name (100.00%): 2-bromo-2-cloropropano\n",
      "1/1 [==============================] - 0s 32ms/step\n",
      "name (100.00%): metanoato de isopropilo\n",
      "1/1 [==============================] - 0s 31ms/step\n",
      "name (55.97%): orto-difenilciclohexano\n",
      "1/1 [==============================] - 0s 34ms/step\n",
      "name (100.00%): 2-bromo-2-cloropropil yododecil éter\n",
      "1/1 [==============================] - 0s 35ms/step\n",
      "name (100.00%): 3-cloro-2-fluoro-hexa-1,3-dien-5-in-1-ona\n",
      "1/1 [==============================] - 0s 32ms/step\n",
      "name (100.00%): 4-amino-2,6,6-tricloro-7,7-difluoro-89-metil-3-nitro-1,1-diyodononaconta-1,3-dien-5-ona\n"
     ]
    }
   ],
   "source": [
    "organic_names = [\n",
    "    \"arsano\",\n",
    "    \"benceno\",\n",
    "    \"naftaleno\",\n",
    "    \"2-cloropentanato\",\n",
    "    \"cloruro de propilo\",\n",
    "    \"di 2-cloropentanil éter\",\n",
    "    \"2-bromo-2-cloropropano\",\n",
    "    \"metanoato de isopropilo\",\n",
    "    \"orto-difenilciclohexano\",\n",
    "    \"2-bromo-2-cloropropil yododecil éter\",\n",
    "    \"3-cloro-2-fluoro-hexa-1,3-dien-5-in-1-ona\",\n",
    "    \"4-amino-2,6,6-tricloro-7,7-difluoro-89-metil-3-nitro-1,1-diyodononaconta-1,3-dien-5-ona\",\n",
    "]\n",
    "\n",
    "predict_categories(organic_names)"
   ]
  },
  {
   "cell_type": "code",
   "execution_count": null,
   "id": "f514a6d5",
   "metadata": {},
   "outputs": [
    {
     "name": "stdout",
     "output_type": "stream",
     "text": [
      "1/1 [==============================] - 0s 105ms/step\n",
      "name (51.81%): arsano\n",
      "1/1 [==============================] - 0s 31ms/step\n",
      "name (99.96%): benceno\n",
      "1/1 [==============================] - 0s 32ms/step\n",
      "name (51.81%): naftaleno\n",
      "1/1 [==============================] - 0s 31ms/step\n",
      "name (51.81%): 2-cloropentanato\n",
      "1/1 [==============================] - 0s 31ms/step\n",
      "name (100.00%): cloruro de propilo\n",
      "1/1 [==============================] - 0s 31ms/step\n",
      "name (100.00%): di 2-cloropentanil éter\n",
      "1/1 [==============================] - 0s 32ms/step\n",
      "name (100.00%): 2-bromo-2-cloropropano\n",
      "1/1 [==============================] - 0s 31ms/step\n",
      "name (100.00%): metanoato de isopropilo\n",
      "1/1 [==============================] - 0s 31ms/step\n",
      "name (55.97%): orto-difenilciclohexano\n",
      "1/1 [==============================] - 0s 31ms/step\n",
      "name (100.00%): 2-bromo-2-cloropropil yododecil éter\n",
      "1/1 [==============================] - 0s 32ms/step\n",
      "name (100.00%): 3-cloro-2-fluoro-hexa-1,3-dien-5-in-1-ona\n",
      "1/1 [==============================] - 0s 32ms/step\n",
      "name (100.00%): 4-amino-2,6,6-tricloro-7,7-difluoro-89-metil-3-nitro-1,1-diyodononaconta-1,3-dien-5-ona\n"
     ]
    }
   ],
   "source": [
    "organic_names = [\n",
    "    \"arsano\",\n",
    "    \"benceno\",\n",
    "    \"naftaleno\",\n",
    "    \"2-cloropentanato\",\n",
    "    \"cloruro de propilo\",\n",
    "    \"di 2-cloropentanil éter\",\n",
    "    \"2-bromo-2-cloropropano\",\n",
    "    \"metanoato de isopropilo\",\n",
    "    \"orto-difenilciclohexano\",\n",
    "    \"2-bromo-2-cloropropil yododecil éter\",\n",
    "    \"3-cloro-2-fluoro-hexa-1,3-dien-5-in-1-ona\",\n",
    "    \"4-amino-2,6,6-tricloro-7,7-difluoro-89-metil-3-nitro-1,1-diyodononaconta-1,3-dien-5-ona\",\n",
    "]\n",
    "\n",
    "new_predict_categories(organic_names)"
   ]
  },
  {
   "cell_type": "code",
   "execution_count": null,
   "id": "def4ee84",
   "metadata": {},
   "outputs": [
    {
     "name": "stdout",
     "output_type": "stream",
     "text": [
      "1/1 [==============================] - 0s 38ms/step\n",
      "formula (0.00%): Ch3ChCh(Ch3ChCh3)ChCh\n",
      "1/1 [==============================] - 0s 29ms/step\n",
      "formula (0.00%): H3C-CH2\n",
      "1/1 [==============================] - 0s 36ms/step\n",
      "formula (0.00%): H3C-CH2-CH2\n",
      "1/1 [==============================] - 0s 32ms/step\n",
      "formula (0.00%): h c c h\n",
      "1/1 [==============================] - 0s 33ms/step\n",
      "formula (0.00%): h c c h h c c h\n",
      "1/1 [==============================] - 0s 33ms/step\n",
      "formula (0.00%): CH3-CO-O-CH2-CH3\n",
      "1/1 [==============================] - 0s 32ms/step\n",
      "formula (0.00%): CH3-CH2-O-CH2-CH3\n",
      "1/1 [==============================] - 0s 32ms/step\n",
      "formula (0.00%): CH3-CH2-CH=CH-COOH\n",
      "1/1 [==============================] - 0s 31ms/step\n",
      "formula (0.00%): ch3chch2ch(ch2ch2ch3)cooh\n",
      "1/1 [==============================] - 0s 32ms/step\n",
      "formula (0.00%): ch3(Ch3)Chch2Ch(Ch3)Ch2Ch(Ch2Ch2Ch3)Ch3\n"
     ]
    }
   ],
   "source": [
    "organic_formulas = [\n",
    "    \"Ch3ChCh(Ch3ChCh3)ChCh\",\n",
    "    \"H3C-CH2\",\n",
    "    \"H3C-CH2-CH2\",\n",
    "    \"h c c h\",\n",
    "    \"h c c h h c c h\",\n",
    "    \"CH3-CO-O-CH2-CH3\",\n",
    "    \"CH3-CH2-O-CH2-CH3\",\n",
    "    \"CH3-CH2-CH=CH-COOH\",\n",
    "    \"ch3chch2ch(ch2ch2ch3)cooh\",\n",
    "    \"ch3(Ch3)Chch2Ch(Ch3)Ch2Ch(Ch2Ch2Ch3)Ch3\",\n",
    "]\n",
    "\n",
    "new_predict_categories(organic_formulas)"
   ]
  }
 ],
 "metadata": {
  "kernelspec": {
   "display_name": "Python 3 (ipykernel)",
   "language": "python",
   "name": "python3"
  },
  "language_info": {
   "codemirror_mode": {
    "name": "ipython",
    "version": 3
   },
   "file_extension": ".py",
   "mimetype": "text/x-python",
   "name": "python",
   "nbconvert_exporter": "python",
   "pygments_lexer": "ipython3",
   "version": "3.11.0"
  }
 },
 "nbformat": 4,
 "nbformat_minor": 5
}
