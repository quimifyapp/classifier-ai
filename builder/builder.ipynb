{
 "cells": [
  {
   "cell_type": "code",
   "execution_count": 1,
   "id": "b30b0d6b",
   "metadata": {},
   "outputs": [],
   "source": [
    "import tensorflow as tf\n",
    "from tensorflow.python.keras import layers, losses\n",
    "import matplotlib.pyplot as plt\n",
    "import os"
   ]
  },
  {
   "cell_type": "markdown",
   "id": "17a880e3",
   "metadata": {},
   "source": [
    "# Data location:"
   ]
  },
  {
   "cell_type": "code",
   "execution_count": 2,
   "outputs": [],
   "source": [
    "first_category = \"inorganic\"\n",
    "second_category = \"organic\"\n",
    "data_folder = \"formula-inorganic-organic\""
   ],
   "metadata": {
    "collapsed": false
   }
  },
  {
   "cell_type": "code",
   "execution_count": 3,
   "outputs": [
    {
     "name": "stdout",
     "output_type": "stream",
     "text": [
      "In data: ['inorganics.txt', 'organics.txt', 'test', 'train']\n",
      "In train: ['inorganic', 'inorganics-90%.txt', 'organic', 'organics-90%.txt']\n",
      "In test: ['inorganic', 'inorganics-10%.txt', 'organic', 'organics-10%.txt']\n"
     ]
    }
   ],
   "source": [
    "dataset_directory = os.path.join(os.path.dirname(\"data\"), \"data\", data_folder)\n",
    "train_directory = os.path.join(dataset_directory, \"train\")\n",
    "test_directory = os.path.join(dataset_directory, \"test\")\n",
    "\n",
    "print(\"In data:\", os.listdir(dataset_directory))\n",
    "print(\"In train:\", os.listdir(train_directory))\n",
    "print(\"In test:\", os.listdir(test_directory))"
   ],
   "metadata": {
    "collapsed": false
   }
  },
  {
   "cell_type": "markdown",
   "id": "12ee3cb6",
   "metadata": {},
   "source": [
    "### Sample file:"
   ]
  },
  {
   "cell_type": "code",
   "execution_count": 4,
   "id": "c7a82a9b",
   "metadata": {},
   "outputs": [
    {
     "name": "stdout",
     "output_type": "stream",
     "text": [
      "Sample file: Th4C3\n",
      "\n"
     ]
    }
   ],
   "source": [
    "sample_file = os.path.join(train_directory, first_category, \"ab.txt\")\n",
    "\n",
    "print(\"Sample file:\", open(sample_file).read())"
   ]
  },
  {
   "cell_type": "markdown",
   "id": "f756c0db",
   "metadata": {},
   "source": [
    "# Data collection:"
   ]
  },
  {
   "cell_type": "code",
   "execution_count": 5,
   "id": "4386e04c",
   "metadata": {},
   "outputs": [],
   "source": [
    "seed = 32 # Random seed for data shuffling and transformations\n",
    "validation_split = 0.2 # Proportion of train data used to validate the model"
   ]
  },
  {
   "cell_type": "code",
   "execution_count": 6,
   "id": "ecc4ea5f",
   "metadata": {},
   "outputs": [
    {
     "name": "stdout",
     "output_type": "stream",
     "text": [
      "Found 7505 files belonging to 2 classes.\n",
      "Using 6004 files for training.\n"
     ]
    }
   ],
   "source": [
    "raw_train_data_source = tf.keras.utils.text_dataset_from_directory(\n",
    "    train_directory,\n",
    "    subset = \"training\",\n",
    "    seed = seed,\n",
    "    validation_split = validation_split,\n",
    ")"
   ]
  },
  {
   "cell_type": "code",
   "execution_count": 7,
   "id": "4f060c1a",
   "metadata": {
    "scrolled": true
   },
   "outputs": [
    {
     "name": "stdout",
     "output_type": "stream",
     "text": [
      "Found 7505 files belonging to 2 classes.\n",
      "Using 1501 files for validation.\n"
     ]
    }
   ],
   "source": [
    "raw_validation_data_source = tf.keras.utils.text_dataset_from_directory(\n",
    "    train_directory,\n",
    "    subset = \"validation\",\n",
    "    seed = seed,\n",
    "    validation_split = validation_split,\n",
    ")"
   ]
  },
  {
   "cell_type": "code",
   "execution_count": 8,
   "outputs": [
    {
     "name": "stdout",
     "output_type": "stream",
     "text": [
      "Found 834 files belonging to 2 classes.\n"
     ]
    }
   ],
   "source": [
    "raw_test_data_source = tf.keras.utils.text_dataset_from_directory(\n",
    "    test_directory,\n",
    ")"
   ],
   "metadata": {
    "collapsed": false
   }
  },
  {
   "cell_type": "markdown",
   "source": [
    "# Data pre-processing:"
   ],
   "metadata": {
    "collapsed": false
   }
  },
  {
   "cell_type": "code",
   "execution_count": 9,
   "id": "de24885e",
   "metadata": {},
   "outputs": [],
   "source": [
    "def data_standardization(input_data): # CH3-CH=CH-CH(NO2)Br\n",
    "    input_data = tf.strings.lower(input_data) # ch3-ch=ch-ch(no2)br\n",
    "    input_data = tf.strings.regex_replace(input_data, \"[^a-zà-ú]\", ' ') # ch  ch ch ch no  br\n",
    "    return tf.strings.regex_replace(input_data, \"\\s+\", ' ') # ch ch ch ch no br"
   ]
  },
  {
   "cell_type": "code",
   "execution_count": 10,
   "id": "c743ab07",
   "metadata": {},
   "outputs": [],
   "source": [
    "max_features = 2048 # Sets a boundary for len(vectorize_layer.get_vocabulary())"
   ]
  },
  {
   "cell_type": "code",
   "execution_count": 11,
   "id": "a5ad8c12",
   "metadata": {},
   "outputs": [],
   "source": [
    "sequence_length = 16 # Vectorized string's dimension\n",
    "\n",
    "vectorize_layer = tf.keras.layers.TextVectorization(\n",
    "    output_mode = \"int\",\n",
    "    max_tokens = max_features,\n",
    "    standardize = data_standardization,\n",
    "    output_sequence_length = sequence_length\n",
    ")"
   ]
  },
  {
   "cell_type": "code",
   "execution_count": 12,
   "id": "960154cf",
   "metadata": {},
   "outputs": [
    {
     "name": "stdout",
     "output_type": "stream",
     "text": [
      "WARNING:tensorflow:From C:\\Users\\pablo\\PycharmProjects\\quimify-classifier\\venv\\lib\\site-packages\\tensorflow\\python\\autograph\\pyct\\static_analysis\\liveness.py:83: Analyzer.lamba_check (from tensorflow.python.autograph.pyct.static_analysis.liveness) is deprecated and will be removed after 2023-09-23.\n",
      "Instructions for updating:\n",
      "Lambda fuctions will be no more assumed to be used in the statement where they are used, or at least in the same block. https://github.com/tensorflow/tensorflow/issues/56089\n"
     ]
    }
   ],
   "source": [
    "# Makes a text-only dataset (without labels), then calls adapt\n",
    "train_text = raw_train_data_source.map(lambda x, y: x)\n",
    "vectorize_layer.adapt(train_text)"
   ]
  },
  {
   "cell_type": "code",
   "execution_count": 13,
   "id": "09a9aed6",
   "metadata": {},
   "outputs": [],
   "source": [
    "def vectorize_text(text, label):\n",
    "  text = tf.expand_dims(text, -1)\n",
    "  return vectorize_layer(text), label"
   ]
  },
  {
   "cell_type": "code",
   "execution_count": 14,
   "id": "6073a5e2",
   "metadata": {
    "scrolled": true
   },
   "outputs": [
    {
     "name": "stdout",
     "output_type": "stream",
     "text": [
      "Review: tf.Tensor(b'CHBr=C=CH-O-C(NO2)(F)-C\\xe2\\x89\\xa1CH\\r\\n', shape=(), dtype=string)\n",
      "Label: organic\n",
      "Vectorized review: (<tf.Tensor: shape=(1, 16), dtype=int64, numpy=\n",
      "array([[17,  3,  2,  4,  3,  5, 10,  3,  2,  0,  0,  0,  0,  0,  0,  0]],\n",
      "      dtype=int64)>, <tf.Tensor: shape=(), dtype=int32, numpy=1>)\n"
     ]
    }
   ],
   "source": [
    "# Retrieves a batch of 32 reviews and labels from the dataset\n",
    "text_batch, label_batch = next(iter(raw_train_data_source))\n",
    "first_review, first_label = text_batch[0], label_batch[0]\n",
    "\n",
    "print(\"Review:\", first_review)\n",
    "print(\"Label:\", raw_train_data_source.class_names[first_label])\n",
    "print(\"Vectorized review:\", vectorize_text(first_review, first_label))"
   ]
  },
  {
   "cell_type": "code",
   "execution_count": 15,
   "id": "253bb49b",
   "metadata": {},
   "outputs": [
    {
     "name": "stdout",
     "output_type": "stream",
     "text": [
      "Vocabulary size: 914\n"
     ]
    }
   ],
   "source": [
    "print(\"Vocabulary size:\", len(vectorize_layer.get_vocabulary()))"
   ]
  },
  {
   "cell_type": "code",
   "execution_count": 16,
   "id": "0e400c8e",
   "metadata": {},
   "outputs": [
    {
     "name": "stdout",
     "output_type": "stream",
     "text": [
      "Vocabulary: ['', 'c', 'o', 'f', 'i', 'v', 'n', 's', 'p', 'h', 'u', 'k', 'b', 'w', 'y', 'ch', 'no', 'oh', 'cl', 'nh', 'br', 'cf', 'ci', 'co', 'so', 'io', 'po', 'cn', 'pb', 'cr', 'au', 'ni', 'bi', 'pt', 'ti', 'sn', 'mn', 'cu', 'hg', 'fe', 'te', 'si', 'mo', 'as', 'se', 'pd', 'sb', 'nb', 'ta', 'os', 'bo', 'ag', 'tl', 'al', 'na', 'rb', 'ca', 'sc', 'li', 'ba', 'zr', 'ir', 'ga', 'cd', 'zn', 'sr', 're', 'be', 'ru', 'mg', 'fr', 'ra', 'in', 'cs', 'sm', 'ho', 'la', 'ce', 'rh', 'eu', 'am', 'tc', 'wo', 'pr', 'yb', 'th', 'pu', 'np', 'lu', 'hf', 'dy', 'cm', 'vo', 'tm', 'pa', 'bk', 'ac', 'tb', 'gd', 'uf', 'ph', 'wh', 'vh', 'nf', 'nd', 'if', 'er', 'wf', 'vs', 'vi', 'vf', 'us', 'uo', 'ui', 'uh', 'sf', 'kh', 'es', 'yn', 'yi', 'yh', 'yf', 'wp', 'vp', 'vn', 'vc', 'ts', 'rg', 'rf', 'pn', 'pm', 'pi', 'pf', 'og', 'ne', 'md', 'mc', 'lv', 'lr', 'kr', 'ki', 'kf', 'hs', 'hi', 'he', 'ge', 'db', 'bp', 'bn', 'bh', 'bf', 'at', 'ccl', 'cbr', 'chi', 'chf', 'clo', 'bro', 'cho', 'teo', 'seo', 'mno', 'cro', 'aso', 'sbo', 'sio', 'reo', 'tco', 'mnf', 'hso', 'ruo', 'oso', 'osf', 'mni', 'icl', 'ibr', 'hpo', 'hco', 'tio', 'sei', 'ruh', 'ruf', 'rho', 'rhh', 'reh', 'osh', 'nbr', 'nbh', 'moo', 'mns', 'mnh', 'kio', 'iro', 'hno', 'cri', 'amh', 'wbr', 'vso', 'vse', 'vcl', 'vbr', 'ubr', 'uat', 'tli', 'tlh', 'tlf', 'tis', 'tii', 'tih', 'tes', 'tei', 'tah', 'sns', 'snh', 'ses', 'scl', 'sbr', 'sbi', 'sbf', 'rhs', 'res', 'pus', 'pts', 'pto', 'pri', 'pds', 'pdi', 'pdh', 'pdf', 'pbr', 'pbo', 'pbi', 'pbh', 'oss', 'osi', 'npo', 'nii', 'nif', 'ncl', 'nbs', 'nbf', 'mos', 'mnp', 'lih', 'kno', 'irs', 'irh', 'hio', 'hfo', 'hfh', 'feh', 'cuf', 'cte', 'crs', 'crn', 'crh', 'crf', 'crb', 'coh', 'cof', 'clf', 'brf', 'aui', 'auh', 'asi', 'asf', 'amo', 'zrs', 'zro', 'zri', 'zrh', 'zrf', 'zns', 'zno', 'zni', 'ybo', 'ybh', 'yas', 'wso', 'wsb', 'wcl', 'vte', 'vpo', 'vat', 'vas', 'ute', 'usb', 'ucl', 'tmp', 'tmi', 'tmh', 'tmf', 'tlp', 'tln', 'tip', 'tin', 'tif', 'thh', 'tef', 'tbo', 'tbh', 'tap', 'tao', 'taf', 'tab', 'srs', 'sro', 'sri', 'srh', 'sni', 'snf', 'snc', 'smo', 'smn', 'smh', 'sis', 'sii', 'sih', 'sif', 'sic', 'sef', 'sch', 'scf', 'sbn', 'sbh', 'rui', 'ren', 'rei', 'rbi', 'rbh', 'ras', 'rao', 'rah', 'raf', 'puo', 'pun', 'puh', 'pti', 'pth', 'ptf', 'prh', 'prf', 'pmh', 'pdo', 'pdc', 'pcl', 'pbf', 'pbc', 'pao', 'pah', 'pac', 'osn', 'osc', 'osb', 'npi', 'nph', 'npb', 'nis', 'nip', 'nio', 'nin', 'nih', 'nbo', 'nbi', 'nao', 'nai', 'nah', 'moi', 'moh', 'mof', 'moc', 'mnn', 'mnc', 'mnb', 'mgi', 'mgh', 'mgf', 'lun', 'lui', 'luh', 'lii', 'lif', 'lai', 'lah', 'laf', 'koh', 'khs', 'kbr', 'kat', 'iri', 'inp', 'inn', 'ini', 'inh', 'inf', 'inb', 'hvo', 'hon', 'hoi', 'hoh', 'hgs', 'hgo', 'hgi', 'hgh', 'hgf', 'hfs', 'hff', 'hfc', 'hcl', 'hbo', 'ges', 'gap', 'gan', 'gah', 'gab', 'fri', 'frh', 'frf', 'fes', 'fep', 'fei', 'fef', 'feb', 'eus', 'euo', 'erp', 'dyh', 'cus', 'cuo', 'cui', 'cuh', 'csi', 'cse', 'crp', 'cos', 'cop', 'coo', 'con', 'coi', 'cob', 'cmp', 'cmh', 'cmb', 'cfh', 'ces', 'ceo', 'cen', 'cei', 'ceh', 'cds', 'cdi', 'cdh', 'cao', 'cah', 'bsb', 'bko', 'bkh', 'bin', 'bii', 'bih', 'bif', 'bes', 'beo', 'bei', 'bbr', 'bas', 'bao', 'bah', 'aup', 'auf', 'aub', 'asp', 'asn', 'ash', 'ams', 'alp', 'aln', 'ali', 'alh', 'alf', 'alb', 'agi', 'agh', 'agf', 'aci', 'ach', 'chbr', 'chcl', 'cooh', 'conh', 'mnbr', 'naio', 'liio', 'tecl', 'srso', 'snso', 'secl', 'rbio', 'pdso', 'pbso', 'oscl', 'niso', 'nano', 'mocl', 'mnte', 'mnso', 'mnse', 'mncl', 'kclo', 'hgso', 'hclo', 'feso', 'csno', 'crcl', 'crbr', 'beso', 'auno', 'agio', 'tlcl', 'tlbr', 'ticl', 'tibr', 'tese', 'tebr', 'sncl', 'sebr', 'rhcl', 'raso', 'ptse', 'ptbr', 'pdte', 'pbse', 'osbr', 'nipo', 'nbcl', 'nbbr', 'mobr', 'mnpo', 'lino', 'kbro', 'irte', 'irpo', 'ircl', 'inpo', 'hseo', 'hgno', 'hbro', 'gapo', 'frno', 'fepo', 'cuso', 'cuio', 'cucl', 'cubr', 'csio', 'crse', 'crpo', 'cocl', 'cepo', 'cecl', 'cdso', 'caso', 'bibr', 'baso', 'auio', 'ascl', 'asbr', 'agno', 'zrte', 'zrso', 'zrsi', 'zrse', 'zrcl', 'zrbo', 'znte', 'znso', 'znco', 'zncl', 'ybco', 'ybcl', 'xecl', 'vaso', 'tlsb', 'tlpo', 'tloh', 'tlno', 'tiso', 'tisi', 'tipo', 'tcbr', 'tbcl', 'tavo', 'tapo', 'tacl', 'tabr', 'srte', 'srse', 'srcl', 'snte', 'snse', 'snbr', 'smso', 'smcl', 'site', 'sise', 'sicl', 'sibr', 'scpo', 'scbr', 'scat', 'scas', 'sbcl', 'sbbr', 'sbas', 'ruco', 'rucl', 'rubr', 'rhso', 'rhpo', 'resb', 'rboh', 'rbno', 'rbcl', 'rbbr', 'rbat', 'rase', 'raco', 'racl', 'rabr', 'pubr', 'ptte', 'ptso', 'ptsi', 'ptco', 'ptcl', 'prte', 'prse', 'pdse', 'pdco', 'pdbr', 'pbwo', 'pbte', 'pbco', 'pbcl', 'osso', 'osse', 'ospo', 'npcl', 'niwo', 'nite', 'nise', 'nico', 'nicl', 'nibr', 'niat', 'nbsi', 'nbse', 'nbat', 'naoh', 'nabr', 'mote', 'moso', 'mopo', 'mnco', 'mnat', 'mnas', 'mgso', 'mgse', 'mgco', 'mgcl', 'mgbr', 'lioh', 'licl', 'liat', 'lacl', 'labo', 'kmno', 'khco', 'kcno', 'kalo', 'irsi', 'irsb', 'irco', 'insb', 'incl', 'inbr', 'htco', 'hsbo', 'hreo', 'hopo', 'hocl', 'hmno', 'hgte', 'hgse', 'hgoh', 'hgio', 'hgco', 'hgcl', 'hgbr', 'hgat', 'hfte', 'hfso', 'hfsb', 'hcro', 'haso', 'gdsb', 'gabr', 'gabo', 'gaat', 'gaas', 'frio', 'fewo', 'fevo', 'fete', 'fese', 'feco', 'fecl', 'febo', 'feas', 'euso', 'eucl', 'eubr', 'dycl', 'cute', 'cuoh', 'cuno', 'cuhs', 'cuco', 'cuat', 'cscl', 'csat', 'crwo', 'crvo', 'crso', 'crsb', 'cras', 'cote', 'coso', 'cose', 'cosb', 'copo', 'cohn', 'coco', 'cobr', 'cobo', 'coat', 'cmpo', 'cesi', 'cese', 'cebr', 'cdse', 'cdco', 'cdcl', 'cdbr', 'cawo', 'cate', 'cacl', 'brcl', 'bisb', 'bipo', 'bicl', 'bete', 'bese', 'beco', 'becl', 'bacr', 'baco', 'bacl', 'ausb', 'aupo', 'auoh', 'aucl', 'aubr', 'auat', 'auas', 'amse', 'alpo', 'albr', 'albo', 'alas', 'agbr', 'accl', '[UNK]', 'rbclo', 'hgclo', 'agclo', 'agbro', 'znteo', 'znseo', 'niteo', 'naclo', 'nabro', 'mgseo', 'libro', 'hgseo', 'frclo', 'feteo', 'feseo', 'cuteo', 'cuseo', 'cuclo', 'csbro', 'cateo', 'caseo', 'aubro', 'znmno', 'snteo', 'rbbro', 'rateo', 'pdseo', 'niseo', 'mnseo', 'mncro', 'mgteo', 'hgteo', 'hgbro', 'frbro', 'fesbo', 'cucro', 'cubro', 'csclo', 'crseo', 'coteo', 'coaso', 'cdteo', 'cdseo', 'cdmno', 'camno', 'beteo', 'bateo', 'baseo', 'bamno', 'ausbo', 'auaso', 'alaso', 'zrsio', 'zrseo', 'tlclo', 'tlbro', 'timno', 'srteo', 'srseo', 'srmno', 'srcro', 'snsio', 'snmno', 'sncro', 'rbhso', 'ramno', 'ptteo', 'ptseo', 'ptmno', 'ptcro', 'pdsio', 'pdmno', 'pdcro', 'pbsio', 'pbreo', 'pbmno', 'pbcro', 'osteo', 'ossio', 'osseo', 'ossbo', 'nisbo', 'nireo', 'nimno', 'niaso', 'nbsio', 'namno', 'nahso', 'mnteo', 'mnsbo', 'mnmno', 'mnaso', 'mgmno', 'mghpo', 'mgcro', 'lihco', 'licoo', 'liclo', 'hgmno', 'hghso', 'hgcro', 'gasbo', 'gaaso', 'fereo', 'fecro', 'euteo', 'dyaso', 'cutco', 'cumno', 'crteo', 'crcro', 'craso', 'coseo', 'cosbo', 'coreo', 'comno', 'cocro', 'cdcro', 'careo', 'bisbo', 'biaso', 'beseo', 'bemno', 'becro', 'bahpo', 'auclo', 'alsbo', 'lifepo', 'cuhcro', 'cshseo', 'auhseo']\n"
     ]
    }
   ],
   "source": [
    "print(\"Vocabulary:\", sorted(vectorize_layer.get_vocabulary(), key = len))"
   ]
  },
  {
   "cell_type": "code",
   "execution_count": 17,
   "id": "d020092d",
   "metadata": {},
   "outputs": [],
   "source": [
    "train_data_source = raw_train_data_source.map(vectorize_text)\n",
    "validation_data_source = raw_validation_data_source.map(vectorize_text)\n",
    "test_data_source = raw_test_data_source.map(vectorize_text)"
   ]
  },
  {
   "cell_type": "code",
   "execution_count": 18,
   "id": "1d5efbc3",
   "metadata": {},
   "outputs": [],
   "source": [
    "AUTOTUNE = tf.data.AUTOTUNE # ??\n",
    "\n",
    "train_data_source = train_data_source.cache().prefetch(buffer_size = AUTOTUNE)\n",
    "validation_data_source = validation_data_source.cache().prefetch(buffer_size = AUTOTUNE)\n",
    "test_data_source = test_data_source.cache().prefetch(buffer_size = AUTOTUNE)"
   ]
  },
  {
   "cell_type": "markdown",
   "id": "87ef8355",
   "metadata": {},
   "source": [
    "# Model creation:"
   ]
  },
  {
   "cell_type": "code",
   "execution_count": 19,
   "id": "7d817ed8",
   "metadata": {},
   "outputs": [],
   "source": [
    "embedding_dim = 128 # ?? 16"
   ]
  },
  {
   "cell_type": "code",
   "execution_count": 20,
   "id": "4761ffba",
   "metadata": {},
   "outputs": [],
   "source": [
    "model = tf.keras.Sequential([\n",
    "  layers.Embedding(max_features + 1, embedding_dim),\n",
    "  layers.Dropout(0.2),\n",
    "  layers.Dense(256, activation = \"relu\"),\n",
    "  layers.GlobalAveragePooling1D(),\n",
    "  layers.Dropout(0.2),\n",
    "  layers.Dense(1),\n",
    "])"
   ]
  },
  {
   "cell_type": "markdown",
   "id": "73bf238e",
   "metadata": {},
   "source": [
    "### Loss function and optimizer:"
   ]
  },
  {
   "cell_type": "code",
   "execution_count": 21,
   "id": "54dce3eb",
   "metadata": {},
   "outputs": [],
   "source": [
    "model.compile(\n",
    "    optimizer = \"adam\",\n",
    "    metrics = tf.metrics.BinaryAccuracy(threshold = 0.0),\n",
    "    loss = losses.BinaryCrossentropy(from_logits = True),\n",
    ")"
   ]
  },
  {
   "cell_type": "markdown",
   "id": "1c305297",
   "metadata": {},
   "source": [
    "### Training:"
   ]
  },
  {
   "cell_type": "code",
   "execution_count": 22,
   "id": "29d28708",
   "metadata": {
    "scrolled": false
   },
   "outputs": [
    {
     "name": "stdout",
     "output_type": "stream",
     "text": [
      "188/188 [==============================] - 6s 26ms/step - loss: 0.1411 - binary_accuracy: 0.9609 - val_loss: 0.0087 - val_binary_accuracy: 0.9980\n"
     ]
    }
   ],
   "source": [
    "epochs = 1\n",
    "\n",
    "history = model.fit(\n",
    "    epochs = epochs,\n",
    "    x = train_data_source,\n",
    "    validation_data = validation_data_source,\n",
    ")"
   ]
  },
  {
   "cell_type": "markdown",
   "id": "892bb372",
   "metadata": {},
   "source": [
    "### Compiling:"
   ]
  },
  {
   "cell_type": "code",
   "execution_count": 23,
   "id": "b70a0ca3",
   "metadata": {},
   "outputs": [],
   "source": [
    "export_model = tf.keras.Sequential([\n",
    "  vectorize_layer,\n",
    "  model,\n",
    "  layers.Activation(\"sigmoid\")\n",
    "])\n",
    "\n",
    "export_model.compile(\n",
    "    optimizer = \"adam\", \n",
    "    metrics = [\"accuracy\"],\n",
    "    loss = losses.BinaryCrossentropy(from_logits = False), \n",
    ")"
   ]
  },
  {
   "cell_type": "markdown",
   "id": "9305bb10",
   "metadata": {},
   "source": [
    "# Model evaluation:"
   ]
  },
  {
   "cell_type": "markdown",
   "id": "214e11c5",
   "metadata": {},
   "source": [
    "### Using test data:"
   ]
  },
  {
   "cell_type": "code",
   "execution_count": 24,
   "id": "c9f31b1d",
   "metadata": {},
   "outputs": [
    {
     "name": "stdout",
     "output_type": "stream",
     "text": [
      "27/27 [==============================] - 1s 34ms/step - loss: 0.8404 - binary_accuracy: 0.7182\n",
      "Test loss: 0.8404123187065125\n",
      "Test accuracy: 0.7182254195213318\n"
     ]
    }
   ],
   "source": [
    "loss, accuracy = model.evaluate(test_data_source)\n",
    "\n",
    "print(\"Test loss:\", loss)\n",
    "print(\"Test accuracy:\", accuracy)"
   ]
  },
  {
   "cell_type": "markdown",
   "id": "d7f52fc7",
   "metadata": {},
   "source": [
    "### Using raw test data:"
   ]
  },
  {
   "cell_type": "code",
   "execution_count": 25,
   "id": "415c6dd5",
   "metadata": {},
   "outputs": [
    {
     "name": "stdout",
     "output_type": "stream",
     "text": [
      "27/27 [==============================] - 1s 8ms/step - loss: 0.8404 - accuracy: 0.7182\n",
      "Raw test loss: 0.840412437915802\n",
      "Raw test accuracy: 0.7182254195213318\n"
     ]
    }
   ],
   "source": [
    "loss, accuracy = export_model.evaluate(raw_test_data_source)\n",
    "\n",
    "print(\"Raw test loss:\", loss)\n",
    "print(\"Raw test accuracy:\", accuracy)"
   ]
  },
  {
   "cell_type": "markdown",
   "id": "a6abe3d6",
   "metadata": {},
   "source": [
    "### Accuracy graph:"
   ]
  },
  {
   "cell_type": "code",
   "execution_count": 26,
   "id": "5dae66db",
   "metadata": {},
   "outputs": [
    {
     "data": {
      "text/plain": "<Figure size 640x480 with 1 Axes>",
      "image/png": "[encoded data removed]"
     },
     "metadata": {},
     "output_type": "display_data"
    }
   ],
   "source": [
    "history_dict = history.history\n",
    "history_dict.keys()\n",
    "\n",
    "accuracy = history_dict[\"binary_accuracy\"]\n",
    "validation_accuracy = history_dict[\"val_binary_accuracy\"]\n",
    "loss = history_dict[\"loss\"]\n",
    "validation_loss = history_dict[\"val_loss\"]\n",
    "\n",
    "epochs = range(1, len(accuracy) + 1)\n",
    "\n",
    "plt.plot(epochs, accuracy, \"bo\", label = \"Training accuracy\") # Blue dots\n",
    "plt.plot(epochs, validation_accuracy, \"b\", label = \"Validation accuracy\") # Blue line\n",
    "plt.title(\"Training and validation accuracy\")\n",
    "plt.xlabel(\"Epochs\")\n",
    "plt.ylabel(\"Accuracy\")\n",
    "plt.legend(loc = \"lower right\")\n",
    "\n",
    "plt.show()"
   ]
  },
  {
   "cell_type": "markdown",
   "id": "2bbe64ce",
   "metadata": {},
   "source": [
    "### Loss graph:"
   ]
  },
  {
   "cell_type": "code",
   "execution_count": 27,
   "outputs": [
    {
     "data": {
      "text/plain": "<Figure size 640x480 with 1 Axes>",
      "image/png": "[encoded data removed]"
     },
     "metadata": {},
     "output_type": "display_data"
    }
   ],
   "source": [
    "plt.plot(epochs, loss, \"ro\", label = \"Training loss\") # Red dots\n",
    "plt.plot(epochs, validation_loss, \"r\", label = \"Validation loss\") # Red line\n",
    "plt.title(\"Training and validation loss\")\n",
    "plt.xlabel(\"Epochs\")\n",
    "plt.ylabel(\"Loss\")\n",
    "plt.legend()\n",
    "\n",
    "plt.show()"
   ],
   "metadata": {
    "collapsed": false
   }
  },
  {
   "cell_type": "markdown",
   "source": [
    "# Model saved to a file:"
   ],
   "metadata": {
    "collapsed": false
   }
  },
  {
   "cell_type": "code",
   "execution_count": 28,
   "outputs": [],
   "source": [
    "#export_model.save(\"models/\" + first_category + \"-\" + second_category + \".h5\")"
   ],
   "metadata": {
    "collapsed": false
   }
  },
  {
   "cell_type": "markdown",
   "source": [
    "# Model predictions:"
   ],
   "metadata": {
    "collapsed": false
   }
  },
  {
   "cell_type": "code",
   "execution_count": 68,
   "outputs": [],
   "source": [
    "def predict_categories(examples):\n",
    "    for example in examples:\n",
    "        prediction = export_model.predict([example])[0][0] * 100\n",
    "        category = first_category if prediction < 50 else second_category\n",
    "        print(category, \"%.2f\" % prediction, example)"
   ],
   "metadata": {
    "collapsed": false
   }
  },
  {
   "cell_type": "markdown",
   "source": [
    "### Inorganic formulas:"
   ],
   "metadata": {
    "collapsed": false
   }
  },
  {
   "cell_type": "code",
   "execution_count": 78,
   "outputs": [
    {
     "name": "stdout",
     "output_type": "stream",
     "text": [
      "1/1 [==============================] - 0s 38ms/step\n",
      "inorganic 0.30 mn2(Hpo3)3\n",
      "1/1 [==============================] - 0s 35ms/step\n",
      "inorganic 0.30 NaCl\n",
      "1/1 [==============================] - 0s 35ms/step\n",
      "inorganic 0.26 H2SO4\n",
      "1/1 [==============================] - 0s 43ms/step\n",
      "inorganic 1.13 CL203\n",
      "1/1 [==============================] - 0s 41ms/step\n",
      "inorganic 0.25 znCO2\n",
      "1/1 [==============================] - 0s 31ms/step\n",
      "inorganic 30.00 Cl2O⁺H2O\n"
     ]
    }
   ],
   "source": [
    "predict_categories([\n",
    "    \"mn2(Hpo3)3\",\n",
    "    \"NaCl\",\n",
    "    \"H2SO4\",\n",
    "    \"CL203\",\n",
    "    \"znCO2\",\n",
    "    \"Cl2O⁺H2O\",\n",
    "])"
   ],
   "metadata": {
    "collapsed": false
   }
  },
  {
   "cell_type": "markdown",
   "source": [
    "### Inorganic names:"
   ],
   "metadata": {
    "collapsed": false
   }
  },
  {
   "cell_type": "code",
   "execution_count": 74,
   "outputs": [
    {
     "name": "stdout",
     "output_type": "stream",
     "text": [
      "1/1 [==============================] - 0s 50ms/step\n",
      "inorganic 1.44 arsenito diacido de sodio\n",
      "1/1 [==============================] - 0s 45ms/step\n",
      "inorganic 0.86 hipoclorito de sodio\n",
      "1/1 [==============================] - 0s 38ms/step\n",
      "inorganic 0.86 cloruro de propilo\n",
      "1/1 [==============================] - 0s 36ms/step\n",
      "inorganic 0.86 potasiuro de boro\n",
      "1/1 [==============================] - 0s 37ms/step\n",
      "inorganic 0.30 arsano\n"
     ]
    }
   ],
   "source": [
    "predict_categories([\n",
    "    \"arsenito diacido de sodio\",\n",
    "    \"hipoclorito de sodio\",\n",
    "    \"cloruro de propilo\",\n",
    "    \"potasiuro de boro\",\n",
    "    \"arsano\",\n",
    "])"
   ],
   "metadata": {
    "collapsed": false
   }
  },
  {
   "cell_type": "markdown",
   "source": [
    "### Organic formulas:"
   ],
   "metadata": {
    "collapsed": false
   }
  },
  {
   "cell_type": "code",
   "execution_count": 89,
   "outputs": [
    {
     "name": "stdout",
     "output_type": "stream",
     "text": [
      "1/1 [==============================] - 0s 35ms/step\n",
      "inorganic 42.64 Ch3ChCh(Ch3ChCh3)ChCh\n",
      "1/1 [==============================] - 0s 36ms/step\n",
      "inorganic 14.42 H3C-CH2\n",
      "1/1 [==============================] - 0s 38ms/step\n",
      "organic 60.97 H3C-CH2-CH2\n",
      "1/1 [==============================] - 0s 74ms/step\n",
      "inorganic 15.55 h c c h\n",
      "1/1 [==============================] - 0s 46ms/step\n",
      "organic 94.97 h c c h h c c h\n",
      "1/1 [==============================] - 0s 38ms/step\n",
      "organic 96.31 CH3-CO-O-CH2-CH3\n",
      "1/1 [==============================] - 0s 35ms/step\n",
      "organic 98.63 CH3-CH2-O-CH2-CH3\n",
      "1/1 [==============================] - 0s 42ms/step\n",
      "organic 98.54 CH3-CH2-CH=CH-COOH\n",
      "1/1 [==============================] - 0s 34ms/step\n",
      "organic 99.91 ch3chch2ch(ch2ch2ch3)cooh\n",
      "1/1 [==============================] - 0s 39ms/step\n",
      "organic 100.00 ch3(Ch3)Chch2Ch(Ch3)Ch2Ch(Ch2Ch2Ch3)Ch3\n"
     ]
    }
   ],
   "source": [
    "predict_categories([\n",
    "    \"Ch3ChCh(Ch3ChCh3)ChCh\",\n",
    "    \"H3C-CH2\",\n",
    "    \"H3C-CH2-CH2\",\n",
    "    \"h c c h\",\n",
    "    \"h c c h h c c h\",\n",
    "    \"CH3-CO-O-CH2-CH3\",\n",
    "    \"CH3-CH2-O-CH2-CH3\",\n",
    "    \"CH3-CH2-CH=CH-COOH\",\n",
    "    \"ch3chch2ch(ch2ch2ch3)cooh\",\n",
    "    \"ch3(Ch3)Chch2Ch(Ch3)Ch2Ch(Ch2Ch2Ch3)Ch3\",\n",
    "])"
   ],
   "metadata": {
    "collapsed": false
   }
  },
  {
   "cell_type": "markdown",
   "source": [
    "### Organic names:"
   ],
   "metadata": {
    "collapsed": false
   }
  },
  {
   "cell_type": "code",
   "execution_count": 76,
   "outputs": [
    {
     "name": "stdout",
     "output_type": "stream",
     "text": [
      "1/1 [==============================] - 0s 36ms/step\n",
      "inorganic 0.30 benceno\n",
      "1/1 [==============================] - 0s 39ms/step\n",
      "inorganic 0.30 naftaleno\n",
      "1/1 [==============================] - 0s 30ms/step\n",
      "inorganic 0.30 2-cloropentanato\n",
      "1/1 [==============================] - 0s 35ms/step\n",
      "inorganic 0.86 di 2-cloropentanil éter\n",
      "1/1 [==============================] - 0s 35ms/step\n",
      "inorganic 0.51 2-bromo-2-cloropropano\n",
      "1/1 [==============================] - 0s 32ms/step\n",
      "inorganic 0.86 metanoato de isopropilo\n",
      "1/1 [==============================] - 0s 34ms/step\n",
      "inorganic 0.51 orto-difenilciclohexano\n",
      "1/1 [==============================] - 0s 36ms/step\n",
      "inorganic 1.44 2-bromo-2-cloropropil yododecil éter\n",
      "1/1 [==============================] - 0s 37ms/step\n",
      "inorganic 3.13 3-cloro-2-fluoro-hexa-1,3-dien-5-in-1-ona\n",
      "1/1 [==============================] - 0s 36ms/step\n",
      "inorganic 10.64 4-amino-2,6,6-tricloro-7,7-difluoro-89-metil-3-nitro-1,1-diyodononaconta-1,3-dien-5-ona\n"
     ]
    }
   ],
   "source": [
    "predict_categories([\n",
    "    \"benceno\",\n",
    "    \"naftaleno\",\n",
    "    \"2-cloropentanato\",\n",
    "    \"di 2-cloropentanil éter\",\n",
    "    \"2-bromo-2-cloropropano\",\n",
    "    \"metanoato de isopropilo\",\n",
    "    \"orto-difenilciclohexano\",\n",
    "    \"2-bromo-2-cloropropil yododecil éter\",\n",
    "    \"3-cloro-2-fluoro-hexa-1,3-dien-5-in-1-ona\",\n",
    "    \"4-amino-2,6,6-tricloro-7,7-difluoro-89-metil-3-nitro-1,1-diyodononaconta-1,3-dien-5-ona\",\n",
    "])"
   ],
   "metadata": {
    "collapsed": false
   }
  }
 ],
 "metadata": {
  "kernelspec": {
   "display_name": "Python 3 (ipykernel)",
   "language": "python",
   "name": "python3"
  },
  "language_info": {
   "codemirror_mode": {
    "name": "ipython",
    "version": 3
   },
   "file_extension": ".py",
   "mimetype": "text/x-python",
   "name": "python",
   "nbconvert_exporter": "python",
   "pygments_lexer": "ipython3",
   "version": "3.8.1"
  }
 },
 "nbformat": 4,
 "nbformat_minor": 5
}
