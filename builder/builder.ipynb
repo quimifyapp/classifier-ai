{
 "cells": [
  {
   "cell_type": "code",
   "execution_count": 34,
   "id": "b30b0d6b",
   "metadata": {},
   "outputs": [],
   "source": [
    "import tensorflow as tf\n",
    "from tensorflow.python.keras import layers, losses\n",
    "import matplotlib.pyplot as plt\n",
    "import os"
   ]
  },
  {
   "cell_type": "markdown",
   "id": "17a880e3",
   "metadata": {},
   "source": [
    "# Data location:"
   ]
  },
  {
   "cell_type": "code",
   "execution_count": 182,
   "outputs": [],
   "source": [
    "first_category = \"formula\"\n",
    "second_category = \"name\"\n",
    "data_folder = \"formula-name\""
   ],
   "metadata": {
    "collapsed": false
   }
  },
  {
   "cell_type": "code",
   "execution_count": 183,
   "outputs": [
    {
     "name": "stdout",
     "output_type": "stream",
     "text": [
      "In data: ['formulas.txt', 'names.txt', 'test', 'train']\n",
      "In train: ['formula', 'formulas-90%.txt', 'name', 'names-90%.txt']\n",
      "In test: ['formula', 'formulas-10%.txt', 'name', 'names-10%.txt']\n"
     ]
    }
   ],
   "source": [
    "dataset_directory = os.path.join(os.path.dirname(\"data\"), \"data\", data_folder)\n",
    "train_directory = os.path.join(dataset_directory, \"train\")\n",
    "test_directory = os.path.join(dataset_directory, \"test\")\n",
    "\n",
    "print(\"In data:\", os.listdir(dataset_directory))\n",
    "print(\"In train:\", os.listdir(train_directory))\n",
    "print(\"In test:\", os.listdir(test_directory))"
   ],
   "metadata": {
    "collapsed": false
   }
  },
  {
   "cell_type": "markdown",
   "id": "12ee3cb6",
   "metadata": {},
   "source": [
    "### Sample file:"
   ]
  },
  {
   "cell_type": "code",
   "execution_count": 184,
   "id": "c7a82a9b",
   "metadata": {},
   "outputs": [
    {
     "name": "stdout",
     "output_type": "stream",
     "text": [
      "Sample file: CHF=C(NH2)-C(O)(Br)\n",
      "\n"
     ]
    }
   ],
   "source": [
    "sample_file = os.path.join(train_directory, first_category, \"ab.txt\")\n",
    "\n",
    "print(\"Sample file:\", open(sample_file).read())"
   ]
  },
  {
   "cell_type": "markdown",
   "id": "f756c0db",
   "metadata": {},
   "source": [
    "# Data collection:"
   ]
  },
  {
   "cell_type": "code",
   "execution_count": 185,
   "id": "4386e04c",
   "metadata": {},
   "outputs": [],
   "source": [
    "seed = 32 # Random seed for data shuffling and transformations\n",
    "validation_split = 0.2 # Proportion of train data used to validate the model"
   ]
  },
  {
   "cell_type": "code",
   "execution_count": 186,
   "id": "ecc4ea5f",
   "metadata": {},
   "outputs": [
    {
     "name": "stdout",
     "output_type": "stream",
     "text": [
      "Found 486148 files belonging to 2 classes.\n",
      "Using 388919 files for training.\n"
     ]
    }
   ],
   "source": [
    "raw_train_data_source = tf.keras.utils.text_dataset_from_directory(\n",
    "    train_directory,\n",
    "    subset = \"training\",\n",
    "    seed = seed,\n",
    "    validation_split = validation_split,\n",
    ")"
   ]
  },
  {
   "cell_type": "code",
   "execution_count": 187,
   "id": "4f060c1a",
   "metadata": {
    "scrolled": true
   },
   "outputs": [
    {
     "name": "stdout",
     "output_type": "stream",
     "text": [
      "Found 486148 files belonging to 2 classes.\n",
      "Using 97229 files for validation.\n"
     ]
    }
   ],
   "source": [
    "raw_validation_data_source = tf.keras.utils.text_dataset_from_directory(\n",
    "    train_directory,\n",
    "    subset = \"validation\",\n",
    "    seed = seed,\n",
    "    validation_split = validation_split,\n",
    ")"
   ]
  },
  {
   "cell_type": "code",
   "execution_count": 188,
   "outputs": [
    {
     "name": "stdout",
     "output_type": "stream",
     "text": [
      "Found 53745 files belonging to 2 classes.\n"
     ]
    }
   ],
   "source": [
    "raw_test_data_source = tf.keras.utils.text_dataset_from_directory(\n",
    "    test_directory,\n",
    ")"
   ],
   "metadata": {
    "collapsed": false
   }
  },
  {
   "cell_type": "markdown",
   "source": [
    "# Data pre-processing:"
   ],
   "metadata": {
    "collapsed": false
   }
  },
  {
   "cell_type": "code",
   "execution_count": 189,
   "id": "de24885e",
   "metadata": {},
   "outputs": [],
   "source": [
    "def data_standardization(input_data): # CH3-CH=CH-CH(NO2)Br\n",
    "    input_data = tf.strings.lower(input_data) # ch3-ch=ch-ch(no2)br\n",
    "    input_data = tf.strings.regex_replace(input_data, \"[^a-zà-ú]\", ' ') # ch  ch ch ch no  br\n",
    "    return tf.strings.regex_replace(input_data, \"\\s+\", ' ') # ch ch ch ch no br"
   ]
  },
  {
   "cell_type": "code",
   "execution_count": 190,
   "id": "c743ab07",
   "metadata": {},
   "outputs": [],
   "source": [
    "max_features = 2048 # Sets a boundary for len(vectorize_layer.get_vocabulary())"
   ]
  },
  {
   "cell_type": "code",
   "execution_count": 191,
   "id": "a5ad8c12",
   "metadata": {},
   "outputs": [],
   "source": [
    "sequence_length = 16 # Vectorized string's dimension\n",
    "\n",
    "vectorize_layer = tf.keras.layers.TextVectorization(\n",
    "    output_mode = \"int\",\n",
    "    max_tokens = max_features,\n",
    "    standardize = data_standardization,\n",
    "    output_sequence_length = sequence_length\n",
    ")"
   ]
  },
  {
   "cell_type": "code",
   "execution_count": 192,
   "id": "960154cf",
   "metadata": {},
   "outputs": [],
   "source": [
    "# Makes a text-only dataset (without labels), then calls adapt\n",
    "train_text = raw_train_data_source.map(lambda x, y: x)\n",
    "vectorize_layer.adapt(train_text)"
   ]
  },
  {
   "cell_type": "code",
   "execution_count": 193,
   "id": "09a9aed6",
   "metadata": {},
   "outputs": [],
   "source": [
    "def vectorize_text(text, label):\n",
    "  text = tf.expand_dims(text, -1)\n",
    "  return vectorize_layer(text), label"
   ]
  },
  {
   "cell_type": "code",
   "execution_count": 194,
   "id": "6073a5e2",
   "metadata": {
    "scrolled": true
   },
   "outputs": [
    {
     "name": "stdout",
     "output_type": "stream",
     "text": [
      "Review: tf.Tensor(b'CH(NO2)(I)-O-CH=C=C=CHCl\\r\\n', shape=(), dtype=string)\n",
      "Label: formula\n",
      "Vectorized review: (<tf.Tensor: shape=(1, 16), dtype=int64, numpy=\n",
      "array([[ 2,  6, 10,  4,  2,  3,  3, 27,  0,  0,  0,  0,  0,  0,  0,  0]],\n",
      "      dtype=int64)>, <tf.Tensor: shape=(), dtype=int32, numpy=0>)\n"
     ]
    }
   ],
   "source": [
    "# Retrieves a batch of 32 reviews and labels from the dataset\n",
    "text_batch, label_batch = next(iter(raw_train_data_source))\n",
    "first_review, first_label = text_batch[0], label_batch[0]\n",
    "\n",
    "print(\"Review:\", first_review)\n",
    "print(\"Label:\", raw_train_data_source.class_names[first_label])\n",
    "print(\"Vectorized review:\", vectorize_text(first_review, first_label))"
   ]
  },
  {
   "cell_type": "code",
   "execution_count": 195,
   "id": "253bb49b",
   "metadata": {},
   "outputs": [
    {
     "name": "stdout",
     "output_type": "stream",
     "text": [
      "Vocabulary size: 2048\n"
     ]
    }
   ],
   "source": [
    "print(\"Vocabulary size:\", len(vectorize_layer.get_vocabulary()))"
   ]
  },
  {
   "cell_type": "code",
   "execution_count": 196,
   "id": "0e400c8e",
   "metadata": {},
   "outputs": [
    {
     "name": "stdout",
     "output_type": "stream",
     "text": [
      "Vocabulary: ['', 'c', 'o', 'i', 'f', 'v', 'n', 'p', 'h', 's', 'u', 'k', 'b', 'w', 'y', 'ch', 'no', 'oh', 'nh', 'cl', 'br', 'en', 'ci', 'cf', 'ol', 'in', 'co', 'cn', 'de', 'ii', 'iv', 'vi', 'io', 'so', 'po', 'cr', 'fe', 'pb', 'ni', 'pt', 'mn', 'hg', 'bi', 'sn', 'au', 'ti', 'se', 'cu', 'si', 'as', 'bo', 'sb', 'mo', 'os', 'te', 'ta', 'pd', 'nb', 'al', 'mg', 'ga', 'ag', 'sr', 'cd', 'ba', 'zn', 'li', 'ir', 'ca', 'tl', 'na', 're', 'di', 'cs', 'be', 'sc', 'rb', 'ra', 'zr', 'ru', 'fr', 'ce', 'ho', 'rh', 'la', 'pr', 'eu', 'hf', 'tc', 'sm', 'tb', 'am', 'wo', 'th', 'pu', 'ac', 'yb', 'tm', 'cm', 'vo', 'np', 'dy', 'lu', 'gd', 'er', 'cbr', 'ccl', 'chi', 'chf', 'ino', 'ona', 'cho', 'eno', 'but', 'hex', 'iii', 'oxo', 'oct', 'bis', 'non', 'dec', 'vii', 'clo', 'bro', 'oro', 'teo', 'seo', 'aso', 'mno', 'sbo', 'cro', 'sio', 'reo', 'ooh', 'tco', 'hpo', 'éter', 'inil', 'dien', 'chbr', 'chcl', 'enil', 'cooh', 'conh', 'diin', 'etil', 'diol', 'inal', 'prop', 'buta', 'enal', 'hexa', 'octa', 'pent', 'hept', 'nona', 'deca', 'tris', 'cohn', 'cinc', 'viii', 'yodo', 'boro', '[UNK]', 'bromo', 'cloro', 'nitro', 'amina', 'metil', 'amino', 'trien', 'ácido', 'diino', 'butil', 'dieno', 'triin', 'penta', 'hepta', 'hexil', 'diona', 'triol', 'óxido', 'ciano', 'cromo', 'plomo', 'cobre', 'osmio', 'undec', 'bario', 'dodec', 'talio', 'radio', 'litio', 'sodio', 'plata', 'galio', 'cesio', 'cerio', 'renio', 'rodio', 'indio', 'itrio', 'dioro', 'tulio', 'torio', 'curio', 'dioxo', 'octan', 'etano', 'hexan', 'erbio', 'eteno', 'octil', 'fluoro', 'diinil', 'dienil', 'etinil', 'trieno', 'pentil', 'propil', 'inoico', 'etenil', 'triino', 'hexaen', 'enoico', 'diinal', 'dienal', 'undeca', 'oxobut', 'octaen', 'dodeca', 'oxohex', 'yoduro', 'hierro', 'níquel', 'estaño', 'yodato', 'borato', 'uranio', 'niobio', 'calcio', 'nonaen', 'iridio', 'cadmio', 'oxooct', 'yodito', 'boruro', 'sódico', 'bárico', 'áurico', 'decaen', 'lítico', 'heptil', 'dietil', 'hafnio', 'gálico', 'césico', 'auroso', 'tridec', 'rádico', 'teluro', 'oxonon', 'holmio', 'índico', 'azufre', 'tálico', 'ítrico', 'renato', 'terbio', 'oxodec', 'hexano', 'butano', 'cúrico', 'cérico', 'tórico', 'trioro', 'túlico', 'rénico', 'hexain', 'heptan', 'bórico', 'amonio', 'triona', 'ródico', 'érbico', 'yódico', 'yodoso', 'pentan', 'dibromo', 'tetraen', 'yodobut', 'trienil', 'dicloro', 'hidroxi', 'diamina', 'pentaen', 'yodohex', 'dinitro', 'inamida', 'triinil', 'diamino', 'yodooct', 'enamida', 'yodonon', 'heptaen', 'trienal', 'yododec', 'hexaeno', 'tetrain', 'oxopent', 'etilbut', 'dimetil', 'triinal', 'sulfuro', 'oxohexa', 'hidruro', 'cloruro', 'bromuro', 'vanadio', 'sulfato', 'nitrato', 'titanio', 'cobalto', 'platino', 'etilhex', 'fosfuro', 'oxoocta', 'fosfato', 'nitruro', 'sulfito', 'paladio', 'trideca', 'carburo', 'clorato', 'fosfito', 'bismuto', 'bromato', 'cromato', 'nitrito', 'etiloct', 'oxohept', 'clorito', 'oxonona', 'octaeno', 'tántalo', 'bromito', 'potasio', 'rutenio', 'berilio', 'inodial', 'rubidio', 'pentain', 'oxodeca', 'cálcico', 'francio', 'etilnon', 'dibutil', 'crómico', 'férrico', 'cúprico', 'cíncico', 'cuproso', 'lantano', 'enodial', 'cromoso', 'oxoprop', 'ferroso', 'cromito', 'cádmico', 'carbono', 'oxobuta', 'europio', 'dióxido', 'samario', 'nonaeno', 'selenio', 'fósforo', 'tetraol', 'silicio', 'etildec', 'iterbio', 'hólmico', 'talioso', 'actinio', 'dicromo', 'decaeno', 'diplata', 'dilitio', 'cerioso', 'lutecio', 'hexakis', 'hexaino', 'ditalio', 'disodio', 'digalio', 'dicobre', 'nióbico', 'propano', 'pentano', 'irídico', 'nítrico', 'nitroso', 'diindio', 'tricinc', 'uránico', 'háfnico', 'heptano', 'dicesio', 'tulioso', 'yodoprop', 'yodohexa', 'difluoro', 'yodopent', 'nitrobut', 'yodobuta', 'yodoetil', 'yodoocta', 'yodohept', 'yodonona', 'nitrohex', 'tetraeno', 'clorobut', 'yododeca', 'nitrooct', 'bromobut', 'pentaeno', 'metilhex', 'clorohex', 'diinoico', 'dienoico', 'isobutil', 'metilbut', 'nitronon', 'tribromo', 'bromohex', 'clorooct', 'tricloro', 'metiloct', 'tetraino', 'yodoetan', 'triamina', 'hexaenil', 'etilprop', 'bromooct', 'nitrodec', 'cloronon', 'metilnon', 'oxohepta', 'etilhexa', 'fluoruro', 'bromonon', 'heptaeno', 'trinitro', 'etilpent', 'selenuro', 'telururo', 'butilbut', 'oxopenta', 'tetrakis', 'etilhept', 'aminohex', 'etilocta', 'mercurio', 'clorodec', 'triamino', 'etilbuta', 'metildec', 'peróxido', 'arsenuro', 'aminobut', 'silicuro', 'selenito', 'telurato', 'etilnona', 'telurito', 'selenato', 'pentaino', 'bromodec', 'aminooct', 'pentakis', 'magnesio', 'yodoeten', 'aluminio', 'aminonon', 'butilhex', 'circonio', 'octaenil', 'butiloct', 'trióxido', 'hexaenal', 'etildeca', 'escandio', 'etiletil', 'rubídico', 'potásico', 'monóxido', 'estáñico', 'butilnon', 'astaturo', 'plúmbico', 'berílico', 'plumboso', 'estañoso', 'paládico', 'arsénico', 'titánico', 'plutonio', 'dipentil', 'tecnecio', 'americio', 'fráncico', 'nonaenil', 'vanádico', 'diyoduro', 'tricobre', 'tetradec', 'neptunio', 'diníquel', 'dihierro', 'decaenil', 'triplomo', 'diboruro', 'aminodec', 'hexadeca', 'dipropil', 'uranioso', 'pentadec', 'lutécico', 'iridioso', 'cianobut', 'butildec', 'berkelio', 'actínico', 'triplata', 'samárico', 'európico', 'dodecaen', 'dioxobut', 'diniobio', 'trisodio', 'triradio', 'tricromo', 'tribario', 'silícico', 'heptakis', 'diuranio', 'dioxohex', 'undecaen', 'trilitio', 'niobioso', 'terbioso', 'selénico', 'nonaenal', 'itérbico', 'diholmio', 'triosmio', 'tricesio', 'teluroso', 'octaenal', 'hexainil', 'yodopenta', 'nitroprop', 'yodohepta', 'yodometil', 'nitrohexa', 'nitropent', 'fluorobut', 'tetraenil', 'nitrobuta', 'nitroetil', 'nitroocta', 'cloroprop', 'nitrohept', 'clorohexa', 'nitronona', 'bromoprop', 'fluorohex', 'cloropent', 'clorobuta', 'cloroetil', 'diyodobut', 'pentaenil', 'cloroocta', 'yodobutil', 'bromohexa', 'nitrodeca', 'bromobuta', 'metilpent', 'dienamida', 'metilhept', 'yodohexil', 'diinamida', 'isopropil', 'bromoetil', 'cloronona', 'clorohept', 'fluorooct', 'bromopent', 'bromoocta', 'isopentil', 'propilbut', 'metilocta', 'pentilbut', 'dihidroxi', 'metilnona', 'metilhexa', 'bromonona', 'metilprop', 'bromohept', 'fluoronon', 'diyodohex', 'trienoico', 'clorodeca', 'trifluoro', 'metildeca', 'tetrainil', 'tetraenal', 'propilhex', 'bromodeca', 'yodoetano', 'hidróxido', 'aminohexa', 'nitroetan', 'metiletil', 'pentilhex', 'yodobutan', 'fluorodec', 'butilprop', 'propiloct', 'etilpenta', 'metilbuta', 'manganeso', 'yodoundec', 'triinoico', 'diyodooct', 'aminoocta', 'yodohexan', 'aminopent', 'heptaenil', 'etilhepta', 'carbamoil', 'pentiloct', 'carbonato', 'aminonona', 'etilhexil', 'butilhexa', 'pentaenal', 'molibdeno', 'etilbutil', 'aminohept', 'yodododec', 'manganato', 'diyodonon', 'aminodeca', 'peryodato', 'butilpent', 'propilnon', 'butilocta', 'yodoeteno', 'wolframio', 'butilbuta', 'estroncio', 'pentilnon', 'hidrógeno', 'butilnona', 'tetradeca', 'butilhept', 'nitroeten', 'diyododec', 'argéntico', 'magnésico', 'propildec', 'alumínico', 'platinoso', 'niqueloso', 'cloroetan', 'platínico', 'yodooctan', 'niquélico', 'cobáltico', 'nitrógeno', 'bismutoso', 'tetrainal', 'oxoyodato', 'mercúrico', 'manganito', 'aminobuta', 'cobaltoso', 'pentainil', 'pentadeca', 'escándico', 'aminoprop', 'pentildec', 'butildeca', 'bismútico', 'mangánico', 'heptaenal', 'dibismuto', 'titanioso', 'dicloruro', 'anhídrido', 'manganoso', 'dihidruro', 'difosfuro', 'antimonio', 'triyoduro', 'inodioico', 'dienodial', 'paladioso', 'dinitruro', 'dibromuro', 'butiletil', 'yodooctil', 'diinodial', 'oxoundeca', 'dioxopent', 'vanadioso', 'triestaño', 'divanadio', 'disulfuro', 'dipotasio', 'cloroeten', 'circónico', 'yodononan', 'tecnécico', 'lantánico', 'dicobalto', 'enodioico', 'bromoetan', 'oxododeca', 'disprosio', 'dirubidio', 'cianohexa', 'carbonoso', 'trihierro', 'tricadmio', 'difrancio', 'cianoprop', 'carbónico', 'triníquel', 'triniobio', 'tricalcio', 'pentainal', 'bromoeten', 'tantaloso', 'iterbioso', 'gadolinio', 'fosfórico', 'europioso', 'etilundec', 'etilhexan', 'dititanio', 'arsenioso', 'yododecan', 'tecnecato', 'perrénico', 'heptadeca', 'disamario', 'difósforo', 'cianopent', 'samarioso', 'perródico', 'fosforoso', 'ditantalo', 'dilantano', 'yodononil', 'triiridio', 'tantálico', 'peryódico', 'nitrometil', 'clorometil', 'bromometil', 'nitropenta', 'fluoroprop', 'yodoetenil', 'nitrohepta', 'fluorohexa', 'inonitrilo', 'fluoropent', 'fluorobuta', 'fluoroetil', 'cloropenta', 'yodopropil', 'fluoroocta', 'clorohepta', 'enonitrilo', 'yodoetinil', 'diyodoprop', 'bromopenta', 'fluorohept', 'yodopentil', 'yodoundeca', 'metilbutil', 'fluoronona', 'bromohepta', 'nitrobutil', 'dinitrobut', 'diyodohexa', 'diyodopent', 'nitrohexil', 'metilhepta', 'propilprop', 'fluorodeca', 'pentilprop', 'hidroxibut', 'yodopropan', 'diyodoetil', 'diyodobuta', 'yodododeca', 'pentilhexa', 'diyodoocta', 'clorobutil', 'clorohexil', 'propilpent', 'trienamida', 'metilpenta', 'pentilpent', 'propilhexa', 'diclorobut', 'bromobutil', 'bromohexil', 'diyodonona', 'dinitrohex', 'hidroxihex', 'diyodohept', 'aminohepta', 'propilhept', 'pentilbuta', 'dibromobut', 'propilocta', 'metilhexil', 'propilbuta', 'pentilocta', 'propilnona', 'pentilhept', 'pentilnona', 'triinamida', 'propiletil', 'diyododeca', 'yodopentan', 'yodobutano', 'aminopenta', 'etiletenil', 'propildeca', 'yodohexano', 'yodoheptil', 'yodoheptan', 'nitroetano', 'diclorohex', 'nitrobutan', 'nitroundec', 'butilpenta', 'dinitrooct', 'pentiletil', 'etilpentil', 'perclorato', 'pentildeca', 'diyodoetan', 'butilhepta', 'hidroxioct', 'nitrohexan', 'antimonuro', 'metilhexan', 'fluoroetan', 'dibromohex', 'perbromato', 'butilhexil', 'nitrododec', 'hipoyodito', 'dinitronon', 'metilundec', 'triyodobut', 'hidroxinon', 'metilbutan', 'etilpropil', 'cloroundec', 'diaminobut', 'yodotridec', 'diclorooct', 'yodooctano', 'oxoclorato', 'clorobutan', 'triyodohex', 'nitrooctan', 'dinitrodec', 'dibromooct', 'bromoundec', 'mercurioso', 'hidroxidec', 'fluoroeten', 'dimetilhex', 'oxobromato', 'estróncico', 'dicloronon', 'nitroeteno', 'oxonitrato', 'etilundeca', 'cloroetano', 'metildodec', 'clorohexan', 'trihidruro', 'trihidroxi', 'hexaenoico', 'yodononano', 'tricloruro', 'inodiamida', 'trisulfuro', 'metiloctan', 'bromobutan', 'tetrabromo', 'yodoetanal', 'difluoruro', 'diaminohex', 'wolframato', 'tribromuro', 'tetraamina', 'dimetiloct', 'diarsenuro', 'bromohexan', 'bromododec', 'pernióbico', 'metilnonan', 'etildodeca', 'dimetilbut', 'dimercurio', 'dibromonon', 'clorododec', 'peruránico', 'diyodoeten', 'diclorodec', 'yododecano', 'tetracloro', 'nitrononan', 'dialuminio', 'oxobutanal', 'monoboruro', 'dibromodec', 'clorooctan', 'cloroeteno', 'triplatino', 'tripaladio', 'tricarburo', 'nitrooctil', 'trienodial', 'trivanadio', 'etilheptil', 'enodiamida', 'californio', 'bromoetano', 'triyodooct', 'tripotasio', 'tetranitro', 'pentaóxido', 'oxohexanal', 'aminoundec', 'triberilio', 'disprósico', 'diselenuro', 'dimetilnon', 'diaminooct', 'butilundec', 'perirídico', 'percrómico', 'monoyoduro', 'trititanio', 'trirubidio', 'tricobalto', 'tricarbono', 'tribismuto', 'oxotrideca', 'diescandio', 'clorononan', 'cianohepta', 'bromooctan', 'aminobutan', 'gadolínico', 'clorooctil', 'circonioso', 'cianopenta', 'aminododec', 'triyodonon', 'heptaóxido', 'ditelururo', 'dicirconio', 'diarsénico', 'bromoeteno', 'antimónico', 'aminooctan', 'aminohexan', 'tritántalo', 'triinodial', 'propadieno', 'oxooctanal', 'nitrodecan', 'metiloctil', 'hexayoduro', 'etilheptan', 'dimetildec', 'fluorometil', 'nitroetenil', 'fluoropenta', 'fluorohepta', 'cloroetenil', 'bromoetinil', 'nitropropil', 'cloroetinil', 'nitroetinil', 'bromoetenil', 'propadienil', 'metilpentil', 'metilpropil', 'nitropentil', 'diyodometil', 'diyodopenta', 'dinitroprop', 'diyodohepta', 'nitroundeca', 'fluorobutil', 'hidroxipent', 'difluorobut', 'fluorohexil', 'dinitropent', 'dinitrohexa', 'hidroxihexa', 'cloropropil', 'dicloroprop', 'cloropentil', 'pentilpenta', 'propilpenta', 'dinitrobuta', 'bromopropil', 'propilhepta', 'dinitroetil', 'yodopropano', 'nitropropan', 'dibromoprop', 'bromopentil', 'yodotrideca', 'hidroxiocta', 'diclorohexa', 'nitrododeca', 'pentilhepta', 'dinitroocta', 'dicloropent', 'cloroundeca', 'hidroxiprop', 'dicloroetil', 'metiletenil', 'dinitrohept', 'hidroxihept', 'difluorohex', 'diclorobuta', 'dibromohexa', 'bromoundeca', 'dinitronona', 'hidroxinona', 'dibromopent', 'hidroxibuta', 'metilundeca', 'propilbutil', 'tetraenoico', 'propilhexil', 'yodopentano', 'dinitrodeca', 'clorododeca', 'dibromoetil', 'nitroheptil', 'dibromobuta', 'nitropentan', 'diclorohept', 'butiletenil', 'yodoheptano', 'dicloroocta', 'hidroxideca', 'nitrobutano', 'bromododeca', 'dibromoocta', 'nitroheptan', 'hipoclorito', 'nitrohexano', 'hipobromito', 'difluorooct', 'dicloronona', 'metildodeca', 'isobutilbut', 'pentaenoico', 'hiposulfito', 'diyodobutil', 'fluoroundec', 'fluoroetano', 'pentilhexil', 'metilpentan', 'diyodoetano', 'fluorobutan', 'cloropropan', 'dibromohept', 'dinitroetan', 'hiponitrito', 'diclorodeca', 'diaminopent', 'triyodoprop', 'trinitrobut', 'fluorododec', 'metilbutano', 'diaminohexa', 'difluoronon', 'yodobutanal', 'triyodopent', 'dibromonona', 'fluorohexan', 'dibromodeca', 'metilhexano', 'butilpentil', 'triyodohexa', 'diyodohexil', 'oxopropanal', 'nitrotridec', 'nitrooctano', 'metilheptan', 'dioxoyodato', 'aminoundeca', 'triyodobuta', 'bromoheptil', 'cloroheptil', 'praseodimio', 'dihidróxido', 'monocarburo', 'isobutilhex', 'diaminoocta', 'triclorobut', 'dimetilpent', 'metilpropan', 'cloroheptan', 'trinitrohex', 'tetrainoico', 'mononitruro', 'dimetilhept', 'triyodoocta', 'triyodonona', 'trifluoruro', 'tribromobut', 'bromopropan', 'metilnonano', 'triyodoetil', 'fluoroeteno', 'dicloroetan', 'cloropentan', 'tritelururo', 'pervanádico', 'monofosfuro', 'metilheptil', 'diyodobutan', 'triyododeca', 'triselenuro', 'propilundec', 'nitrononano', 'monosulfuro', 'diyodoeteno', 'diaminobuta', 'metiloctano', 'diyodoundec', 'diaminoprop', 'diaminohept', 'isobutiloct', 'hexaenamida', 'bromoheptan', 'fluorooctan', 'difluorodec', 'bromopentan', 'tetrafluoro', 'dimetilocta', 'dimanganeso', 'triyodohept', 'metildecano', 'clorobutano', 'yodohexanal', 'trimercurio', 'nitroetanal', 'isobutilnon', 'etiltrideca', 'clorotridec', 'trisilicuro', 'protactinio', 'diyodododec', 'dinitroeten', 'triyodoetan', 'trinitrooct', 'monocloruro', 'butilundeca', 'aminododeca', 'propildodec', 'monobromuro', 'hidroxietan', 'diyodohexan', 'dimetilnona', 'diaminonona', 'clorohexano', 'bromohexano', 'pentilbutil', 'oxopentanal', 'metiltridec', 'dimetildeca', 'diaminodeca', 'butildodeca', 'tetrayoduro', 'pentilundec', 'monohidruro', 'bromotridec', 'antimonioso', 'aminoheptan', 'yodooctanal', 'trinitronon', 'trimagnesio', 'bromobutano', 'propilhexan', 'pentainoico', 'hiponitroso', 'fluorononan', 'dimolibdeno', 'dibromoetan', 'triclorohex', 'propiloctil', 'pentildodec', 'oxoetanoico', 'nitrodecano', 'hiporodioso', 'hiporenioso', 'hexabromuro', 'dinitrógeno', 'dicloroeten', 'califórnico', 'yodoundecan', 'triastaturo', 'hexahidruro', 'fluorooctil', 'fluorodecan', 'diyodooctan', 'clorooctano', 'aminopropan', 'trinitrodec', 'triaminobut', 'propiloctan', 'octaenamida', 'isobutildec', 'hexacloruro', 'heptaenoico', 'etilheptano', 'diwolframio', 'dipentilbut', 'dimetilhexa', 'fluoroetenil', 'fluoroetinil', 'dienonitrilo', 'dibromometil', 'dinitrometil', 'diclorometil', 'fluoropropil', 'diinonitrilo', 'difluoroprop', 'fluoropentil', 'dinitropenta', 'dinitrohepta', 'difluorohexa', 'hidroxihepta', 'difluoropent', 'hidroxipenta', 'fluoroundeca', 'dicloropenta', 'difluorobuta', 'diyodoetenil', 'pentiletenil', 'difluoroetil', 'propiletenil', 'dibromopenta', 'nitropropano', 'diclorohepta', 'propilpentil', 'fluorododeca', 'nitrotrideca', 'tetraenamida', 'difluoroocta', 'fluoropropan', 'yodopropanal', 'difluoronona', 'diyodopropil', 'dibromohepta', 'difluorohept', 'diyodoundeca', 'nitropentano', 'pentilundeca', 'propilundeca', 'diyodopropan', 'metasilicato', 'metaarsenato', 'diyodododeca', 'nitroheptano', 'clorotrideca', 'metiltrideca', 'isopentilbut', 'hipotelurito', 'isobutilprop', 'dihidroxibut', 'pentaenamida', 'isopropilbut', 'metilpentano', 'metaarsenito', 'fluoroheptil', 'dinitrobutil', 'difluorodeca', 'dinitroetano', 'trinitroprop', 'fluoroheptan', 'trioxoyodato', 'fluoropentan', 'triyodopenta', 'trinitrohexa', 'isobutilpent', 'diyodopentil', 'propildodeca', 'dioxosulfato', 'dioxonitrato', 'difluoroetan', 'bromotrideca', 'yodohexadeca', 'triyodometil', 'trifluorobut', 'diclorobutil', 'pentildodeca', 'dioxoclorato', 'hiposelenito', 'fluorobutano', 'pentilpropil', 'isobutilhexa', 'fluorohexano', 'dinitrohexil', 'dihidroxihex', 'diaminopenta', 'cloropropano', 'triyodohepta', 'trioxoborato', 'trinitropent', 'trihidróxido', 'isobutilbuta', 'dibromobutil', 'diaminohepta', 'yodoetanoico', 'tricloroprop', 'tribromoprop', 'propilpropil', 'nitrobutanal', 'monotelururo', 'metilheptano', 'diyodobutano', 'dioxobromato', 'trinitrobuta', 'dimetilbutil', 'monosilicuro', 'monoselenuro', 'isobutilhept', 'trinitroetil', 'metilpropano', 'diclorohexil', 'yodopentanal', 'oxobutanoico', 'isopropilhex', 'isobutilocta', 'dibromohexil', 'yodotetradec', 'tetrainamida', 'dimetilhepta', 'inodinitrilo', 'cloroheptano', 'isopentiloct', 'diyodopentan', 'trinitroocta', 'isopropiloct', 'dioxocromato', 'pertantálico', 'isopentilhex', 'diyodohexano', 'diyodoheptil', 'dinitroundec', 'dinitrobutan', 'triclorobuta', 'tribromopent', 'tribromobuta', 'propilheptil', 'metilhexanal', 'cloropentano', 'triclorohexa', 'tetrahidruro', 'metavanadato', 'isobutilnona', 'hidroxibutan', 'fluorotridec', 'dinitroeteno', 'trinitronona', 'tricloropent', 'tribromoetil', 'tetracloruro', 'monoarsenuro', 'dinitrohexan', 'diantimonuro', 'bromopropano', 'yodononadeca', 'trinitrohept', 'fluorooctano', 'enodinitrilo', 'yodoheptanal', 'triyodoetano', 'tricloroocta', 'tetrabromuro', 'yodopentadec', 'trifluorohex', 'pentilpropan', 'nitrohexanal', 'metilbutanal', 'diyodoheptan', 'dihidroxioct', 'dicloroetano', 'tricloroetil', 'isobutildeca', 'difluoroeten', 'yodoundecano', 'trinitrodeca', 'tribromohexa', 'pentilheptil', 'monofluoruro', 'isobutiletil', 'hidroxidodec', 'heptaenamida', 'bromopentano', 'yodooctadeca', 'trimanganeso', 'propilpropan', 'praseodímico', 'hipouranioso', 'hidroxiundec', 'fluorononano', 'dibromobutan', 'aminotrideca', 'triclorohept', 'hiponiobioso', 'hipoiridioso', 'hidroxihexan', 'diyodooctano', 'dienodiamida', 'dicloroundec', 'diclorobutan', 'dibromoetano', 'trinitroetan', 'tricloroetan', 'tribromohept', 'propilnonano', 'propilhexano', 'pentasulfuro', 'pentahidruro', 'pentacloruro', 'isopentilnon', 'hexafluoruro', 'dinitrododec', 'dicloroeteno', 'tricloronona', 'tribromoocta', 'tetrafosfuro', 'propilpentan', 'propiloctano', 'propilheptan', 'propildecano', 'metilundecan', 'hipoteluroso', 'fluoroetanal', 'diyodotridec', 'dimetilhexil', 'diclorohexan', 'triaminohexa', 'pentabromuro', 'isopropildec', 'fluorodecano', 'etilpropanal', 'diyodoetanal', 'dihidroxinon', 'dibromohexan', 'diaminohexan', 'clorobutanal', 'bromoheptano', 'aminopropano', 'triyodobutil', 'triestroncio', 'trienodioico', 'tribromonona', 'tribromoetan', 'triaminoprop', 'perplutónico', 'peramerícico', 'pentilheptan', 'pentainamida', 'pentafosfuro', 'oxoetanamida', 'isopentildec', 'diyodononano', 'dimetilpenta', 'difluorometil', 'difluoropenta', 'trienonitrilo', 'difluorohepta', 'dinitroetenil', 'dicloroetenil', 'triinonitrilo', 'yodotetradeca', 'dibromoetenil', 'dinitropropil', 'fluorotrideca', 'isopentilprop', 'yodopropadien', 'isopropilprop', 'diyodopropano', 'fluoropropano', 'isobutilpenta', 'nitropropanal', 'dihidroxipent', 'yodopentadeca', 'trioxonitrato', 'dinitropropan', 'dinitroundeca', 'oxopropanoico', 'hidroxiundeca', 'trioxosulfato', 'diyodotrideca', 'dihidroxihexa', 'isopropilpent', 'triclorometil', 'dibromopropil', 'trioxofosfato', 'isopropilhexa', 'trinitrometil', 'dimetilpentil', 'trioxobromato', 'tribromometil', 'isopentilpent', 'isopentilhexa', 'dinitrododeca', 'dimetilpropil', 'dicloropropil', 'oxobutanamida', 'trioxoclotato', 'isopropilbuta', 'dinitropentil', 'trifluoroprop', 'fluoroheptano', 'yodobutanoico', 'isobutilhexil', 'hidroxipropan', 'hidroxidodeca', 'trinitropenta', 'trinitrohepta', 'isopentilbuta', 'difluorobutil', 'dioxotelurato', 'dioxoarsenato', 'dicloropentil', 'dicloropropan', 'dibromopentil', 'diyodopentano', 'difluorohexil', 'nitrohexadeca', 'isobutilhepta', 'fluoropentano', 'difluoroetano', 'trifluorohexa', 'dihidroxiprop', 'trifluoropent', 'propiltrideca', 'pentiltrideca', 'isopropilocta', 'dicloroundeca', 'dioxoselenato', 'isopropilhept', 'trifluoroetil', 'isopropiletil', 'diyodoheptano', 'dibromoundeca', 'yodoheptadeca', 'dinitrobutano', 'yodoetanamida', 'tricloropenta', 'triclorohepta', 'isopentilhept', 'isopropilnona', 'isopentilocta', 'fluorobutanal', 'dinitropentan', 'dihidroxibuta', 'dibromododeca', 'trifluorobuta', 'nitroetanoico', 'dihidroxiocta', 'difluorobutan', 'isopentilnona', 'hipovanadioso', 'dinitrohexano', 'dihidroxinona', 'cloropropanal', 'trifluoroocta', 'tribromopenta', 'isopentiletil', 'tribromohepta', 'nitrotetradec', 'metilpentanal', 'isopentildeca', 'hipotitanioso', 'dibromopropan', 'nitropentanal', 'hidroxipentan', 'dihidroxihept', 'dihidroxideca', 'diclorododeca', 'tetrafluoruro', 'nitropentadec', 'nitroheptanal', 'difluoroundec', 'triyodoundeca', 'trifluorohept', 'propilheptano', 'metilpropanal', 'isopropildeca', 'hidroxietanal', 'dinitroheptil', 'difluoroeteno', 'triyodopropil', 'triyodopropan', 'trifluoronona', 'trifluoroetan', 'propilpropano', 'etiltetradeca', 'diyodobutanal', 'difluorohexan', 'diclorohexano', 'clorotetradec', 'yodohexanoico', 'trifluorodeca', 'triyodoetenil', 'trinitroetano', 'tetraarsenuro', 'pentatelururo', 'pentafluoruro', 'nitrooctadeca', 'metiltetradec', 'metilhexadeca', 'fluorohexanal', 'dinitrononano', 'dinitroheptan', 'dimetiloctano', 'dicloropentan', 'yodooctanoico', 'trihidroxibut', 'pentilpropano', 'oxopentanoico', 'oxohexanamida', 'hiposelenioso', 'hidroxitridec', 'hidroxiheptan', 'diclorooctano', 'cloroetanoico', 'triyodododeca', 'tricloroetano', 'pentaselenuro', 'oxooctanamida', 'oxoheptanoico', 'dicloroheptil', 'dicloroheptan', 'diclorobutano', 'dibromoheptil', 'diaminopropan', 'cloropentadec', 'clorohexadeca', 'bromopropanal', 'triaminopenta', 'propiloctanal', 'praseodimioso', 'pentilbutanal', 'nitrononadeca', 'metiloctadeca', 'metilheptanal', 'hexahidróxido', 'fluorooctanal', 'dipentilpenta', 'dinitrotridec', 'dinitroetanal', 'dimetilhexano', 'dimetilheptan', 'bromoyodometil', 'cloroyodometil', 'nitroyodometil', 'difluoroetenil', 'yodopropanoico', 'nitrotetradeca', 'metaantimonato', 'difluoropropil', 'yodopropadieno', 'metaantimonito', 'oxopropanamida', 'isopentilpenta', 'dinitropropano', 'nitropentadeca', 'isobutiletenil', 'yodobutanamida', 'nitropropadien', 'isopropilhepta', 'isopropilpenta', 'dihidroxihepta', 'difluoroundeca', 'difluoropropan', 'trioxotelurato', 'trifluorometil', 'trioxosilicato', 'tetraoxoyodato', 'trioxoselenato', 'trioxoarsenato', 'difluoropentil', 'fluoropropanal', 'diyodopropanal', 'hexaenonitrilo', 'nitrobutanoico', 'isopentilhepta', 'dinitrotrideca', 'dihidroxipenta', 'clorotetradeca', 'isopentilhexil', 'trifluoropenta', 'isopropilhexil', 'isopropilbutil', 'difluorododeca', 'bromotetradeca', 'isobutilpentil', 'hidroxibutanal', 'trifluorohepta', 'tetrahidróxido', 'metiltetradeca', 'dinitropentano', 'yodohexanamida', 'metilpentadeca', 'monoantimonuro', 'hidroxitrideca', 'fluorohexadeca', 'dinitroheptano', 'cloropentadeca', 'cloropropadien', 'nitroetanamida', 'difluoropentan', 'dicloropropano', 'fluorotetradec', 'fluoropentadec', 'difluoroheptil', 'nitroheptadeca', 'fluoroetanoico', 'diclorotrideca', 'tribromoetenil', 'tetraoxorenato', 'difluorobutano', 'bromopentadeca', 'yodopentanoico', 'trinitroundeca', 'tricloroetenil', 'metilhexanoico', 'metilbutanoico', 'yodoheptanoico', 'trioxovanadato', 'trinitropropil', 'nitrohexanoico', 'isobutilundeca', 'hipocirconioso', 'difluoroheptan', 'aminotetradeca', 'triyodotrideca', 'triyodopropano', 'trifluoroetano', 'tricloropropil', 'propilpropanal', 'pentahidróxido', 'isobutilheptil', 'dicloroheptano', 'dibromopropano', 'clorobutanoico', 'trinitroetenil', 'propilhexadeca', 'isobutildodeca', 'fluoroundecano', 'difluorohexano', 'cloroetanamida', 'tricloropropan', 'tribromopropil', 'pentilhexadeca', 'oxoheptanamida', 'dimetilpentano', 'diinodinitrilo', 'cloroheptadeca', 'bromopropadien', 'propiltetradec', 'propilpentanal', 'propilheptanal', 'oxopentanamida', 'octaenonitrilo', 'hidroxihexanal', 'diyodotetradec', 'diyodoetanoico', 'dinitrobutanal', 'dimetilheptano', 'yodopropadienil', 'bromonitrometil', 'cloronitrometil', 'fluoroyodometil', 'bromoclorometil', 'tetraenonitrilo', 'yodopropanamida', 'pentaenonitrilo', 'tetraoxosulfato', 'trioxocarbonato', 'nitropropanoico', 'tetraoxofosfato', 'hidroxipropanal', 'tetraoxocromato', 'etilpropadienil', 'tetraoxobromato', 'tetraoxoclorato', 'nitropropadieno', 'isopentiletenil', 'fluorotetradeca', 'isopropiletenil', 'isopropilpentil', 'fluoropropadien', 'yodopentanamida', 'diyodotetradeca', 'dioxoantimonato', 'tetrainonitrilo', 'difluoropropano', 'fluoropentadeca', 'propiltetradeca', 'trioxomanganato', 'metilhexanamida', 'dinitropropanal', 'yodoheptanamida', 'nitrobutanamida', 'metilbutanamida', 'diyodopentadeca', 'hidroxietanoico', 'fluoroetanamida', 'pentilpentadeca', 'diyodopropadien', 'nitropentanoico', 'metilpentanoico', 'difluorotrideca', 'trifluoropropil', 'trifluoroetenil', 'dihidroxiundeca', 'trifluoropropan', 'isopentilundeca', 'hidroxipentanal', 'hidroxiheptanal', 'difluoroheptano', 'cloropropadieno', 'trienodinitrilo', 'pentiltetradeca', 'pentilbutanoico', 'nitrohexanamida', 'isopropilundeca', 'dihidroxipropan', 'cloropropanoico', 'propilpentadeca', 'isopentilpropil', 'heptaenonitrilo', 'fluorobutanoico', 'difluoropentano', 'yodopropanodial', 'trinitropropano', 'tricloropropano', 'tetraantimonuro', 'metilpropanoico', 'metilheptanoico', 'isobutiltrideca', 'dihidroxidodeca', 'bromopropanoico', 'nitroheptanoico', 'isopropilpropil', 'diyodoetanamida', 'dinitrotetradec', 'dinitropentanal', 'dinitroetanoico', 'clorofluorometil', 'bromofluorometil', 'fluoronitrometil', 'nitropropadienil', 'cloropropadienil', 'bromopropadienil', 'dicloroyodometil', 'nitrodiyodometil', 'dinitroyodometil', 'bromodiyodometil', 'clorodiyodometil', 'dibromoyodometil', 'metilpropadienil', 'nitropropanamida', 'butilpropadienil', 'tetraoxotelurato', 'tetraoxoselenato', 'fluoropropanoico', 'trioxoantimonato', 'oxobutanonitrilo', 'fluoropropadieno', 'yodoetanonitrilo', 'diyodopropadieno', 'metilpentanamida', 'hidroxietanamida', 'dinitrotetradeca', 'dinitropropadien', 'diyodopropanoico', 'cloropropanamida', 'propilpropanoico', 'hidroxibutanoico', 'difluoropropanal', 'nitropentanamida', 'pentilpropanoico', 'hidroxitetradeca', 'diyodobutanamida', 'dinitropentadeca', 'hidroxihexanoico', 'fluorobutanamida', 'diclorotetradeca', 'triyodotetradeca', 'nitroheptanamida', 'hidroxipentadeca', 'hidrogenosulfato', 'nitropropanodial', 'metilheptanamida', 'hidrogenofosfato', 'fluoropentanoico', 'bromopropanamida', 'propilpentanoico', 'metilpropanamida', 'fluorobutanodial', 'dinitroheptadeca', 'dinitroetanamida', 'fluoropropadienil', 'difluoroyodometil', 'dibromoclorometil', 'dicloronitrometil', 'clorodinitrometil', 'dibromonitrometil', 'bromodiclorometil', 'bromodinitrometil', 'fluorodiyodometil', 'propilpropadienil', 'diyodopropadienil', 'pentilpropadienil', 'tetraoxomanganato', 'oxopropanonitrilo', 'yodobutanonitrilo', 'hidroxipropanoico', 'fluoropropanamida', 'nitroetanonitrilo', 'hidroxibutanamida', 'yodohexanonitrilo', 'diyodopropanamida', 'dinitropropadieno', 'oxopentanonitrilo', 'dinitropropanoico', 'difluoropropadien', 'propilpropanamida', 'pentilpropanamida', 'dihidroxipropanal', 'hidroxiheptanoico', 'dicloropropanoico', 'difluoropentadeca', 'yodooctanonitrilo', 'tetraoxotecnecato', 'difluorotetradeca', 'dinitrobutanamida', 'yodopropanonitrilo', 'difluoronitrometil', 'dibromofluorometil', 'diclorofluorometil', 'dinitropropadienil', 'bromodifluorometil', 'clorodifluorometil', 'fluorodinitrometil', 'dicloropropadienil', 'dibromopropadienil', 'hidroxipropanamida', 'nitrobutanonitrilo', 'tetraoxowolframato', 'metilhexanonitrilo', 'metilbutanonitrilo', 'yodopentanonitrilo', 'dinitropropanamida', 'yodoheptanonitrilo', 'triyodopropadienil', 'difluoropropanoico', 'difluoropropadieno', 'clorobutanonitrilo', 'nitrohexanonitrilo', 'hidroxipentanamida', 'hidroxiheptanamida', 'dibromopropanamida', 'dioxobutanonitrilo', 'cloronitroyodometil', 'bromocloroyodometil', 'bromonitroyodometil', 'difluoropropadienil', 'nitropropanonitrilo', 'nitropentanonitrilo', 'fluorobutanonitrilo', 'cloropropanonitrilo', 'metilpentanonitrilo', 'isobutilpropadienil', 'hidroxietanonitrilo', 'nitroheptanonitrilo', 'dihidroxipropanoico', 'difluoropropanamida', 'metilpropanonitrilo', 'trinitropropadienil', 'tricloropropadienil', 'propilbutanonitrilo', 'diyodobutanonitrilo', 'bromocloronitrometil', 'clorofluoroyodometil', 'bromofluoroyodometil', 'fluoronitroyodometil', 'isopropilpropadienil', 'fluoropropanonitrilo', 'hidroxibutanonitrilo', 'diyodopropanonitrilo', 'dihidroxipropanamida', 'propilpropanonitrilo', 'isopentilpropadienil', 'propilheptanonitrilo', 'dinitrobutanonitrilo', 'hidroxihexanonitrilo', 'fluoroheptanonitrilo', 'clorofluoronitrometil', 'bromoclorofluorometil', 'bromofluoronitrometil', 'hidroxipropanonitrilo', 'hidroxiheptanonitrilo', 'dinitropropanonitrilo', 'hidroxipentanonitrilo', 'difluoropropanonitrilo', 'dihidroxibutanonitrilo', 'dihidroxipropanonitrilo']\n"
     ]
    }
   ],
   "source": [
    "print(\"Vocabulary:\", sorted(vectorize_layer.get_vocabulary(), key = len))"
   ]
  },
  {
   "cell_type": "code",
   "execution_count": 197,
   "id": "d020092d",
   "metadata": {},
   "outputs": [],
   "source": [
    "train_data_source = raw_train_data_source.map(vectorize_text)\n",
    "validation_data_source = raw_validation_data_source.map(vectorize_text)\n",
    "test_data_source = raw_test_data_source.map(vectorize_text)"
   ]
  },
  {
   "cell_type": "code",
   "execution_count": 198,
   "id": "1d5efbc3",
   "metadata": {},
   "outputs": [],
   "source": [
    "AUTOTUNE = tf.data.AUTOTUNE # ??\n",
    "\n",
    "train_data_source = train_data_source.cache().prefetch(buffer_size = AUTOTUNE)\n",
    "validation_data_source = validation_data_source.cache().prefetch(buffer_size = AUTOTUNE)\n",
    "test_data_source = test_data_source.cache().prefetch(buffer_size = AUTOTUNE)"
   ]
  },
  {
   "cell_type": "markdown",
   "id": "87ef8355",
   "metadata": {},
   "source": [
    "# Model creation:"
   ]
  },
  {
   "cell_type": "code",
   "execution_count": 231,
   "id": "7d817ed8",
   "metadata": {},
   "outputs": [],
   "source": [
    "embedding_dim = 512 # ?? 16\n",
    "# For formula-inorganic-organic: the greater, the better (1024)"
   ]
  },
  {
   "cell_type": "code",
   "execution_count": 232,
   "id": "4761ffba",
   "metadata": {},
   "outputs": [],
   "source": [
    "model = tf.keras.Sequential([\n",
    "  layers.Embedding(max_features + 1, embedding_dim),\n",
    "  layers.Dropout(0.2),\n",
    "  layers.Dense(256, activation = \"relu\"),\n",
    "  layers.GlobalAveragePooling1D(),\n",
    "  layers.Dropout(0.2),\n",
    "  layers.Dense(1),\n",
    "])"
   ]
  },
  {
   "cell_type": "markdown",
   "id": "73bf238e",
   "metadata": {},
   "source": [
    "### Loss function and optimizer:"
   ]
  },
  {
   "cell_type": "code",
   "execution_count": 233,
   "id": "54dce3eb",
   "metadata": {},
   "outputs": [],
   "source": [
    "model.compile(\n",
    "    optimizer = \"adam\",\n",
    "    metrics = tf.metrics.BinaryAccuracy(threshold = 0.0),\n",
    "    loss = losses.BinaryCrossentropy(from_logits = True),\n",
    ")"
   ]
  },
  {
   "cell_type": "markdown",
   "id": "1c305297",
   "metadata": {},
   "source": [
    "### Training:"
   ]
  },
  {
   "cell_type": "code",
   "execution_count": 234,
   "id": "29d28708",
   "metadata": {
    "scrolled": false
   },
   "outputs": [
    {
     "name": "stdout",
     "output_type": "stream",
     "text": [
      "Epoch 1/5\n",
      "12154/12154 [==============================] - 208s 17ms/step - loss: 0.0056 - binary_accuracy: 0.9972 - val_loss: 0.0036 - val_binary_accuracy: 0.9978\n",
      "Epoch 2/5\n",
      "12154/12154 [==============================] - 213s 18ms/step - loss: 0.0033 - binary_accuracy: 0.9981 - val_loss: 0.0036 - val_binary_accuracy: 0.9978\n",
      "Epoch 3/5\n",
      "12154/12154 [==============================] - 211s 17ms/step - loss: 0.0032 - binary_accuracy: 0.9981 - val_loss: 0.0036 - val_binary_accuracy: 0.9978\n",
      "Epoch 4/5\n",
      "12154/12154 [==============================] - 212s 17ms/step - loss: 0.0032 - binary_accuracy: 0.9981 - val_loss: 0.0036 - val_binary_accuracy: 0.9978\n",
      "Epoch 5/5\n",
      "12154/12154 [==============================] - 224s 18ms/step - loss: 0.0031 - binary_accuracy: 0.9981 - val_loss: 0.0036 - val_binary_accuracy: 0.9978\n"
     ]
    }
   ],
   "source": [
    "epochs = 5\n",
    "\n",
    "history = model.fit(\n",
    "    epochs = epochs,\n",
    "    x = train_data_source,\n",
    "    validation_data = validation_data_source,\n",
    ")"
   ]
  },
  {
   "cell_type": "markdown",
   "id": "892bb372",
   "metadata": {},
   "source": [
    "### Compiling:"
   ]
  },
  {
   "cell_type": "code",
   "execution_count": 235,
   "id": "b70a0ca3",
   "metadata": {},
   "outputs": [],
   "source": [
    "export_model = tf.keras.Sequential([\n",
    "  vectorize_layer,\n",
    "  model,\n",
    "  layers.Activation(\"sigmoid\")\n",
    "])\n",
    "\n",
    "export_model.compile(\n",
    "    optimizer = \"adam\", \n",
    "    metrics = [\"accuracy\"],\n",
    "    loss = losses.BinaryCrossentropy(from_logits = False), \n",
    ")"
   ]
  },
  {
   "cell_type": "markdown",
   "id": "9305bb10",
   "metadata": {},
   "source": [
    "# Model evaluation:"
   ]
  },
  {
   "cell_type": "markdown",
   "id": "214e11c5",
   "metadata": {},
   "source": [
    "### Using test data:"
   ]
  },
  {
   "cell_type": "code",
   "execution_count": 236,
   "id": "c9f31b1d",
   "metadata": {},
   "outputs": [
    {
     "name": "stdout",
     "output_type": "stream",
     "text": [
      "1680/1680 [==============================] - 5s 3ms/step - loss: 0.0033 - binary_accuracy: 0.9979\n",
      "Test loss: 0.003327848855406046\n",
      "Test accuracy: 0.9978975057601929\n"
     ]
    }
   ],
   "source": [
    "loss, accuracy = model.evaluate(test_data_source)\n",
    "\n",
    "print(\"Test loss:\", loss)\n",
    "print(\"Test accuracy:\", accuracy)"
   ]
  },
  {
   "cell_type": "markdown",
   "id": "d7f52fc7",
   "metadata": {},
   "source": [
    "### Using raw test data:"
   ]
  },
  {
   "cell_type": "code",
   "execution_count": 237,
   "id": "415c6dd5",
   "metadata": {},
   "outputs": [
    {
     "name": "stdout",
     "output_type": "stream",
     "text": [
      "1680/1680 [==============================] - 17s 10ms/step - loss: 0.0033 - accuracy: 0.9979\n",
      "Raw test loss: 0.0033278490882366896\n",
      "Raw test accuracy: 0.9978975057601929\n"
     ]
    }
   ],
   "source": [
    "loss, accuracy = export_model.evaluate(raw_test_data_source)\n",
    "\n",
    "print(\"Raw test loss:\", loss)\n",
    "print(\"Raw test accuracy:\", accuracy)"
   ]
  },
  {
   "cell_type": "markdown",
   "id": "a6abe3d6",
   "metadata": {},
   "source": [
    "### Accuracy graph:"
   ]
  },
  {
   "cell_type": "code",
   "execution_count": 238,
   "id": "5dae66db",
   "metadata": {},
   "outputs": [
    {
     "data": {
      "text/plain": "<Figure size 640x480 with 1 Axes>",
      "image/png": "[encoded data removed]"
     },
     "metadata": {},
     "output_type": "display_data"
    }
   ],
   "source": [
    "history_dict = history.history\n",
    "history_dict.keys()\n",
    "\n",
    "accuracy = history_dict[\"binary_accuracy\"]\n",
    "validation_accuracy = history_dict[\"val_binary_accuracy\"]\n",
    "loss = history_dict[\"loss\"]\n",
    "validation_loss = history_dict[\"val_loss\"]\n",
    "\n",
    "epochs = range(1, len(accuracy) + 1)\n",
    "\n",
    "plt.plot(epochs, accuracy, \"bo\", label = \"Training accuracy\") # Blue dots\n",
    "plt.plot(epochs, validation_accuracy, \"b\", label = \"Validation accuracy\") # Blue line\n",
    "plt.title(\"Training and validation accuracy\")\n",
    "plt.xlabel(\"Epochs\")\n",
    "plt.ylabel(\"Accuracy\")\n",
    "plt.legend(loc = \"lower right\")\n",
    "\n",
    "plt.show()"
   ]
  },
  {
   "cell_type": "markdown",
   "id": "2bbe64ce",
   "metadata": {},
   "source": [
    "### Loss graph:"
   ]
  },
  {
   "cell_type": "code",
   "execution_count": 239,
   "outputs": [
    {
     "data": {
      "text/plain": "<Figure size 640x480 with 1 Axes>",
      "image/png": "[encoded data removed]"
     },
     "metadata": {},
     "output_type": "display_data"
    }
   ],
   "source": [
    "plt.plot(epochs, loss, \"ro\", label = \"Training loss\") # Red dots\n",
    "plt.plot(epochs, validation_loss, \"r\", label = \"Validation loss\") # Red line\n",
    "plt.title(\"Training and validation loss\")\n",
    "plt.xlabel(\"Epochs\")\n",
    "plt.ylabel(\"Loss\")\n",
    "plt.legend()\n",
    "\n",
    "plt.show()"
   ],
   "metadata": {
    "collapsed": false
   }
  },
  {
   "cell_type": "markdown",
   "source": [
    "# Model saved to a file:"
   ],
   "metadata": {
    "collapsed": false
   }
  },
  {
   "cell_type": "code",
   "execution_count": 240,
   "outputs": [],
   "source": [
    "#export_model.save(\"models/\" + first_category + \"-\" + second_category + \".h5\")"
   ],
   "metadata": {
    "collapsed": false
   }
  },
  {
   "cell_type": "markdown",
   "source": [
    "# Model predictions:"
   ],
   "metadata": {
    "collapsed": false
   }
  },
  {
   "cell_type": "code",
   "execution_count": 241,
   "outputs": [],
   "source": [
    "def predict_categories(examples):\n",
    "    for example in examples:\n",
    "        prediction = export_model.predict([example])[0][0] * 100\n",
    "        category = first_category if prediction < 50 else second_category\n",
    "        print(category, \"(\" + \"%.2f\" % prediction + \"%):\", example)"
   ],
   "metadata": {
    "collapsed": false
   }
  },
  {
   "cell_type": "markdown",
   "source": [
    "### Inorganic formulas:"
   ],
   "metadata": {
    "collapsed": false
   }
  },
  {
   "cell_type": "code",
   "execution_count": 242,
   "outputs": [
    {
     "name": "stdout",
     "output_type": "stream",
     "text": [
      "1/1 [==============================] - 0s 163ms/step\n",
      "formula (0.00%): mn2(Hpo3)3\n",
      "1/1 [==============================] - 0s 47ms/step\n",
      "formula (41.47%): NaCl\n",
      "1/1 [==============================] - 0s 38ms/step\n",
      "formula (0.00%): H2SO4\n",
      "1/1 [==============================] - 0s 41ms/step\n",
      "formula (0.00%): CL203\n",
      "1/1 [==============================] - 0s 34ms/step\n",
      "formula (41.47%): znCO2\n",
      "1/1 [==============================] - 0s 32ms/step\n",
      "formula (0.00%): H2O\n",
      "1/1 [==============================] - 0s 33ms/step\n",
      "formula (0.00%): Cl2O⁺H2O\n"
     ]
    }
   ],
   "source": [
    "inorganic_formulas = [\n",
    "    \"mn2(Hpo3)3\",\n",
    "    \"NaCl\",\n",
    "    \"H2SO4\",\n",
    "    \"CL203\",\n",
    "    \"znCO2\",\n",
    "    \"H2O\",\n",
    "    \"Cl2O⁺H2O\",\n",
    "]\n",
    "\n",
    "predict_categories(inorganic_formulas)"
   ],
   "metadata": {
    "collapsed": false
   }
  },
  {
   "cell_type": "markdown",
   "source": [
    "### Inorganic names:"
   ],
   "metadata": {
    "collapsed": false
   }
  },
  {
   "cell_type": "code",
   "execution_count": 243,
   "outputs": [
    {
     "name": "stdout",
     "output_type": "stream",
     "text": [
      "1/1 [==============================] - 0s 30ms/step\n",
      "name (100.00%): arsenito diacido de sodio\n",
      "1/1 [==============================] - 0s 32ms/step\n",
      "name (100.00%): hipoclorito de sodio\n",
      "1/1 [==============================] - 0s 31ms/step\n",
      "name (100.00%): cloruro de propilo\n",
      "1/1 [==============================] - 0s 31ms/step\n",
      "name (100.00%): potasiuro de boro\n",
      "1/1 [==============================] - 0s 32ms/step\n",
      "formula (41.47%): arsano\n"
     ]
    }
   ],
   "source": [
    "inorganic_names = [\n",
    "    \"arsenito diacido de sodio\",\n",
    "    \"hipoclorito de sodio\",\n",
    "    \"cloruro de propilo\",\n",
    "    \"potasiuro de boro\",\n",
    "    \"arsano\",\n",
    "]\n",
    "\n",
    "predict_categories(inorganic_names)"
   ],
   "metadata": {
    "collapsed": false
   }
  },
  {
   "cell_type": "markdown",
   "source": [
    "### Organic formulas:"
   ],
   "metadata": {
    "collapsed": false
   }
  },
  {
   "cell_type": "code",
   "execution_count": 244,
   "outputs": [
    {
     "name": "stdout",
     "output_type": "stream",
     "text": [
      "1/1 [==============================] - 0s 30ms/step\n",
      "formula (0.00%): Ch3ChCh(Ch3ChCh3)ChCh\n",
      "1/1 [==============================] - 0s 31ms/step\n",
      "formula (0.00%): H3C-CH2\n",
      "1/1 [==============================] - 0s 29ms/step\n",
      "formula (0.00%): H3C-CH2-CH2\n",
      "1/1 [==============================] - 0s 30ms/step\n",
      "formula (0.00%): h c c h\n",
      "1/1 [==============================] - 0s 29ms/step\n",
      "formula (0.00%): h c c h h c c h\n",
      "1/1 [==============================] - 0s 30ms/step\n",
      "formula (0.00%): CH3-CO-O-CH2-CH3\n",
      "1/1 [==============================] - 0s 31ms/step\n",
      "formula (0.00%): CH3-CH2-O-CH2-CH3\n",
      "1/1 [==============================] - 0s 35ms/step\n",
      "formula (0.00%): CH3-CH2-CH=CH-COOH\n",
      "1/1 [==============================] - 0s 33ms/step\n",
      "formula (0.00%): ch3chch2ch(ch2ch2ch3)cooh\n",
      "1/1 [==============================] - 0s 32ms/step\n",
      "formula (0.00%): ch3(Ch3)Chch2Ch(Ch3)Ch2Ch(Ch2Ch2Ch3)Ch3\n"
     ]
    }
   ],
   "source": [
    "organic_formulas = [\n",
    "    \"Ch3ChCh(Ch3ChCh3)ChCh\",\n",
    "    \"H3C-CH2\",\n",
    "    \"H3C-CH2-CH2\",\n",
    "    \"h c c h\",\n",
    "    \"h c c h h c c h\",\n",
    "    \"CH3-CO-O-CH2-CH3\",\n",
    "    \"CH3-CH2-O-CH2-CH3\",\n",
    "    \"CH3-CH2-CH=CH-COOH\",\n",
    "    \"ch3chch2ch(ch2ch2ch3)cooh\",\n",
    "    \"ch3(Ch3)Chch2Ch(Ch3)Ch2Ch(Ch2Ch2Ch3)Ch3\",\n",
    "]\n",
    "\n",
    "predict_categories(organic_formulas)"
   ],
   "metadata": {
    "collapsed": false
   }
  },
  {
   "cell_type": "markdown",
   "source": [
    "### Organic names:"
   ],
   "metadata": {
    "collapsed": false
   }
  },
  {
   "cell_type": "code",
   "execution_count": 245,
   "outputs": [
    {
     "name": "stdout",
     "output_type": "stream",
     "text": [
      "1/1 [==============================] - 0s 32ms/step\n",
      "formula (41.47%): benceno\n",
      "1/1 [==============================] - 0s 32ms/step\n",
      "formula (41.47%): naftaleno\n",
      "1/1 [==============================] - 0s 32ms/step\n",
      "formula (41.47%): 2-cloropentanato\n",
      "1/1 [==============================] - 0s 30ms/step\n",
      "name (100.00%): di 2-cloropentanil éter\n",
      "1/1 [==============================] - 0s 29ms/step\n",
      "name (100.00%): 2-bromo-2-cloropropano\n",
      "1/1 [==============================] - 0s 29ms/step\n",
      "name (100.00%): metanoato de isopropilo\n",
      "1/1 [==============================] - 0s 28ms/step\n",
      "formula (35.95%): orto-difenilciclohexano\n",
      "1/1 [==============================] - 0s 28ms/step\n",
      "name (100.00%): 2-bromo-2-cloropropil yododecil éter\n",
      "1/1 [==============================] - 0s 27ms/step\n",
      "name (100.00%): 3-cloro-2-fluoro-hexa-1,3-dien-5-in-1-ona\n",
      "1/1 [==============================] - 0s 27ms/step\n",
      "name (100.00%): 4-amino-2,6,6-tricloro-7,7-difluoro-89-metil-3-nitro-1,1-diyodononaconta-1,3-dien-5-ona\n"
     ]
    }
   ],
   "source": [
    "organic_names = [\n",
    "    \"benceno\",\n",
    "    \"naftaleno\",\n",
    "    \"2-cloropentanato\",\n",
    "    \"di 2-cloropentanil éter\",\n",
    "    \"2-bromo-2-cloropropano\",\n",
    "    \"metanoato de isopropilo\",\n",
    "    \"orto-difenilciclohexano\",\n",
    "    \"2-bromo-2-cloropropil yododecil éter\",\n",
    "    \"3-cloro-2-fluoro-hexa-1,3-dien-5-in-1-ona\",\n",
    "    \"4-amino-2,6,6-tricloro-7,7-difluoro-89-metil-3-nitro-1,1-diyodononaconta-1,3-dien-5-ona\",\n",
    "]\n",
    "\n",
    "predict_categories(organic_names)"
   ],
   "metadata": {
    "collapsed": false
   }
  }
 ],
 "metadata": {
  "kernelspec": {
   "display_name": "Python 3 (ipykernel)",
   "language": "python",
   "name": "python3"
  },
  "language_info": {
   "codemirror_mode": {
    "name": "ipython",
    "version": 3
   },
   "file_extension": ".py",
   "mimetype": "text/x-python",
   "name": "python",
   "nbconvert_exporter": "python",
   "pygments_lexer": "ipython3",
   "version": "3.8.1"
  }
 },
 "nbformat": 4,
 "nbformat_minor": 5
}
